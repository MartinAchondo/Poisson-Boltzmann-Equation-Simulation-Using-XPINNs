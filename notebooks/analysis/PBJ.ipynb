{
 "cells": [
  {
   "cell_type": "code",
   "execution_count": 1,
   "metadata": {},
   "outputs": [],
   "source": [
    "import pbj\n",
    "import xppbe"
   ]
  },
  {
   "cell_type": "code",
   "execution_count": 8,
   "metadata": {},
   "outputs": [
    {
     "name": "stdout",
     "output_type": "stream",
     "text": [
      "/home/martinachondo/.local/lib/python3.9/site-packages/pbj/mesh/ExternalSoftware/MSMS/msms -if /home/martinachondo/XPBE/notebooks/analysis/mesh_temp/arg.xyzr -of /home/martinachondo/XPBE/notebooks/analysis/mesh_temp/arg -p 1.4 -d 4.0 -no_header\n",
      "MSMS 2.6.1 started on Tulio\n",
      "Copyright M.F. Sanner (1994)\n",
      "Compilation flags -O2 -DVERBOSE -DTIMING\n",
      "INPUT  /home/martinachondo/XPBE/notebooks/analysis/mesh_temp/arg.xyzr 27 spheres 0 collision only, radii  0.600 to  1.908\n",
      "PARAM  Probe_radius  1.400 density  4.000 hdensity  3.000\n",
      "REDUCED SURFACE ...\n",
      "    RS component 0 identified 13 14 12\n",
      "    0 free edge(s) found in component 0\n",
      "    RS component  #faces  #edges #free_edges  #vertices   genus\n",
      "         0          42       63          0         20      1.5\n",
      "    Time Reduced Surface real: 0.00 user: 0.00 sys: 0.00\n",
      "ANALYTICAL SOLVENT EXCLUDED SURFACE...\n",
      "    Component   0\n",
      "        Time Surface real: 0.00 user: 0.00 sys: 0.00\n",
      "        Time Singularities real: 0.00 user: 0.00 sys: 0.00\n",
      "    SES comp.  #fac.  #edg. #s_edg. #vert. #s_vert. R_h C_h genus\n",
      "         0      128    252      0     126        0   0   0    0\n",
      "ANALYTICAL SURFACE AREA :\n",
      "    Comp. probe_radius,   reent,    toric,   contact    SES       SAS\n",
      "      0       1.400      17.975    74.593   105.479   198.047   383.835\n",
      "TRIANGULATION...\n",
      "    Component 0\n",
      "    component#, vertices,  edges,  faces, genus, density\n",
      "        0            661    1977    1318    0     3.338\n",
      "        Time Triangulation real: 0.00 user: 0.00 sys: 0.00\n",
      "NUMERICAL VOLUMES AND AREA\n",
      "    Comp. probe_radius SES_volume SES_area)\n",
      "       0      1.40      194.916    194.208\n",
      "    Total ses_volume:   194.916\n",
      "MSMS terminated normally\n",
      "Total Time real: 0.00 user: 0.00 sys: 0.00\n"
     ]
    },
    {
     "name": "stderr",
     "output_type": "stream",
     "text": [
      "WARNING: atoms 23 is completely inside atom 21\n",
      "WARNING: atoms 22 is completely inside atom 21\n",
      "WARNING: atoms 6 is completely inside atom 5\n",
      "WARNING: atoms 19 is completely inside atom 18\n",
      "WARNING: atoms 26 is completely inside atom 24\n",
      "WARNING: atoms 25 is completely inside atom 24\n"
     ]
    }
   ],
   "source": [
    "mol_object = pbj.Solute(xppbe.Molecules.arg_pqr, mesh_density=4.0, mesh_generator='msms', save_mesh_build_files=False)\n",
    "simulation = pbj.Simulation()\n",
    "simulation.add_solute(mol_object)\n",
    "\n",
    "simulation.solutes[0].ep_in = 2\n",
    "simulation.solutes[0].ep_ex = 80\n",
    "simulation.solutes[0].kappa = 0.125"
   ]
  },
  {
   "cell_type": "code",
   "execution_count": 9,
   "metadata": {},
   "outputs": [
    {
     "name": "stderr",
     "output_type": "stream",
     "text": [
      "/home/martinachondo/miniconda3/envs/pbj/lib/python3.9/site-packages/pyopencl/__init__.py:270: CompilerWarning: Non-empty compiler output encountered. Set the environment variable PYOPENCL_COMPILER_OUTPUT=1 to see more.\n",
      "  warn(\"Non-empty compiler output encountered. Set the \"\n"
     ]
    },
    {
     "data": {
      "text/plain": [
       "-133.75254220825033"
      ]
     },
     "execution_count": 9,
     "metadata": {},
     "output_type": "execute_result"
    }
   ],
   "source": [
    "simulation.calculate_solvation_energy()\n",
    "simulation.solutes[0].results['electrostatic_solvation_energy']"
   ]
  },
  {
   "cell_type": "code",
   "execution_count": null,
   "metadata": {},
   "outputs": [],
   "source": [
    "dic = {\n",
    "    'd0.5': -149.98709,\n",
    "    'd1.0': -141.54903,\n",
    "    'd2.0': -138.416198,\n",
    "    'd4.0': -133.752542\n",
    "}"
   ]
  }
 ],
 "metadata": {
  "kernelspec": {
   "display_name": "pbj",
   "language": "python",
   "name": "python3"
  },
  "language_info": {
   "codemirror_mode": {
    "name": "ipython",
    "version": 3
   },
   "file_extension": ".py",
   "mimetype": "text/x-python",
   "name": "python",
   "nbconvert_exporter": "python",
   "pygments_lexer": "ipython3",
   "version": "3.9.12"
  },
  "orig_nbformat": 4
 },
 "nbformat": 4,
 "nbformat_minor": 2
}
