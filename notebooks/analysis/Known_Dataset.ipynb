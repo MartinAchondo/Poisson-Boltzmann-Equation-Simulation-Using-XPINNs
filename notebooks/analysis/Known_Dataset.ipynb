{
 "cells": [
  {
   "cell_type": "code",
   "execution_count": 1,
   "metadata": {},
   "outputs": [],
   "source": [
    "import numpy as np\n",
    "import os\n",
    "\n",
    "os.environ['TF_CPP_MIN_LOG_LEVEL'] = '3'\n",
    "\n",
    "from xppbe.Model.Solutions_utils import Solution_utils\n",
    "from xppbe.Model.PDE_Model import PBE\n",
    "from xppbe import xppbe_path\n",
    "\n",
    "file_path = os.getcwd()"
   ]
  },
  {
   "cell_type": "code",
   "execution_count": 9,
   "metadata": {},
   "outputs": [
    {
     "name": "stdout",
     "output_type": "stream",
     "text": [
      "WARNING:tensorflow:Using a while_loop for converting StridedSlice cause Input \"input\" of op 'StridedSlice' expected to be not loop invariant.\n",
      "WARNING:tensorflow:Using a while_loop for converting Where cause there is no registered converter for this op.\n",
      "WARNING:tensorflow:Using a while_loop for converting StridedSlice cause Input \"input\" of op 'StridedSlice' expected to be not loop invariant.\n"
     ]
    },
    {
     "name": "stdout",
     "output_type": "stream",
     "text": [
      "WARNING:tensorflow:Using a while_loop for converting Where cause there is no registered converter for this op.\n",
      "WARNING:tensorflow:Using a while_loop for converting StridedSlice cause Input \"input\" of op 'StridedSlice' expected to be not loop invariant.\n",
      "WARNING:tensorflow:Using a while_loop for converting StridedSlice cause Input \"input\" of op 'StridedSlice' expected to be not loop invariant.\n"
     ]
    }
   ],
   "source": [
    "\n",
    "molecule = 'sphere_+1_D'\n",
    "\n",
    "\n",
    "Rs = {'born_ion': 1,\n",
    "      'methanol': 2.54233,\n",
    "      'methanol_E': 2.54233,\n",
    "      'arg': 5.9695745,\n",
    "      '1ubq': 24.697,\n",
    "      'sphere': 1.2,\n",
    "      'sphere_+1-1': 1.2,\n",
    "      'sphere_+1+1': 1.2,\n",
    "      'sphere_+2-1': 1.2,\n",
    "      'sphere_+1_D': 1.2,\n",
    "      'sphere_Nqs': 1.2}\n",
    "\n",
    "Model = Solution_utils()\n",
    "\n",
    "Model.main_path = xppbe_path\n",
    "Model.molecule_path = os.path.join(xppbe_path,'Molecules',molecule)\n",
    "Model.DTYPE = 'float32'\n",
    "\n",
    "Model.domain_properties = {\n",
    "        'molecule': molecule,\n",
    "        'epsilon_1':  2,\n",
    "        'epsilon_2': 80,\n",
    "        'kappa': 0.125,\n",
    "        'T' : 300 \n",
    "        }\n",
    "\n",
    "for key in Model.domain_properties:\n",
    "      setattr(Model, key, Model.domain_properties[key])\n",
    "\n",
    "Model.DTYPE = 'float32'\n",
    "Model.adim = 'kb_T_qe' #'qe_eps0_angs'\n",
    "class Mesh:\n",
    "      pass\n",
    "mesh = Mesh()\n",
    "mesh.G_sigma = 1\n",
    "Model.mesh = mesh\n",
    "Model.fields = ['react','phi']\n",
    "PBE.calculate_properties(Model,Model.domain_properties)\n",
    "PBE.get_charges(Model)\n",
    "\n",
    "Model.equation = 'linear'\n"
   ]
  },
  {
   "cell_type": "code",
   "execution_count": 13,
   "metadata": {},
   "outputs": [
    {
     "data": {
      "text/plain": [
       "-6.021156244466218"
      ]
     },
     "execution_count": 13,
     "metadata": {},
     "output_type": "execute_result"
    }
   ],
   "source": []
  },
  {
   "cell_type": "code",
   "execution_count": 3,
   "metadata": {},
   "outputs": [
    {
     "data": {
      "text/plain": [
       "[Charges(q=0.7214, x_q=array([ 0.392,  0.877, -2.219]), r_q=1.908, atom_name='C', res_name='ARG', res_num='2', ion_r_explode=3.5),\n",
       " Charges(q=-0.6013, x_q=array([ 1.262,  0.206, -2.769]), r_q=1.6612, atom_name='O', res_name='ARG', res_num='2', ion_r_explode=3.5),\n",
       " Charges(q=0.2083, x_q=array([ 0.586,  1.668, -3.938]), r_q=0.6, atom_name='H', res_name='ARG', res_num='2', ion_r_explode=3.5),\n",
       " Charges(q=0.2083, x_q=array([ 0.459,  3.157, -3.268]), r_q=0.6, atom_name='H2', res_name='ARG', res_num='2', ion_r_explode=3.5),\n",
       " Charges(q=0.2083, x_q=array([ 1.672,  2.154, -2.813]), r_q=0.6, atom_name='H3', res_name='ARG', res_num='2', ion_r_explode=3.5),\n",
       " Charges(q=0.1305, x_q=array([-0.126, -1.073, -0.834]), r_q=1.824, atom_name='N', res_name='ARG', res_num='2', ion_r_explode=3.5),\n",
       " Charges(q=0.2083, x_q=array([ 0.149, -1.142,  0.125]), r_q=0.6, atom_name='H', res_name='ARG', res_num='2', ion_r_explode=3.5),\n",
       " Charges(q=-0.0223, x_q=array([-0.486,  0.311, -1.129]), r_q=1.908, atom_name='CA', res_name='ARG', res_num='2', ion_r_explode=3.5),\n",
       " Charges(q=0.1242, x_q=array([-1.529,  0.322, -1.499]), r_q=1.1, atom_name='HA', res_name='ARG', res_num='2', ion_r_explode=3.5),\n",
       " Charges(q=0.0118, x_q=array([-0.376,  1.146,  0.179]), r_q=1.908, atom_name='CB', res_name='ARG', res_num='2', ion_r_explode=3.5),\n",
       " Charges(q=0.0226, x_q=array([0.619, 0.906, 0.623]), r_q=1.487, atom_name='HB3', res_name='ARG', res_num='2', ion_r_explode=3.5),\n",
       " Charges(q=0.0226, x_q=array([-0.376,  2.224, -0.086]), r_q=1.487, atom_name='HB2', res_name='ARG', res_num='2', ion_r_explode=3.5),\n",
       " Charges(q=0.0236, x_q=array([-1.468,  0.86 ,  1.249]), r_q=1.908, atom_name='CG', res_name='ARG', res_num='2', ion_r_explode=3.5),\n",
       " Charges(q=0.0309, x_q=array([-2.453,  1.181,  0.843]), r_q=1.487, atom_name='HG3', res_name='ARG', res_num='2', ion_r_explode=3.5),\n",
       " Charges(q=0.0309, x_q=array([-1.583, -0.237,  1.367]), r_q=1.487, atom_name='HG2', res_name='ARG', res_num='2', ion_r_explode=3.5),\n",
       " Charges(q=0.0935, x_q=array([-1.138,  1.517,  2.599]), r_q=1.908, atom_name='CD', res_name='ARG', res_num='2', ion_r_explode=3.5),\n",
       " Charges(q=0.0527, x_q=array([-1.198,  2.625,  2.497]), r_q=1.387, atom_name='HD3', res_name='ARG', res_num='2', ion_r_explode=3.5),\n",
       " Charges(q=0.0527, x_q=array([-1.895,  1.207,  3.353]), r_q=1.387, atom_name='HD2', res_name='ARG', res_num='2', ion_r_explode=3.5),\n",
       " Charges(q=-0.565, x_q=array([0.235, 1.119, 3.029]), r_q=1.824, atom_name='NE', res_name='ARG', res_num='2', ion_r_explode=3.5),\n",
       " Charges(q=0.3592, x_q=array([0.984, 1.814, 3.112]), r_q=0.6, atom_name='HE', res_name='ARG', res_num='2', ion_r_explode=3.5),\n",
       " Charges(q=0.8281, x_q=array([ 0.615, -0.116,  3.339]), r_q=1.908, atom_name='CZ', res_name='ARG', res_num='2', ion_r_explode=3.5),\n",
       " Charges(q=-0.8693, x_q=array([-0.18 , -1.149,  3.297]), r_q=1.824, atom_name='NH1', res_name='ARG', res_num='2', ion_r_explode=3.5),\n",
       " Charges(q=0.4494, x_q=array([-1.134, -0.929,  3.001]), r_q=0.6, atom_name='HH11', res_name='ARG', res_num='2', ion_r_explode=3.5),\n",
       " Charges(q=0.4494, x_q=array([ 0.188, -2.067,  3.552]), r_q=0.6, atom_name='HH12', res_name='ARG', res_num='2', ion_r_explode=3.5),\n",
       " Charges(q=-0.8693, x_q=array([ 1.844, -0.309,  3.703]), r_q=1.824, atom_name='NH2', res_name='ARG', res_num='2', ion_r_explode=3.5),\n",
       " Charges(q=0.4494, x_q=array([2.453, 0.511, 3.728]), r_q=0.6, atom_name='HH21', res_name='ARG', res_num='2', ion_r_explode=3.5),\n",
       " Charges(q=0.4494, x_q=array([ 2.116, -1.265,  3.938]), r_q=0.6, atom_name='HH22', res_name='ARG', res_num='2', ion_r_explode=3.5)]"
      ]
     },
     "execution_count": 3,
     "metadata": {},
     "output_type": "execute_result"
    }
   ],
   "source": [
    "Model.q_list"
   ]
  },
  {
   "cell_type": "code",
   "execution_count": 4,
   "metadata": {},
   "outputs": [],
   "source": [
    "dR = 0.4\n",
    "R_mol = Rs[molecule]\n",
    "Rmin = dR + R_mol\n",
    "Rmax = Rmin + 3\n",
    "\n",
    "Model.DTYPE = 'float32'"
   ]
  },
  {
   "cell_type": "markdown",
   "metadata": {},
   "source": [
    "### Calculate Solvation energy"
   ]
  },
  {
   "cell_type": "code",
   "execution_count": 5,
   "metadata": {},
   "outputs": [
    {
     "name": "stdout",
     "output_type": "stream",
     "text": [
      "[-0.0262375  -0.07895157  0.00366047 -0.05481606 -0.00050707]\n"
     ]
    },
    {
     "data": {
      "text/plain": [
       "-548.7745934585375"
      ]
     },
     "execution_count": 5,
     "metadata": {},
     "output_type": "execute_result"
    }
   ],
   "source": [
    "phi_q = Model.Spherical_Harmonics(Model.x_qs,'molecule',R_mol, N=30)\n",
    "print(phi_q)\n",
    "PBE.solvation_energy_phi_qs(Model,phi_q)"
   ]
  },
  {
   "cell_type": "markdown",
   "metadata": {},
   "source": [
    "### Create data_known file"
   ]
  },
  {
   "cell_type": "code",
   "execution_count": 7,
   "metadata": {},
   "outputs": [],
   "source": [
    "\n",
    "def calculate_print_phi(domain,method, num_points, file):\n",
    "\n",
    "    R = R_mol if domain == 'molecule' else Rmax if domain == 'solvent' else None\n",
    "    x = np.random.uniform(-R, R, num_points)\n",
    "    y = np.random.uniform(-R, R, num_points)\n",
    "    z = np.random.uniform(-R, R, num_points)\n",
    "    r = np.sqrt(x**2+y**2+z**2)\n",
    "    X = np.stack([x,y,z], axis=1).astype(np.float32)\n",
    "\n",
    "    phi_values = Model.phi_known(method,'phi',X,domain,R_mol)\n",
    "\n",
    "    if domain == 'molecule':\n",
    "        for i in range(num_points):\n",
    "            condition = 1 if r[i] <= R_mol else 2\n",
    "            if r[i]<R_mol:\n",
    "                file.write(f\"{condition} {x[i]} {y[i]} {z[i]} {phi_values[i]}\\n\")\n",
    "\n",
    "    elif domain == 'solvent':\n",
    "        for i in range(num_points):\n",
    "            condition = 1 if r[i] <= R_mol else 2\n",
    "            if r[i]>Rmin and r[i]<Rmax:\n",
    "                file.write(f\"{condition} {x[i]} {y[i]} {z[i]} {phi_values[i]}\\n\")"
   ]
  },
  {
   "cell_type": "code",
   "execution_count": 11,
   "metadata": {},
   "outputs": [
    {
     "name": "stdout",
     "output_type": "stream",
     "text": [
      "File created\n"
     ]
    }
   ],
   "source": [
    "with open(os.path.join(file_path,molecule,'data_known.dat'), 'w') as file:\n",
    "    calculate_print_phi('solvent','G_Yukawa',2500, file)\n",
    "    # calculate_print_phi('molecule','Harmonic_spheres',300, file)\n",
    "\n",
    "print('File created')"
   ]
  },
  {
   "cell_type": "markdown",
   "metadata": {},
   "source": [
    "### Phi ENS"
   ]
  },
  {
   "cell_type": "code",
   "execution_count": 1,
   "metadata": {},
   "outputs": [
    {
     "name": "stdout",
     "output_type": "stream",
     "text": [
      "Mesh initialization ready\n"
     ]
    }
   ],
   "source": [
    "from xppbe.Post.Postcode import Postprocessing as Post_CLS\n",
    "from xppbe.Mesh.Mesh import Domain_Mesh\n",
    "from xppbe.Model.Solutions_utils import Solution_utils\n",
    "from xppbe.Model.PDE_Model import PBE\n",
    "from xppbe import xppbe_path\n",
    "import os\n",
    "import tensorflow as tf\n",
    "\n",
    "Model = Solution_utils()\n",
    "\n",
    "molecule = 'born_ion'\n",
    "\n",
    "results_path = os.path.join(os.getcwd(),'results')\n",
    "Model.results_path = results_path\n",
    "Model.main_path = xppbe_path\n",
    "Model.molecule_path = os.path.join(xppbe_path,'Molecules',molecule)\n",
    "\n",
    "\n",
    "Model.domain_properties = {\n",
    "        'molecule': molecule,\n",
    "        'epsilon_1':  2,\n",
    "        'epsilon_2': 80,\n",
    "        'kappa': 0.125,\n",
    "        'T' : 300 \n",
    "        }\n",
    "\n",
    "for key in Model.domain_properties:\n",
    "      setattr(Model, key, Model.domain_properties[key])\n",
    "\n",
    "Model.DTYPE = 'float32'\n",
    "PBE.get_charges(Model)\n",
    "Model.aprox_exp = PBE.aprox_exp\n",
    "\n",
    "\n",
    "mesh_properties = {\n",
    "        'vol_max_interior': 0.05,\n",
    "        'vol_max_exterior': 0.6,\n",
    "        'density_mol': 11.0,\n",
    "        'density_border': 0.2,\n",
    "        'dx_experimental': 0.5,\n",
    "        'mesh_generator': 'msms',\n",
    "        'dR_exterior': 6.0\n",
    "        }\n",
    "\n",
    "Mol_mesh = Domain_Mesh(Model.domain_properties['molecule'], \n",
    "                mesh_properties=mesh_properties, \n",
    "                save_points=True,\n",
    "                path=xppbe_path,\n",
    "                simulation='phi_ens',\n",
    "                results_path=results_path\n",
    "                )\n",
    "\n",
    "Post = Post_CLS(XPINN='', solution_utils=True)\n",
    "Post.PDE = Model\n",
    "Post.mesh = Mol_mesh\n",
    "Model.mesh = Mol_mesh\n",
    "Model.DTYPE = 'float32'"
   ]
  },
  {
   "cell_type": "code",
   "execution_count": 2,
   "metadata": {},
   "outputs": [],
   "source": [
    "meshes_domain = dict()\n",
    "meshes_domain['E2'] = {'domain': 'solvent', 'type': 'E2', 'file': None,'method':'mesh'}\n",
    "Post.mesh.adapt_meshes_domain(meshes_domain,Post.PDE.q_list)\n",
    "\n",
    "((X,_),flag,_)  = Post.mesh.domain_mesh_data['E2']\n"
   ]
  },
  {
   "cell_type": "code",
   "execution_count": 6,
   "metadata": {},
   "outputs": [],
   "source": [
    "X_q = list()\n",
    "for q in Model.q_list:\n",
    "    if q.atom_name in ['H','I']:\n",
    "        xq = tf.reshape(tf.constant(q.x_q, dtype=Model.DTYPE), (1,3))\n",
    "        r_q = tf.constant(q.r_q, dtype=Model.DTYPE)\n",
    "        X_q.append((xq,r_q))"
   ]
  },
  {
   "cell_type": "code",
   "execution_count": 7,
   "metadata": {},
   "outputs": [],
   "source": [
    "with open(os.path.join(Model.molecule_path,'data_experimental.dat'),'w') as file:\n",
    "    methods = ['mean','exponential']\n",
    "    for method in methods:\n",
    "        ENS = PBE.get_phi_ens(Model,'Post.model',(X,flag),X_q, method=method, pinn=False, known_method='analytic_Born_Ion')\n",
    "        file.write(f'## {method} ##\\n')\n",
    "        for j in range(len(X_q)):\n",
    "            file.write(f'{str(j+1)} {str(ENS[j].numpy())}\\n')\n",
    "        file.write('\\n')\n",
    "        "
   ]
  },
  {
   "cell_type": "code",
   "execution_count": null,
   "metadata": {},
   "outputs": [],
   "source": []
  }
 ],
 "metadata": {
  "kernelspec": {
   "display_name": "pbj",
   "language": "python",
   "name": "python3"
  },
  "language_info": {
   "codemirror_mode": {
    "name": "ipython",
    "version": 3
   },
   "file_extension": ".py",
   "mimetype": "text/x-python",
   "name": "python",
   "nbconvert_exporter": "python",
   "pygments_lexer": "ipython3",
   "version": "3.9.12"
  },
  "orig_nbformat": 4
 },
 "nbformat": 4,
 "nbformat_minor": 2
}
