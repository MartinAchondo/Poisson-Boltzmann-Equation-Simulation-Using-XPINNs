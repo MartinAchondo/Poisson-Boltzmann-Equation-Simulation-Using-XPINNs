{
 "cells": [
  {
   "cell_type": "code",
   "execution_count": 6,
   "metadata": {},
   "outputs": [],
   "source": [
    "import os\n",
    "from xppbe.Post.results_utils import *\n",
    "\n",
    "current_directory = os.getcwd()\n",
    "path_components = current_directory.split(os.path.sep)\n",
    "all_results_dir = os.path.sep.join(path_components[:-3])"
   ]
  },
  {
   "cell_type": "code",
   "execution_count": 9,
   "metadata": {},
   "outputs": [
    {
     "name": "stdout",
     "output_type": "stream",
     "text": [
      "/home/martinachondo/XPBE/.results/ant\n"
     ]
    }
   ],
   "source": [
    "molecule = 'ant'\n",
    "results_dir = os.path.join(all_results_dir,'.results',molecule)\n",
    "print(results_dir)\n",
    "df_filtered = create_df_excel(results_dir,'results_temp.xlsx')"
   ]
  },
  {
   "cell_type": "code",
   "execution_count": 11,
   "metadata": {},
   "outputs": [
    {
     "data": {
      "text/html": [
       "<div>\n",
       "<style scoped>\n",
       "    .dataframe tbody tr th:only-of-type {\n",
       "        vertical-align: middle;\n",
       "    }\n",
       "\n",
       "    .dataframe tbody tr th {\n",
       "        vertical-align: top;\n",
       "    }\n",
       "\n",
       "    .dataframe thead th {\n",
       "        text-align: right;\n",
       "    }\n",
       "</style>\n",
       "<table border=\"1\" class=\"dataframe\">\n",
       "  <thead>\n",
       "    <tr style=\"text-align: right;\">\n",
       "      <th></th>\n",
       "      <th>Gsolv_value</th>\n",
       "      <th>Loss_XPINN</th>\n",
       "      <th>Loss_NN1</th>\n",
       "      <th>Loss_NN2</th>\n",
       "      <th>Loss_Val_NN1</th>\n",
       "      <th>Loss_Val_NN2</th>\n",
       "      <th>Loss_continuity_u</th>\n",
       "      <th>Loss_continuity_du</th>\n",
       "      <th>Loss_Residual_R1</th>\n",
       "      <th>Loss_Residual_R2</th>\n",
       "      <th>Loss_Boundary_D2</th>\n",
       "      <th>Loss_Data_K2</th>\n",
       "    </tr>\n",
       "  </thead>\n",
       "  <tbody>\n",
       "    <tr>\n",
       "      <th>D1_FCNN</th>\n",
       "      <td>-4709.492</td>\n",
       "      <td>0.000228</td>\n",
       "      <td>0.000089</td>\n",
       "      <td>0.000089</td>\n",
       "      <td>0.000070</td>\n",
       "      <td>0.000071</td>\n",
       "      <td>0.000003</td>\n",
       "      <td>0.000086</td>\n",
       "      <td>8.749000e-09</td>\n",
       "      <td>3.982000e-09</td>\n",
       "      <td>7.106000e-08</td>\n",
       "      <td>0.0</td>\n",
       "    </tr>\n",
       "    <tr>\n",
       "      <th>D2_FCNN_lineal</th>\n",
       "      <td>-4721.672</td>\n",
       "      <td>0.000224</td>\n",
       "      <td>0.000088</td>\n",
       "      <td>0.000088</td>\n",
       "      <td>0.000071</td>\n",
       "      <td>0.000071</td>\n",
       "      <td>0.000002</td>\n",
       "      <td>0.000086</td>\n",
       "      <td>2.636000e-09</td>\n",
       "      <td>3.158000e-09</td>\n",
       "      <td>2.566000e-08</td>\n",
       "      <td>0.0</td>\n",
       "    </tr>\n",
       "  </tbody>\n",
       "</table>\n",
       "</div>"
      ],
      "text/plain": [
       "                Gsolv_value  Loss_XPINN  Loss_NN1  Loss_NN2  Loss_Val_NN1  \\\n",
       "D1_FCNN           -4709.492    0.000228  0.000089  0.000089      0.000070   \n",
       "D2_FCNN_lineal    -4721.672    0.000224  0.000088  0.000088      0.000071   \n",
       "\n",
       "                Loss_Val_NN2  Loss_continuity_u  Loss_continuity_du  \\\n",
       "D1_FCNN             0.000071           0.000003            0.000086   \n",
       "D2_FCNN_lineal      0.000071           0.000002            0.000086   \n",
       "\n",
       "                Loss_Residual_R1  Loss_Residual_R2  Loss_Boundary_D2  \\\n",
       "D1_FCNN             8.749000e-09      3.982000e-09      7.106000e-08   \n",
       "D2_FCNN_lineal      2.636000e-09      3.158000e-09      2.566000e-08   \n",
       "\n",
       "                Loss_Data_K2  \n",
       "D1_FCNN                  0.0  \n",
       "D2_FCNN_lineal           0.0  "
      ]
     },
     "execution_count": 11,
     "metadata": {},
     "output_type": "execute_result"
    }
   ],
   "source": [
    "df_filtered"
   ]
  },
  {
   "cell_type": "code",
   "execution_count": null,
   "metadata": {},
   "outputs": [],
   "source": []
  }
 ],
 "metadata": {
  "kernelspec": {
   "display_name": ".venv",
   "language": "python",
   "name": "python3"
  },
  "language_info": {
   "codemirror_mode": {
    "name": "ipython",
    "version": 3
   },
   "file_extension": ".py",
   "mimetype": "text/x-python",
   "name": "python",
   "nbconvert_exporter": "python",
   "pygments_lexer": "ipython3",
   "version": "3.9.12"
  },
  "orig_nbformat": 4
 },
 "nbformat": 4,
 "nbformat_minor": 2
}
