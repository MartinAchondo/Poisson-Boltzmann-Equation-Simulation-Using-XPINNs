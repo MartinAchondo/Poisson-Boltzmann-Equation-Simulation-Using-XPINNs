{
 "cells": [
  {
   "cell_type": "code",
   "execution_count": 4,
   "metadata": {},
   "outputs": [
    {
     "name": "stdout",
     "output_type": "stream",
     "text": [
      "Could not find Gmsh.Interactive plotting and shapes module not available.\n"
     ]
    }
   ],
   "source": [
    "import bempp.api\n",
    "import numpy as np"
   ]
  },
  {
   "cell_type": "code",
   "execution_count": 7,
   "metadata": {},
   "outputs": [
    {
     "ename": "RuntimeError",
     "evalue": "Gmsh is not found. Cannot generate mesh",
     "output_type": "error",
     "traceback": [
      "\u001b[1;31m---------------------------------------------------------------------------\u001b[0m",
      "\u001b[1;31mRuntimeError\u001b[0m                              Traceback (most recent call last)",
      "\u001b[1;32mc:\\Users\\achom\\Desktop\\Main\\Code\\Scientific Computing\\Physics-Neural-Networks\\PINN\\tests\\bempp.ipynb Cell 2\u001b[0m in \u001b[0;36m1\n\u001b[1;32m----> <a href='vscode-notebook-cell:/c%3A/Users/achom/Desktop/Main/Code/Scientific%20Computing/Physics-Neural-Networks/PINN/tests/bempp.ipynb#W4sZmlsZQ%3D%3D?line=0'>1</a>\u001b[0m grid \u001b[39m=\u001b[39m bempp\u001b[39m.\u001b[39;49mapi\u001b[39m.\u001b[39;49mshapes\u001b[39m.\u001b[39;49msphere(h\u001b[39m=\u001b[39;49m\u001b[39m0.1\u001b[39;49m)\n\u001b[0;32m      <a href='vscode-notebook-cell:/c%3A/Users/achom/Desktop/Main/Code/Scientific%20Computing/Physics-Neural-Networks/PINN/tests/bempp.ipynb#W4sZmlsZQ%3D%3D?line=1'>2</a>\u001b[0m grid\u001b[39m.\u001b[39mplot()\n",
      "File \u001b[1;32mc:\\Users\\achom\\Desktop\\Main\\Code\\Scientific Computing\\Physics-Neural-Networks\\PINN\\.venv\\lib\\site-packages\\bempp\\api\\shapes\\shapes.py:431\u001b[0m, in \u001b[0;36msphere\u001b[1;34m(r, origin, h)\u001b[0m\n\u001b[0;32m    417\u001b[0m \u001b[39mdef\u001b[39;00m \u001b[39msphere\u001b[39m(r\u001b[39m=\u001b[39m\u001b[39m1\u001b[39m, origin\u001b[39m=\u001b[39m(\u001b[39m0\u001b[39m, \u001b[39m0\u001b[39m, \u001b[39m0\u001b[39m), h\u001b[39m=\u001b[39m\u001b[39m0.1\u001b[39m):\n\u001b[0;32m    418\u001b[0m     \u001b[39m\"\"\"\u001b[39;00m\n\u001b[0;32m    419\u001b[0m \u001b[39m    Return a sphere grid.\u001b[39;00m\n\u001b[0;32m    420\u001b[0m \n\u001b[1;32m   (...)\u001b[0m\n\u001b[0;32m    429\u001b[0m \n\u001b[0;32m    430\u001b[0m \u001b[39m    \"\"\"\u001b[39;00m\n\u001b[1;32m--> 431\u001b[0m     \u001b[39mreturn\u001b[39;00m ellipsoid(r1\u001b[39m=\u001b[39;49mr, r2\u001b[39m=\u001b[39;49mr, r3\u001b[39m=\u001b[39;49mr, origin\u001b[39m=\u001b[39;49morigin, h\u001b[39m=\u001b[39;49mh)\n",
      "File \u001b[1;32mc:\\Users\\achom\\Desktop\\Main\\Code\\Scientific Computing\\Physics-Neural-Networks\\PINN\\.venv\\lib\\site-packages\\bempp\\api\\shapes\\shapes.py:323\u001b[0m, in \u001b[0;36mellipsoid\u001b[1;34m(r1, r2, r3, origin, h)\u001b[0m\n\u001b[0;32m    256\u001b[0m stub \u001b[39m=\u001b[39m \u001b[39m\"\"\"\u001b[39m\n\u001b[0;32m    257\u001b[0m \u001b[39mPoint(1) = \u001b[39m\u001b[39m{\u001b[39m\u001b[39morig0,orig1,orig2,cl};\u001b[39m\n\u001b[0;32m    258\u001b[0m \u001b[39mPoint(2) = \u001b[39m\u001b[39m{\u001b[39m\u001b[39morig0+r1,orig1,orig2,cl};\u001b[39m\n\u001b[1;32m   (...)\u001b[0m\n\u001b[0;32m    295\u001b[0m \u001b[39mMesh.Algorithm = 6;\u001b[39m\n\u001b[0;32m    296\u001b[0m \u001b[39m\u001b[39m\u001b[39m\"\"\"\u001b[39m\n\u001b[0;32m    298\u001b[0m geometry \u001b[39m=\u001b[39m (\n\u001b[0;32m    299\u001b[0m     \u001b[39m\"\u001b[39m\u001b[39mr1 = \u001b[39m\u001b[39m\"\u001b[39m\n\u001b[0;32m    300\u001b[0m     \u001b[39m+\u001b[39m \u001b[39mstr\u001b[39m(r1)\n\u001b[1;32m   (...)\u001b[0m\n\u001b[0;32m    320\u001b[0m     \u001b[39m+\u001b[39m stub\n\u001b[0;32m    321\u001b[0m )\n\u001b[1;32m--> 323\u001b[0m \u001b[39mreturn\u001b[39;00m __generate_grid_from_geo_string(geometry)\n",
      "File \u001b[1;32mc:\\Users\\achom\\Desktop\\Main\\Code\\Scientific Computing\\Physics-Neural-Networks\\PINN\\.venv\\lib\\site-packages\\bempp\\api\\shapes\\shapes.py:73\u001b[0m, in \u001b[0;36m__generate_grid_from_geo_string\u001b[1;34m(geo_string)\u001b[0m\n\u001b[0;32m     70\u001b[0m     fnull\u001b[39m.\u001b[39mclose()\n\u001b[0;32m     71\u001b[0m     \u001b[39mreturn\u001b[39;00m msh_name\n\u001b[1;32m---> 73\u001b[0m msh_name \u001b[39m=\u001b[39m msh_from_string(geo_string)\n\u001b[0;32m     74\u001b[0m grid \u001b[39m=\u001b[39m bempp\u001b[39m.\u001b[39mapi\u001b[39m.\u001b[39mimport_grid(msh_name)\n\u001b[0;32m     75\u001b[0m os\u001b[39m.\u001b[39mremove(msh_name)\n",
      "File \u001b[1;32mc:\\Users\\achom\\Desktop\\Main\\Code\\Scientific Computing\\Physics-Neural-Networks\\PINN\\.venv\\lib\\site-packages\\bempp\\api\\shapes\\shapes.py:56\u001b[0m, in \u001b[0;36m__generate_grid_from_geo_string.<locals>.msh_from_string\u001b[1;34m(geo_string)\u001b[0m\n\u001b[0;32m     54\u001b[0m gmsh_command \u001b[39m=\u001b[39m bempp\u001b[39m.\u001b[39mapi\u001b[39m.\u001b[39mGMSH_PATH\n\u001b[0;32m     55\u001b[0m \u001b[39mif\u001b[39;00m gmsh_command \u001b[39mis\u001b[39;00m \u001b[39mNone\u001b[39;00m:\n\u001b[1;32m---> 56\u001b[0m     \u001b[39mraise\u001b[39;00m \u001b[39mRuntimeError\u001b[39;00m(\u001b[39m\"\u001b[39m\u001b[39mGmsh is not found. Cannot generate mesh\u001b[39m\u001b[39m\"\u001b[39m)\n\u001b[0;32m     57\u001b[0m f, geo_name, msh_name \u001b[39m=\u001b[39m get_gmsh_file()\n\u001b[0;32m     58\u001b[0m f\u001b[39m.\u001b[39mwrite(geo_string)\n",
      "\u001b[1;31mRuntimeError\u001b[0m: Gmsh is not found. Cannot generate mesh"
     ]
    }
   ],
   "source": [
    "grid = bempp.api.shapes.sphere(h=0.1)\n",
    "grid.plot()"
   ]
  },
  {
   "cell_type": "code",
   "execution_count": 8,
   "metadata": {},
   "outputs": [
    {
     "ename": "RuntimeError",
     "evalue": "Gmsh is not found. Cannot generate mesh",
     "output_type": "error",
     "traceback": [
      "\u001b[1;31m---------------------------------------------------------------------------\u001b[0m",
      "\u001b[1;31mRuntimeError\u001b[0m                              Traceback (most recent call last)",
      "\u001b[1;32mc:\\Users\\achom\\Desktop\\Main\\Code\\Scientific Computing\\Physics-Neural-Networks\\PINN\\tests\\bempp.ipynb Cell 3\u001b[0m in \u001b[0;36m1\n\u001b[1;32m----> <a href='vscode-notebook-cell:/c%3A/Users/achom/Desktop/Main/Code/Scientific%20Computing/Physics-Neural-Networks/PINN/tests/bempp.ipynb#W5sZmlsZQ%3D%3D?line=0'>1</a>\u001b[0m grid \u001b[39m=\u001b[39m bempp\u001b[39m.\u001b[39;49mapi\u001b[39m.\u001b[39;49mshapes\u001b[39m.\u001b[39;49msphere(h\u001b[39m=\u001b[39;49m\u001b[39m0.1\u001b[39;49m)\n",
      "File \u001b[1;32mc:\\Users\\achom\\Desktop\\Main\\Code\\Scientific Computing\\Physics-Neural-Networks\\PINN\\.venv\\lib\\site-packages\\bempp\\api\\shapes\\shapes.py:431\u001b[0m, in \u001b[0;36msphere\u001b[1;34m(r, origin, h)\u001b[0m\n\u001b[0;32m    417\u001b[0m \u001b[39mdef\u001b[39;00m \u001b[39msphere\u001b[39m(r\u001b[39m=\u001b[39m\u001b[39m1\u001b[39m, origin\u001b[39m=\u001b[39m(\u001b[39m0\u001b[39m, \u001b[39m0\u001b[39m, \u001b[39m0\u001b[39m), h\u001b[39m=\u001b[39m\u001b[39m0.1\u001b[39m):\n\u001b[0;32m    418\u001b[0m     \u001b[39m\"\"\"\u001b[39;00m\n\u001b[0;32m    419\u001b[0m \u001b[39m    Return a sphere grid.\u001b[39;00m\n\u001b[0;32m    420\u001b[0m \n\u001b[1;32m   (...)\u001b[0m\n\u001b[0;32m    429\u001b[0m \n\u001b[0;32m    430\u001b[0m \u001b[39m    \"\"\"\u001b[39;00m\n\u001b[1;32m--> 431\u001b[0m     \u001b[39mreturn\u001b[39;00m ellipsoid(r1\u001b[39m=\u001b[39;49mr, r2\u001b[39m=\u001b[39;49mr, r3\u001b[39m=\u001b[39;49mr, origin\u001b[39m=\u001b[39;49morigin, h\u001b[39m=\u001b[39;49mh)\n",
      "File \u001b[1;32mc:\\Users\\achom\\Desktop\\Main\\Code\\Scientific Computing\\Physics-Neural-Networks\\PINN\\.venv\\lib\\site-packages\\bempp\\api\\shapes\\shapes.py:323\u001b[0m, in \u001b[0;36mellipsoid\u001b[1;34m(r1, r2, r3, origin, h)\u001b[0m\n\u001b[0;32m    256\u001b[0m stub \u001b[39m=\u001b[39m \u001b[39m\"\"\"\u001b[39m\n\u001b[0;32m    257\u001b[0m \u001b[39mPoint(1) = \u001b[39m\u001b[39m{\u001b[39m\u001b[39morig0,orig1,orig2,cl};\u001b[39m\n\u001b[0;32m    258\u001b[0m \u001b[39mPoint(2) = \u001b[39m\u001b[39m{\u001b[39m\u001b[39morig0+r1,orig1,orig2,cl};\u001b[39m\n\u001b[1;32m   (...)\u001b[0m\n\u001b[0;32m    295\u001b[0m \u001b[39mMesh.Algorithm = 6;\u001b[39m\n\u001b[0;32m    296\u001b[0m \u001b[39m\u001b[39m\u001b[39m\"\"\"\u001b[39m\n\u001b[0;32m    298\u001b[0m geometry \u001b[39m=\u001b[39m (\n\u001b[0;32m    299\u001b[0m     \u001b[39m\"\u001b[39m\u001b[39mr1 = \u001b[39m\u001b[39m\"\u001b[39m\n\u001b[0;32m    300\u001b[0m     \u001b[39m+\u001b[39m \u001b[39mstr\u001b[39m(r1)\n\u001b[1;32m   (...)\u001b[0m\n\u001b[0;32m    320\u001b[0m     \u001b[39m+\u001b[39m stub\n\u001b[0;32m    321\u001b[0m )\n\u001b[1;32m--> 323\u001b[0m \u001b[39mreturn\u001b[39;00m __generate_grid_from_geo_string(geometry)\n",
      "File \u001b[1;32mc:\\Users\\achom\\Desktop\\Main\\Code\\Scientific Computing\\Physics-Neural-Networks\\PINN\\.venv\\lib\\site-packages\\bempp\\api\\shapes\\shapes.py:73\u001b[0m, in \u001b[0;36m__generate_grid_from_geo_string\u001b[1;34m(geo_string)\u001b[0m\n\u001b[0;32m     70\u001b[0m     fnull\u001b[39m.\u001b[39mclose()\n\u001b[0;32m     71\u001b[0m     \u001b[39mreturn\u001b[39;00m msh_name\n\u001b[1;32m---> 73\u001b[0m msh_name \u001b[39m=\u001b[39m msh_from_string(geo_string)\n\u001b[0;32m     74\u001b[0m grid \u001b[39m=\u001b[39m bempp\u001b[39m.\u001b[39mapi\u001b[39m.\u001b[39mimport_grid(msh_name)\n\u001b[0;32m     75\u001b[0m os\u001b[39m.\u001b[39mremove(msh_name)\n",
      "File \u001b[1;32mc:\\Users\\achom\\Desktop\\Main\\Code\\Scientific Computing\\Physics-Neural-Networks\\PINN\\.venv\\lib\\site-packages\\bempp\\api\\shapes\\shapes.py:56\u001b[0m, in \u001b[0;36m__generate_grid_from_geo_string.<locals>.msh_from_string\u001b[1;34m(geo_string)\u001b[0m\n\u001b[0;32m     54\u001b[0m gmsh_command \u001b[39m=\u001b[39m bempp\u001b[39m.\u001b[39mapi\u001b[39m.\u001b[39mGMSH_PATH\n\u001b[0;32m     55\u001b[0m \u001b[39mif\u001b[39;00m gmsh_command \u001b[39mis\u001b[39;00m \u001b[39mNone\u001b[39;00m:\n\u001b[1;32m---> 56\u001b[0m     \u001b[39mraise\u001b[39;00m \u001b[39mRuntimeError\u001b[39;00m(\u001b[39m\"\u001b[39m\u001b[39mGmsh is not found. Cannot generate mesh\u001b[39m\u001b[39m\"\u001b[39m)\n\u001b[0;32m     57\u001b[0m f, geo_name, msh_name \u001b[39m=\u001b[39m get_gmsh_file()\n\u001b[0;32m     58\u001b[0m f\u001b[39m.\u001b[39mwrite(geo_string)\n",
      "\u001b[1;31mRuntimeError\u001b[0m: Gmsh is not found. Cannot generate mesh"
     ]
    }
   ],
   "source": [
    "grid = bempp.api.shapes.sphere(h=0.1)"
   ]
  },
  {
   "cell_type": "code",
   "execution_count": null,
   "metadata": {},
   "outputs": [],
   "source": []
  }
 ],
 "metadata": {
  "kernelspec": {
   "display_name": ".venv",
   "language": "python",
   "name": "python3"
  },
  "language_info": {
   "codemirror_mode": {
    "name": "ipython",
    "version": 3
   },
   "file_extension": ".py",
   "mimetype": "text/x-python",
   "name": "python",
   "nbconvert_exporter": "python",
   "pygments_lexer": "ipython3",
   "version": "3.8.0"
  },
  "orig_nbformat": 4
 },
 "nbformat": 4,
 "nbformat_minor": 2
}
