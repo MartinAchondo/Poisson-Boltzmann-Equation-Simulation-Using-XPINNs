{
 "cells": [
  {
   "cell_type": "code",
   "execution_count": 3,
   "metadata": {},
   "outputs": [
    {
     "name": "stdout",
     "output_type": "stream",
     "text": [
      "c:\\Users\\achom\\Desktop\\Main\\Code\\Scientific-Computing\\Physics-Neural-Networks\\PINN\\tutorials\n",
      "c:\\Users\\achom\\Desktop\\Main\\Code\\Scientific-Computing\\Physics-Neural-Networks\\PINN\n"
     ]
    }
   ],
   "source": [
    "import os\n",
    "import logging\n",
    "import shutil\n",
    "import sys\n",
    "\n",
    "os.environ['TF_CPP_MIN_LOG_LEVEL'] = '3'\n",
    "import tensorflow as tf\n",
    "tf.compat.v1.logging.set_verbosity(tf.compat.v1.logging.ERROR)\n",
    "\n",
    "current_directory = os.getcwd()\n",
    "path_components = current_directory.split(os.path.sep)\n",
    "new_directory = os.path.sep.join(path_components[:-1])\n",
    "sys.path.append(new_directory)\n",
    "\n",
    "simulation_name = \"Tutorial\"\n",
    "\n",
    "print(current_directory)\n",
    "print(new_directory)\n"
   ]
  },
  {
   "cell_type": "code",
   "execution_count": null,
   "metadata": {},
   "outputs": [],
   "source": []
  }
 ],
 "metadata": {
  "kernelspec": {
   "display_name": ".venv",
   "language": "python",
   "name": "python3"
  },
  "language_info": {
   "codemirror_mode": {
    "name": "ipython",
    "version": 3
   },
   "file_extension": ".py",
   "mimetype": "text/x-python",
   "name": "python",
   "nbconvert_exporter": "python",
   "pygments_lexer": "ipython3",
   "version": "3.8.0"
  },
  "orig_nbformat": 4
 },
 "nbformat": 4,
 "nbformat_minor": 2
}
