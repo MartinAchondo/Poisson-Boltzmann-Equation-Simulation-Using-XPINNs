{
 "cells": [
  {
   "cell_type": "code",
   "execution_count": 1,
   "metadata": {},
   "outputs": [
    {
     "name": "stdout",
     "output_type": "stream",
     "text": [
      "/home/martinachondo/PINN/tutorials/tutorial.py\n"
     ]
    }
   ],
   "source": [
    "import os\n",
    "import sys\n",
    "\n",
    "current_directory = os.getcwd()\n",
    "path_components = current_directory.split(os.path.sep)\n",
    "main_directory = os.path.sep.join(path_components[:-1])\n",
    "code_directory = os.path.join(main_directory,'code')\n",
    "sys.path.insert(0,code_directory)\n",
    "simulation_name = os.path.join(current_directory,'tutorial.py')\n",
    "print(simulation_name)"
   ]
  },
  {
   "cell_type": "code",
   "execution_count": 2,
   "metadata": {},
   "outputs": [],
   "source": [
    "from Simulation import Simulation\n",
    "import tensorflow as tf\n",
    "\n",
    "# Create simulation object\n",
    "simulation = Simulation(simulation_name)\n",
    "\n",
    "# Equation to solve\n",
    "simulation.equation = 'standard'\n",
    "simulation.pbe_model = 'linear'\n",
    "\n",
    "# Domain properties\n",
    "simulation.domain_properties = {\n",
    "        'molecule': 'born_ion',\n",
    "        'epsilon_1':  1,\n",
    "        'epsilon_2': 80,\n",
    "        'kappa': 0.125,\n",
    "        'T' : 300 \n",
    "        }\n",
    "\n",
    "# Mesh properties\n",
    "simulation.mesh_properties = {\n",
    "        'vol_max_interior': 0.04,\n",
    "        'vol_max_exterior': 0.1,\n",
    "        'density_mol': 40,\n",
    "        'density_border': 4,\n",
    "        'dx_experimental': 2,\n",
    "        'N_pq': 100,\n",
    "        'G_sigma': 0.04,\n",
    "        'mesh_generator': 'msms',\n",
    "        'dR_exterior': 8\n",
    "        }\n",
    "simulation.sample_method='random_sample'\n",
    "\n",
    "# Frecuency of solvation energy calculation\n",
    "simulation.G_solve_iter=1000\n",
    "\n",
    "# Losses to add, and initial weights\n",
    "simulation.losses = ['R1','R2','D2','I','K1','K2']\n",
    "simulation.weights = {\n",
    "        'E2': 10**-10,\n",
    "        }\n",
    "\n",
    "# Weights adapting algorithm inputs\n",
    "simulation.adapt_weights = True,\n",
    "simulation.adapt_w_iter = 1000\n",
    "simulation.adapt_w_method = 'gradients'\n",
    "simulation.alpha_w = 0.7\n",
    "\n",
    "# Architecture\n",
    "simulation.network = 'xpinn'\n",
    "simulation.hyperparameters_in = {\n",
    "        'input_shape': (None,3),\n",
    "        'num_hidden_layers': 4,\n",
    "        'num_neurons_per_layer': 20,\n",
    "        'output_dim': 1,\n",
    "        'activation': 'tanh',\n",
    "        'adaptative_activation': True,\n",
    "        'architecture_Net': 'FCNN',\n",
    "        'fourier_features': True,\n",
    "        'num_fourier_features': 12\n",
    "        }\n",
    "simulation.hyperparameters_out = {\n",
    "        'input_shape': (None,3),\n",
    "        'num_hidden_layers': 4,\n",
    "        'num_neurons_per_layer': 20,\n",
    "        'output_dim': 1,\n",
    "        'activation': 'tanh',\n",
    "        'adaptative_activation': True,\n",
    "        'architecture_Net': 'FCNN',\n",
    "        'fourier_features': False\n",
    "        }\n",
    "\n",
    "# Optimizer properties\n",
    "simulation.optimizer = 'Adam'\n",
    "simulation.lr = tf.keras.optimizers.schedules.ExponentialDecay(\n",
    "                initial_learning_rate=0.001,\n",
    "                decay_steps=2000,\n",
    "                decay_rate=0.9,\n",
    "                staircase=True)\n",
    "simulation.lr_p = 0.001\n",
    "\n",
    "# Solve parameters\n",
    "simulation.N_iters = 2\n",
    "\n",
    "simulation.precondition = False\n",
    "simulation.N_precond = 3\n",
    "simulation.iters_save_model = 6\n",
    "\n"
   ]
  },
  {
   "cell_type": "code",
   "execution_count": 3,
   "metadata": {},
   "outputs": [
    {
     "name": "stdout",
     "output_type": "stream",
     "text": [
      "/home/martinachondo/PINN/code/Mesh/Mesh_softwares/MSMS/msms -if /home/martinachondo/PINN/code/Molecules/born_ion/born_ion.xyzr -of /home/martinachondo/PINN/code/Molecules/Saved_meshes/Temp/born_ion_d40 -p 1.4 -d 40 -no_header\n",
      "MSMS 2.6.1 started on tulio\n",
      "Copyright M.F. Sanner (1994)\n",
      "Compilation flags -O2 -DVERBOSE -DTIMING\n",
      "Atom 2 ignored, radius = 0.010000\n",
      "INPUT  /home/martinachondo/PINN/code/Molecules/born_ion/born_ion.xyzr 1 spheres 0 collision only, radii  1.000 to  1.000\n",
      "PARAM  Probe_radius  1.400 density 40.000 hdensity  3.000\n",
      "REDUCED SURFACE ...\n",
      "    1 free vertex (vertices) found\n",
      "    RS component  #faces  #edges #free_edges  #vertices   genus\n",
      "         0           0        1          0          1      1\n",
      "    Time Reduced Surface real: 0.00 user: 0.00 sys: 0.00\n",
      "ANALYTICAL SOLVENT EXCLUDED SURFACE...\n",
      "    Component   0\n",
      "        Time Surface real: 0.00 user: 0.00 sys: 0.00\n",
      "    SES comp.  #fac.  #edg. #s_edg. #vert. #s_vert. R_h C_h genus\n",
      "         0        1      0      0       0        0   0   0    0.5\n",
      "ANALYTICAL SURFACE AREA :\n",
      "    Comp. probe_radius,   reent,    toric,   contact    SES       SAS\n",
      "      0       1.400       0.000     0.000    12.566    12.566    72.382\n",
      "TRIANGULATION...\n",
      "    Component 0\n",
      "   contact faces isolated vertices 1113271552\n",
      "    component#, vertices,  edges,  faces, genus, density\n",
      "        0            460    1374     916    0    36.606\n",
      "        Time Triangulation real: 0.00 user: 0.00 sys: 0.00\n",
      "NUMERICAL VOLUMES AND AREA\n",
      "    Comp. probe_radius SES_volume SES_area)\n",
      "       0      1.40        4.136     12.482\n",
      "    Total ses_volume:     4.136\n",
      "MSMS terminated normally\n",
      "Total Time real: 0.02 user: 0.01 sys: 0.00\n",
      "Found 1 meshes in 1\n",
      "Number of vertices: 460\n",
      "Number of Faces: 916\n",
      "Number of Regions: 1\n",
      "Number of Holes: 0\n",
      "Region point: Tensor({0}:-0.0276667; {1}:-0.676957; {2}:0.47532)\n",
      "Warning:  Unknown switch --.\n",
      "Found 1 meshes in 1\n",
      "Delaunizing vertices...\n",
      "Delaunay seconds:  0.009415\n",
      "Creating surface mesh ...\n",
      "Surface mesh seconds:  0.001024\n",
      "Recovering boundaries...\n",
      "Boundary recovery seconds:  0.0017\n",
      "Removing exterior tetrahedra ...\n",
      "Spreading region attributes.\n",
      "Exterior tets removal seconds:  0.000285\n",
      "Recovering Delaunayness...\n",
      "Delaunay recovery seconds:  0.007305\n",
      "Refining mesh...\n",
      "Refinement seconds:  0.012649\n",
      "Smoothing vertices...\n",
      "Mesh smoothing seconds:  0.013176\n",
      "Improving mesh...\n",
      "Mesh improvement seconds:  0.000593\n",
      "\n",
      "Writing nodes.\n",
      "Writing elements.\n",
      "Writing faces.\n",
      "Writing edges.\n",
      "\n",
      "Output seconds:  0.000151\n",
      "Total running seconds:  0.046457\n",
      "\n",
      "Statistics:\n",
      "\n",
      "  Input points: 460\n",
      "  Input facets: 916\n",
      "  Input segments: 1374\n",
      "  Input holes: 0\n",
      "  Input regions: 1\n",
      "\n",
      "  Mesh points: 629\n",
      "  Mesh tetrahedra: 2325\n",
      "  Mesh faces: 5108\n",
      "  Mesh faces on exterior boundary: 916\n",
      "  Mesh faces on input facets: 916\n",
      "  Mesh edges on input segments: 1374\n",
      "  Steiner points inside domain: 169\n",
      "\n",
      "Found 1 meshes in 2\n",
      "Number of vertices: 3022\n",
      "Number of Faces: 6036\n",
      "Number of Regions: 1\n",
      "Number of Holes: 1\n",
      "Region point: Tensor({0}:-0.0276667; {1}:0.368914; {2}:-0.740898)\n",
      "Region point: Tensor({0}:-4.47854; {1}:7.06479; {2}:0.293904)\n",
      "Warning:  Unknown switch --.\n",
      "Delaunizing vertices...\n",
      "Delaunay seconds:  0.028275\n",
      "Creating surface mesh ...\n",
      "Surface mesh seconds:  0.004691\n",
      "Recovering boundaries...\n",
      "Boundary recovery seconds:  0.00698\n",
      "Removing exterior tetrahedra ...\n",
      "Spreading region attributes.\n",
      "Exterior tets removal seconds:  0.001868\n",
      "Recovering Delaunayness...\n",
      "Delaunay recovery seconds:  0.006842\n",
      "Refining mesh...\n",
      "  4028 insertions, added 4001 points, 147253 tetrahedra in queue.\n",
      "  1341 insertions, added 1320 points, 173658 tetrahedra in queue.\n",
      "  1787 insertions, added 1711 points, 191510 tetrahedra in queue.\n",
      "Refinement seconds:  0.210872\n",
      "Smoothing vertices...\n",
      "Mesh smoothing seconds:  0.414543\n",
      "Improving mesh...\n",
      "Mesh improvement seconds:  0.014732\n",
      "\n",
      "Writing nodes.\n",
      "Writing elements.\n",
      "Writing faces.\n",
      "Writing edges.\n",
      "\n",
      "Output seconds:  0.002041\n",
      "Total running seconds:  0.690968\n",
      "\n",
      "Statistics:\n",
      "\n",
      "  Input points: 3022\n",
      "  Input facets: 6036\n",
      "  Input segments: 9054\n",
      "  Input holes: 1\n",
      "  Input regions: 1\n",
      "\n",
      "  Mesh points: 11404\n",
      "  Mesh tetrahedra: 60984\n",
      "  Mesh faces: 124986\n",
      "  Mesh faces on exterior boundary: 6036\n",
      "  Mesh faces on input facets: 6036\n",
      "  Mesh edges on input segments: 9054\n",
      "  Steiner points inside domain: 8382\n",
      "\n",
      "Mesh initialization ready\n",
      "PDEs and datasets ready\n"
     ]
    }
   ],
   "source": [
    "simulation.create_simulation()\n",
    "simulation.adapt_simulation()"
   ]
  },
  {
   "cell_type": "code",
   "execution_count": 4,
   "metadata": {},
   "outputs": [
    {
     "name": "stderr",
     "output_type": "stream",
     "text": [
      "Loss: 1.0000e+02:   0%|          | 0/2 [00:00<?, ?it/s]"
     ]
    },
    {
     "name": "stderr",
     "output_type": "stream",
     "text": [
      "Loss: 1.0000e+02: 100%|██████████| 2/2 [00:14<00:00,  7.19s/it]\n"
     ]
    }
   ],
   "source": [
    "simulation.solve_model()"
   ]
  },
  {
   "cell_type": "code",
   "execution_count": 5,
   "metadata": {},
   "outputs": [
    {
     "name": "stdout",
     "output_type": "stream",
     "text": [
      "OpenMesh not available\n",
      "No module named 'openmesh'\n"
     ]
    }
   ],
   "source": [
    "Post = simulation.postprocessing(jupyter=True)"
   ]
  },
  {
   "cell_type": "code",
   "execution_count": 6,
   "metadata": {},
   "outputs": [
    {
     "data": {
      "image/png": "[encoded data removed]",
      "text/plain": [
       "<Figure size 640x480 with 1 Axes>"
      ]
     },
     "metadata": {},
     "output_type": "display_data"
    }
   ],
   "source": [
    "Post.plot_aprox_analytic()"
   ]
  },
  {
   "cell_type": "code",
   "execution_count": null,
   "metadata": {},
   "outputs": [],
   "source": []
  }
 ],
 "metadata": {
  "kernelspec": {
   "display_name": ".venv",
   "language": "python",
   "name": "python3"
  },
  "language_info": {
   "codemirror_mode": {
    "name": "ipython",
    "version": 3
   },
   "file_extension": ".py",
   "mimetype": "text/x-python",
   "name": "python",
   "nbconvert_exporter": "python",
   "pygments_lexer": "ipython3",
   "version": "3.8.18"
  },
  "orig_nbformat": 4
 },
 "nbformat": 4,
 "nbformat_minor": 2
}
