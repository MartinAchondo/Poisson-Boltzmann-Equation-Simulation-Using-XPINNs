{
 "cells": [
  {
   "cell_type": "code",
   "execution_count": null,
   "metadata": {},
   "outputs": [],
   "source": [
    "import os\n",
    "import numpy as np"
   ]
  },
  {
   "cell_type": "markdown",
   "metadata": {},
   "source": [
    "## Post processing jupyter notebook"
   ]
  },
  {
   "cell_type": "markdown",
   "metadata": {},
   "source": [
    "#### Import the simulation file"
   ]
  },
  {
   "cell_type": "code",
   "execution_count": null,
   "metadata": {},
   "outputs": [],
   "source": [
    "from xppbe import Simulation\n",
    "from xppbe import xppbe_path\n",
    "\n",
    "simulation_name = os.path.basename(os.getcwd())\n",
    "\n",
    "simulation = Simulation(f'{simulation_name}.yaml', results_path=xppbe_path)\n",
    "\n",
    "simulation.create_simulation()\n",
    "print(simulation.domain_properties)"
   ]
  },
  {
   "cell_type": "markdown",
   "metadata": {},
   "source": [
    "#### Load the model and create the postprocessing object"
   ]
  },
  {
   "cell_type": "code",
   "execution_count": null,
   "metadata": {},
   "outputs": [],
   "source": [
    "Iter = 20000\n",
    "simulation.load_model_for_Post(Iter, save=False)\n",
    "Post = simulation.Post"
   ]
  },
  {
   "cell_type": "markdown",
   "metadata": {},
   "source": [
    "#### Usage of the postprocessing object"
   ]
  },
  {
   "cell_type": "code",
   "execution_count": null,
   "metadata": {},
   "outputs": [],
   "source": [
    "Post.plot_G_solv_history();"
   ]
  },
  {
   "cell_type": "code",
   "execution_count": null,
   "metadata": {},
   "outputs": [],
   "source": [
    "Post.plot_G_solv_history(known=True, method='PBJ');"
   ]
  },
  {
   "cell_type": "code",
   "execution_count": null,
   "metadata": {},
   "outputs": [],
   "source": [
    "Post.plot_phi_line_aprox_known('PBJ', value='react', theta=0, phi=np.pi/2, N=600);"
   ]
  },
  {
   "cell_type": "code",
   "execution_count": null,
   "metadata": {},
   "outputs": [],
   "source": [
    "Post.plot_phi_line_aprox_known('PBJ', value='react', theta=np.pi/2, N=400);"
   ]
  },
  {
   "cell_type": "code",
   "execution_count": null,
   "metadata": {},
   "outputs": [],
   "source": [
    "Post.plot_phi_line_aprox_known('PBJ', value='react', theta=np.pi/2, phi=np.pi, N=300);"
   ]
  },
  {
   "cell_type": "code",
   "execution_count": null,
   "metadata": {},
   "outputs": [],
   "source": [
    "Post.plot_interface_3D(jupyter=True);"
   ]
  },
  {
   "cell_type": "code",
   "execution_count": null,
   "metadata": {},
   "outputs": [],
   "source": [
    "vertices = Post.mesh.mol_verts.astype(np.float32)\n",
    "elements = Post.mesh.mol_faces.astype(np.float32)\n",
    "phi_known = Post.phi_known('APBS','phi', vertices,'')\n",
    "Post.plot_interface_3D_known(phi_known, vertices, elements, jupyter=True);"
   ]
  }
 ],
 "metadata": {
  "kernelspec": {
   "display_name": ".venv",
   "language": "python",
   "name": "python3"
  },
  "language_info": {
   "codemirror_mode": {
    "name": "ipython",
    "version": 3
   },
   "file_extension": ".py",
   "mimetype": "text/x-python",
   "name": "python",
   "nbconvert_exporter": "python",
   "pygments_lexer": "ipython3",
   "version": "3.8.18"
  },
  "orig_nbformat": 4
 },
 "nbformat": 4,
 "nbformat_minor": 2
}
