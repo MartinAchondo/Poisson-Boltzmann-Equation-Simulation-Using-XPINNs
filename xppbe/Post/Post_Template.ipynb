{
 "cells": [
  {
   "cell_type": "code",
   "execution_count": null,
   "metadata": {},
   "outputs": [],
   "source": [
    "import os\n",
    "import numpy as np\n",
    "import matplotlib.pyplot as plt\n",
    "plt.rcParams['figure.dpi'] = 150"
   ]
  },
  {
   "cell_type": "markdown",
   "metadata": {},
   "source": [
    "## Post processing jupyter notebook"
   ]
  },
  {
   "cell_type": "markdown",
   "metadata": {},
   "source": [
    "#### Import the simulation file"
   ]
  },
  {
   "cell_type": "code",
   "execution_count": null,
   "metadata": {},
   "outputs": [],
   "source": [
    "from xppbe import Simulation\n",
    "\n",
    "simulation_name = os.path.basename(os.getcwd())\n",
    "\n",
    "simulation = Simulation(f'{simulation_name}.yaml', results_path=os.getcwd())\n",
    "\n",
    "simulation.create_simulation()\n",
    "print(simulation.domain_properties)"
   ]
  },
  {
   "cell_type": "markdown",
   "metadata": {},
   "source": [
    "#### Load the model and create the postprocessing object"
   ]
  },
  {
   "cell_type": "code",
   "execution_count": null,
   "metadata": {},
   "outputs": [],
   "source": [
    "Iter = 20000\n",
    "simulation.load_model_for_Post(Iter, save=False)\n",
    "Post = simulation.Post"
   ]
  },
  {
   "cell_type": "markdown",
   "metadata": {},
   "source": [
    "#### Usage of the postprocessing object"
   ]
  },
  {
   "cell_type": "code",
   "execution_count": null,
   "metadata": {},
   "outputs": [],
   "source": [
    "Post.plot_G_solv_history();"
   ]
  },
  {
   "cell_type": "code",
   "execution_count": null,
   "metadata": {},
   "outputs": [],
   "source": [
    "Post.plot_loss_history(domain=1);\n",
    "Post.plot_loss_history(domain=2)"
   ]
  },
  {
   "cell_type": "code",
   "execution_count": null,
   "metadata": {},
   "outputs": [],
   "source": [
    "Post.plot_phi_contour(N=100, x0=np.array([0,0,0]), n=np.array([1,0,0]), value='phi');"
   ]
  },
  {
   "cell_type": "code",
   "execution_count": null,
   "metadata": {},
   "outputs": [],
   "source": [
    "Post.plot_interface_3D(value='react',jupyter=True);"
   ]
  },
  {
   "cell_type": "markdown",
   "metadata": {},
   "source": [
    "#### Comparison known method"
   ]
  },
  {
   "cell_type": "code",
   "execution_count": null,
   "metadata": {},
   "outputs": [],
   "source": [
    "method = 'PBJ'"
   ]
  },
  {
   "cell_type": "code",
   "execution_count": null,
   "metadata": {},
   "outputs": [],
   "source": [
    "Post.plot_G_solv_history(known=True, method=method);"
   ]
  },
  {
   "cell_type": "code",
   "execution_count": null,
   "metadata": {},
   "outputs": [],
   "source": [
    "Post.plot_phi_line_aprox_known(method, value='react', theta=0, phi=np.pi/2, N=300);"
   ]
  },
  {
   "cell_type": "code",
   "execution_count": null,
   "metadata": {},
   "outputs": [],
   "source": [
    "Post.plot_phi_line_aprox_known(method, value='react', theta=np.pi/2, phi=np.pi/2, N=300);"
   ]
  },
  {
   "cell_type": "code",
   "execution_count": null,
   "metadata": {},
   "outputs": [],
   "source": [
    "Post.plot_phi_line_aprox_known(method, value='react', theta=np.pi/2, phi=np.pi, N=300);"
   ]
  },
  {
   "cell_type": "code",
   "execution_count": null,
   "metadata": {},
   "outputs": [],
   "source": [
    "vertices = Post.mesh.mol_verts.astype(np.float32)\n",
    "elements = Post.mesh.mol_faces.astype(np.float32)\n",
    "phi_known = Post.phi_known(method,'react', vertices,'solvent')\n",
    "Post.plot_interface_3D_known(phi_known, vertices, elements, jupyter=True);"
   ]
  },
  {
   "cell_type": "code",
   "execution_count": null,
   "metadata": {},
   "outputs": [],
   "source": [
    "phi_known = Post.phi_known(method,'react', vertices, flag='solvent')\n",
    "phi_xpinn = Post.get_phi(vertices,flag='molecule',model=Post.model,value='react')\n",
    "\n",
    "error = np.abs((phi_xpinn.numpy() - phi_known.numpy().reshape(-1,1))/phi_known.numpy().reshape(-1,1))\n",
    "\n",
    "Post.plot_interface_error(error, vertices, elements, scale='log', jupyter=True);"
   ]
  }
 ],
 "metadata": {
  "kernelspec": {
   "display_name": ".venv",
   "language": "python",
   "name": "python3"
  },
  "language_info": {
   "codemirror_mode": {
    "name": "ipython",
    "version": 3
   },
   "file_extension": ".py",
   "mimetype": "text/x-python",
   "name": "python",
   "nbconvert_exporter": "python",
   "pygments_lexer": "ipython3",
   "version": "3.8.18"
  },
  "orig_nbformat": 4
 },
 "nbformat": 4,
 "nbformat_minor": 2
}
