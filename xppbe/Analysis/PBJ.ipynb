{
 "cells": [
  {
   "cell_type": "code",
   "execution_count": 1,
   "metadata": {},
   "outputs": [],
   "source": [
    "import pbj\n",
    "import xppbe"
   ]
  },
  {
   "cell_type": "code",
   "execution_count": 4,
   "metadata": {},
   "outputs": [
    {
     "name": "stdout",
     "output_type": "stream",
     "text": [
      "\n",
      "\n",
      " <<INFO>> Starting NanoShaper 0.7.8\n",
      " <<INFO>> Loading atoms....\n",
      " <<INFO>> Read 27 atoms\n",
      " <<INFO>> Geometric baricenter ->  -0.136 0.5195 0.4945\n",
      " <<INFO>> Grid is 35\n",
      " <<INFO>> MAX 5.34787 6.00337 5.97837\n",
      " <<INFO>> MIN -5.61987 -4.96437 -4.98937\n",
      " <<INFO>> Perfil 90 %\n",
      " <<INFO>> Rmaxdim 10.065\n",
      " <<INFO>> Allocating memory...ok!\n",
      " <<INFO>> Initialization completed\n",
      " <<INFO>> Adjusting self intersection grid \n",
      " <<INFO>> Self intersection grid is (before) 7\n",
      " <<INFO>> Self intersection grid is 4\n",
      " <<INFO>> Allocating self intersection grid....ok!\n",
      " <<INFO>> Computing alpha shape complex....ok!\n",
      " <<INFO>> Checking 0 probes for self intersections...ok!\n",
      " <<INFO>> Surface build-up time.. 0 [s]\n",
      " <<INFO>> Probe Radius value 1.4\n",
      " <<INFO>> Number of ses cells -> 117\n",
      " <<INFO>> Number of del_point cells -> 20\n",
      " <<INFO>> Number of regular del_edge cells -> 55\n",
      " <<INFO>> Number of singular del_edge cells -> 0\n",
      " <<INFO>> Number of regular del_facet cells -> 34\n",
      " <<INFO>> Number of singular del_facet cells -> 4\n",
      " <<INFO>> Use load balancing: 1\n",
      " <<INFO>> Detected 48 logical cores\n",
      " <<INFO>> Setting 35 threads\n",
      " <<INFO>> Inside id value is 5\n",
      " <<INFO>> Ray-tracing panel 0...ok!\n",
      " <<INFO>> Ray-tracing panel 1...ok!\n",
      " <<INFO>> Ray-tracing panel 2...ok!\n",
      " <<INFO>> Ray-tracing computation time.. 0 [s]\n",
      " <<INFO>> Approximated 0 rays (0.00000 %)\n",
      " <<INFO>> Cavity detection time is 0 [s]\n",
      " <<INFO>> Assembling octrees..ok!\n",
      " <<INFO>> Surface computation time.. 0 [s]\n",
      " <<INFO>> Estimated volume 198.271 [A^3]\n",
      " <<INFO>> Triangulating Surface...\n",
      " <<INFO>> Setting 48 threads\n",
      " <<INFO>> Generating MC vertices...ok!\n",
      " <<INFO>> MC added 0 non analytical vertices\n",
      " <<INFO>> Triangles done\n",
      " <<INFO>> MC time is 0 [s]\n",
      " <<INFO>> Total, grid conformant, surface area is 197.24 [A^2]\n",
      " <<INFO>> Number of vertices 2874 number of triangles 5744\n",
      " <<INFO>> Saving in MSMS format, no patch info, no nearest atom..\n",
      " <<INFO>> Smoothing surface...\n",
      " <<INFO>> Saving in MSMS format, no patch info, no nearest atom..ok!\n",
      " <<INFO>> Total Triangulation time 0 [s]\n",
      "\n",
      " <<INFO>> If you use NanoShaper please cite these works:\n",
      " <<CITATION>> \tS. Decherchi, W. Rocchia, \"A general and Robust Ray-Casting-Based Algorithm for Triangulating Surfaces at the Nanoscale\"; PlosOne\n",
      " <<CITATION>> \tlink: http://www.plosone.org/article/metrics/info%3Adoi%2F10.1371%2Fjournal.pone.0059744\n",
      "\n",
      "\n"
     ]
    }
   ],
   "source": [
    "mol_object = pbj.Solute(xppbe.Molecules.arg_pqr, mesh_density=15, mesh_generator='nanoshaper', save_mesh_build_files=False)\n",
    "simulation = pbj.Simulation()\n",
    "simulation.add_solute(mol_object)\n",
    "\n",
    "simulation.solutes[0].ep_in = 2\n",
    "simulation.solutes[0].ep_ex = 80\n",
    "simulation.solutes[0].kappa = 0.125"
   ]
  },
  {
   "cell_type": "code",
   "execution_count": 5,
   "metadata": {},
   "outputs": [
    {
     "name": "stderr",
     "output_type": "stream",
     "text": [
      "/home/martinachondo/miniconda3/envs/pbj/lib/python3.9/site-packages/pyopencl/__init__.py:270: CompilerWarning: Non-empty compiler output encountered. Set the environment variable PYOPENCL_COMPILER_OUTPUT=1 to see more.\n",
      "  warn(\"Non-empty compiler output encountered. Set the \"\n",
      "66 warnings generated.\n",
      "66 warnings generated.\n",
      "66 warnings generated.\n",
      "66 warnings generated.\n",
      "66 warnings generated.\n",
      "66 warnings generated.\n",
      "66 warnings generated.\n",
      "66 warnings generated.\n",
      "66 warnings generated.\n",
      "66 warnings generated.\n"
     ]
    },
    {
     "data": {
      "text/plain": [
       "-130.55896438499695"
      ]
     },
     "execution_count": 5,
     "metadata": {},
     "output_type": "execute_result"
    }
   ],
   "source": [
    "simulation.calculate_solvation_energy()\n",
    "simulation.solutes[0].results['electrostatic_solvation_energy']"
   ]
  },
  {
   "cell_type": "code",
   "execution_count": 6,
   "metadata": {},
   "outputs": [
    {
     "data": {
      "text/plain": [
       "-674.97"
      ]
     },
     "execution_count": 6,
     "metadata": {},
     "output_type": "execute_result"
    }
   ],
   "source": [
    "-674.97"
   ]
  },
  {
   "cell_type": "code",
   "execution_count": null,
   "metadata": {},
   "outputs": [],
   "source": [
    "-582.66"
   ]
  },
  {
   "cell_type": "code",
   "execution_count": null,
   "metadata": {},
   "outputs": [],
   "source": [
    "densidad de 5: -577.97"
   ]
  },
  {
   "cell_type": "code",
   "execution_count": null,
   "metadata": {},
   "outputs": [],
   "source": [
    "densidad de 6: -573"
   ]
  },
  {
   "cell_type": "code",
   "execution_count": null,
   "metadata": {},
   "outputs": [],
   "source": []
  },
  {
   "cell_type": "code",
   "execution_count": 6,
   "metadata": {},
   "outputs": [
    {
     "name": "stdout",
     "output_type": "stream",
     "text": [
      "Current backend: <module 'bempp.core' from '/home/martinachondo/miniconda3/envs/pbj/lib/python3.9/site-packages/bempp/core/__init__.py'>\n"
     ]
    }
   ],
   "source": [
    "import bempp.api\n",
    "\n",
    "current_backend = bempp.core\n",
    "\n",
    "print(\"Current backend:\", current_backend)"
   ]
  }
 ],
 "metadata": {
  "kernelspec": {
   "display_name": "pbj",
   "language": "python",
   "name": "python3"
  },
  "language_info": {
   "codemirror_mode": {
    "name": "ipython",
    "version": 3
   },
   "file_extension": ".py",
   "mimetype": "text/x-python",
   "name": "python",
   "nbconvert_exporter": "python",
   "pygments_lexer": "ipython3",
   "version": "3.9.12"
  },
  "orig_nbformat": 4
 },
 "nbformat": 4,
 "nbformat_minor": 2
}
