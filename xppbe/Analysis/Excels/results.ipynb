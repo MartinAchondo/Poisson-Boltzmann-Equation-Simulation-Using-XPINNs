{
 "cells": [
  {
   "cell_type": "code",
   "execution_count": 1,
   "metadata": {},
   "outputs": [],
   "source": [
    "import os\n",
    "import pandas as pd\n",
    "from results_utils import *\n",
    "\n",
    "current_directory = os.getcwd()\n",
    "path_components = current_directory.split(os.path.sep)\n",
    "results_dir = os.path.sep.join(path_components[:-3])"
   ]
  },
  {
   "cell_type": "code",
   "execution_count": 2,
   "metadata": {},
   "outputs": [
    {
     "name": "stdout",
     "output_type": "stream",
     "text": [
      "/home/martinachondo/XPBE/.results/methanol\n"
     ]
    }
   ],
   "source": [
    "molecule = 'methanol'\n",
    "results_dir = os.path.join(results_dir,'.results',molecule)\n",
    "print(results_dir)\n",
    "df_filtered = create_df_excel(results_dir)"
   ]
  },
  {
   "cell_type": "code",
   "execution_count": 10,
   "metadata": {},
   "outputs": [
    {
     "data": {
      "text/plain": [
       "Index(['Gsolv_value', 'Loss_XPINN', 'Loss_NN1', 'Loss_NN2', 'Loss_Val_NN1',\n",
       "       'Loss_Val_NN2', 'Loss_continuity_u', 'Loss_continuity_du',\n",
       "       'Loss_Residual_R1', 'Loss_Residual_R2', 'Loss_Boundary_D2',\n",
       "       'Loss_Data_K2'],\n",
       "      dtype='object')"
      ]
     },
     "execution_count": 10,
     "metadata": {},
     "output_type": "execute_result"
    }
   ],
   "source": [
    "df_filtered.columns"
   ]
  },
  {
   "cell_type": "code",
   "execution_count": null,
   "metadata": {},
   "outputs": [],
   "source": []
  }
 ],
 "metadata": {
  "kernelspec": {
   "display_name": ".venv",
   "language": "python",
   "name": "python3"
  },
  "language_info": {
   "codemirror_mode": {
    "name": "ipython",
    "version": 3
   },
   "file_extension": ".py",
   "mimetype": "text/x-python",
   "name": "python",
   "nbconvert_exporter": "python",
   "pygments_lexer": "ipython3",
   "version": "3.8.18"
  },
  "orig_nbformat": 4
 },
 "nbformat": 4,
 "nbformat_minor": 2
}
