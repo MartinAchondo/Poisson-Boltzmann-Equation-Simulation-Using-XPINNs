{
 "cells": [
  {
   "cell_type": "code",
   "execution_count": 1,
   "metadata": {},
   "outputs": [],
   "source": [
    "import pbj"
   ]
  },
  {
   "cell_type": "code",
   "execution_count": 2,
   "metadata": {},
   "outputs": [
    {
     "name": "stdout",
     "output_type": "stream",
     "text": [
      "\n",
      "\n",
      " <<INFO>> Starting NanoShaper 0.7.8\n",
      " <<INFO>> Loading atoms....\n",
      " <<INFO>> Read 1231 atoms\n",
      " <<INFO>> Geometric baricenter ->  0 0 0\n",
      " <<INFO>> Grid is 79\n",
      " <<INFO>> MAX 21.6667 21.6667 21.6667\n",
      " <<INFO>> MIN -21.6667 -21.6667 -21.6667\n",
      " <<INFO>> Perfil 90 %\n",
      " <<INFO>> Rmaxdim 39.9394\n",
      " <<INFO>> Allocating memory...ok!\n",
      " <<INFO>> Initialization completed\n",
      " <<INFO>> Adjusting self intersection grid \n",
      " <<INFO>> Self intersection grid is (before) 28\n",
      " <<INFO>> Self intersection grid is 16\n",
      " <<INFO>> Allocating self intersection grid....ok!\n",
      " <<INFO>> Computing alpha shape complex....ok!\n",
      " <<INFO>> Checking 172 probes for self intersections...ok!\n",
      " <<INFO>> Surface build-up time.. 0 [s]\n",
      " <<INFO>> Probe Radius value 1.4\n",
      " <<INFO>> Number of ses cells -> 3167\n",
      " <<INFO>> Number of del_point cells -> 504\n",
      " <<INFO>> Number of regular del_edge cells -> 1558\n",
      " <<INFO>> Number of singular del_edge cells -> 1\n",
      " <<INFO>> Number of regular del_facet cells -> 1016\n",
      " <<INFO>> Number of singular del_facet cells -> 44\n",
      " <<INFO>> Use load balancing: 1\n",
      " <<INFO>> Detected 48 logical cores\n",
      " <<INFO>> Setting 48 threads\n",
      " <<INFO>> Inside id value is 5\n",
      " <<INFO>> Ray-tracing panel 0...ok!\n",
      " <<INFO>> Ray-tracing panel 1...ok!\n",
      " <<INFO>> Ray-tracing panel 2...ok!\n",
      " <<INFO>> Ray-tracing computation time.. 0 [s]\n",
      " <<INFO>> Approximated 0 rays (0.00000 %)\n",
      " <<INFO>> Cavity detection time is 0 [s]\n",
      " <<INFO>> Assembling octrees..ok!\n",
      " <<INFO>> Surface computation time.. 0 [s]\n",
      " <<INFO>> Estimated volume 10869.5 [A^3]\n",
      " <<INFO>> Triangulating Surface...\n",
      " <<INFO>> Setting 48 threads\n",
      " <<INFO>> Generating MC vertices...ok!\n",
      " <<INFO>> MC added 0 non analytical vertices\n",
      " <<INFO>> Triangles done\n",
      " <<INFO>> MC time is 0 [s]\n",
      " <<INFO>> Total, grid conformant, surface area is 3861.66 [A^2]\n",
      " <<INFO>> Number of vertices 18696 number of triangles 37388\n",
      " <<INFO>> Saving in MSMS format, no patch info, no nearest atom..\n",
      " <<INFO>> Smoothing surface...\n",
      " <<INFO>> Saving in MSMS format, no patch info, no nearest atom..ok!\n",
      " <<INFO>> Total Triangulation time 1 [s]\n",
      "\n",
      " <<INFO>> If you use NanoShaper please cite these works:\n",
      " <<CITATION>> \tS. Decherchi, W. Rocchia, \"A general and Robust Ray-Casting-Based Algorithm for Triangulating Surfaces at the Nanoscale\"; PlosOne\n",
      " <<CITATION>> \tlink: http://www.plosone.org/article/metrics/info%3Adoi%2F10.1371%2Fjournal.pone.0059744\n",
      "\n",
      "\n"
     ]
    }
   ],
   "source": [
    "mol_object = pbj.Solute('1ubq.pqr', mesh_density=5, mesh_generator='nanoshaper', save_mesh_build_files=False)\n",
    "simulation = pbj.Simulation()\n",
    "simulation.add_solute(mol_object)\n",
    "\n",
    "simulation.solutes[0].ep_in = 2\n",
    "simulation.solutes[0].ep_ex = 80\n",
    "simulation.solutes[0].kappa = 0.125"
   ]
  },
  {
   "cell_type": "code",
   "execution_count": 3,
   "metadata": {},
   "outputs": [
    {
     "name": "stderr",
     "output_type": "stream",
     "text": [
      "/home/martinachondo/miniconda3/envs/pbj/lib/python3.9/site-packages/pyopencl/__init__.py:270: CompilerWarning: Non-empty compiler output encountered. Set the environment variable PYOPENCL_COMPILER_OUTPUT=1 to see more.\n",
      "  warn(\"Non-empty compiler output encountered. Set the \"\n",
      "66 warnings generated.\n",
      "66 warnings generated.\n",
      "66 warnings generated.\n",
      "66 warnings generated.\n",
      "66 warnings generated.\n",
      "66 warnings generated.\n",
      "66 warnings generated.\n",
      "66 warnings generated.\n",
      "66 warnings generated.\n",
      "66 warnings generated.\n"
     ]
    },
    {
     "data": {
      "text/plain": [
       "-577.0336403109833"
      ]
     },
     "execution_count": 3,
     "metadata": {},
     "output_type": "execute_result"
    }
   ],
   "source": [
    "simulation.calculate_solvation_energy()\n",
    "simulation.solutes[0].results['solvation_energy']"
   ]
  },
  {
   "cell_type": "code",
   "execution_count": null,
   "metadata": {},
   "outputs": [],
   "source": [
    "674.97"
   ]
  },
  {
   "cell_type": "code",
   "execution_count": null,
   "metadata": {},
   "outputs": [],
   "source": [
    "-582.66"
   ]
  },
  {
   "cell_type": "code",
   "execution_count": null,
   "metadata": {},
   "outputs": [],
   "source": [
    "-577.97"
   ]
  }
 ],
 "metadata": {
  "kernelspec": {
   "display_name": "pbj",
   "language": "python",
   "name": "python3"
  },
  "language_info": {
   "codemirror_mode": {
    "name": "ipython",
    "version": 3
   },
   "file_extension": ".py",
   "mimetype": "text/x-python",
   "name": "python",
   "nbconvert_exporter": "python",
   "pygments_lexer": "ipython3",
   "version": "3.9.12"
  },
  "orig_nbformat": 4
 },
 "nbformat": 4,
 "nbformat_minor": 2
}
