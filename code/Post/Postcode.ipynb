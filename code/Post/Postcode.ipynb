{
 "cells": [
  {
   "cell_type": "code",
   "execution_count": 1,
   "metadata": {},
   "outputs": [],
   "source": [
    "import sys\n",
    "import os\n",
    "import shutil\n",
    "import json\n",
    "import numpy as np\n",
    "\n",
    "current_directory = os.getcwd()\n",
    "path_components = current_directory.split(os.path.sep)\n",
    "new_directory = os.path.sep.join(path_components[:-1])\n",
    "sys.path.append(new_directory)"
   ]
  },
  {
   "cell_type": "markdown",
   "metadata": {},
   "source": [
    "## Post processing framework"
   ]
  },
  {
   "cell_type": "markdown",
   "metadata": {},
   "source": [
    "#### Simulation Name"
   ]
  },
  {
   "cell_type": "code",
   "execution_count": 3,
   "metadata": {},
   "outputs": [
    {
     "name": "stdout",
     "output_type": "stream",
     "text": [
      "/home/martinachondo/PINN/code\n",
      "/home/martinachondo/PINN/code/results/Main\n"
     ]
    }
   ],
   "source": [
    "simulation_name = 'Main'\n",
    "simulation_folder = 'tests'\n",
    "\n",
    "results_dir = os.path.sep.join(path_components[:-2])\n",
    "results_path = os.path.join(results_dir,'.results',simulation_folder,simulation_name)\n",
    "results_path = os.path.join(results_dir,'code','results',simulation_name)\n",
    "\n",
    "main_path = os.path.join(results_dir,'code')\n",
    "shutil.copyfile(os.path.join(results_path,simulation_name+'.py'), os.path.join(main_path,'S_temp.py'))\n",
    "print(main_path)\n",
    "print(results_path)"
   ]
  },
  {
   "cell_type": "code",
   "execution_count": 4,
   "metadata": {},
   "outputs": [
    {
     "name": "stdout",
     "output_type": "stream",
     "text": [
      "/home/martinachondo/PINN/code/Mesh/Mesh_softwares/MSMS/msms -if /home/martinachondo/PINN/code/Molecules/born_ion/born_ion.xyzr -of /home/martinachondo/PINN/code/Molecules/Saved_meshes/Temp/born_ion_d10 -p 1.4 -d 10 -no_header\n",
      "MSMS 2.6.1 started on tulio\n",
      "Copyright M.F. Sanner (1994)\n",
      "Compilation flags -O2 -DVERBOSE -DTIMING\n",
      "Atom 2 ignored, radius = 0.010000\n",
      "INPUT  /home/martinachondo/PINN/code/Molecules/born_ion/born_ion.xyzr 1 spheres 0 collision only, radii  1.000 to  1.000\n",
      "PARAM  Probe_radius  1.400 density 10.000 hdensity  3.000\n",
      "REDUCED SURFACE ...\n",
      "    1 free vertex (vertices) found\n",
      "    RS component  #faces  #edges #free_edges  #vertices   genus\n",
      "         0           0        1          0          1      1\n",
      "    Time Reduced Surface real: 0.00 user: 0.00 sys: 0.00\n",
      "ANALYTICAL SOLVENT EXCLUDED SURFACE...\n",
      "    Component   0\n",
      "        Time Surface real: 0.00 user: 0.00 sys: 0.00\n",
      "    SES comp.  #fac.  #edg. #s_edg. #vert. #s_vert. R_h C_h genus\n",
      "         0        1      0      0       0        0   0   0    0.5\n",
      "ANALYTICAL SURFACE AREA :\n",
      "    Comp. probe_radius,   reent,    toric,   contact    SES       SAS\n",
      "      0       1.400       0.000     0.000    12.566    12.566    72.382\n",
      "TRIANGULATION...\n",
      "    Component 0\n",
      "    component#, vertices,  edges,  faces, genus, density\n",
      "        0            106     312     208    0     8.435\n",
      "        Time Triangulation real: 0.00 user: 0.00 sys: 0.00\n",
      "NUMERICAL VOLUMES AND AREA\n",
      "    Comp. probe_radius SES_volume SES_area)\n",
      "       0      1.40        3.961     12.200\n",
      "    Total ses_volume:     3.961\n",
      "MSMS terminated normally\n",
      "Total Time real: 0.00 user: 0.00 sys: 0.00\n",
      "Found 1 meshes in 1\n",
      "Number of vertices: 106\n",
      "Number of Faces: 208\n",
      "Number of Regions: 1\n",
      "Number of Holes: 0\n",
      "Region point: Tensor({0}:-0.17562; {1}:0.41038; {2}:0.450489)\n",
      "Warning:  Unknown switch --.\n",
      "Delaunizing vertices...\n",
      "Delaunay seconds:  0.006315\n",
      "Creating surface mesh ...\n",
      "Surface mesh seconds:  0.000488\n",
      "Recovering boundaries...\n",
      "Boundary recovery seconds:  0.00087\n",
      "Removing exterior tetrahedra ...\n",
      "Spreading region attributes.\n",
      "Exterior tets removal seconds:  0.000117\n",
      "Recovering Delaunayness...\n",
      "Delaunay recovery seconds:  0.005876\n",
      "Refining mesh...\n",
      "Refinement seconds:  0.004157\n",
      "Smoothing vertices...\n",
      "Mesh smoothing seconds:  0.005238\n",
      "Improving mesh...\n",
      "Mesh improvement seconds:  0.0002\n",
      "\n",
      "Writing nodes.\n",
      "Writing elements.\n",
      "Writing faces.\n",
      "Writing edges.\n",
      "\n",
      "Output seconds:  8.6e-05\n",
      "Total running seconds:  0.023551\n",
      "\n",
      "Statistics:\n",
      "\n",
      "  Input points: 106\n",
      "  Input facets: 208\n",
      "  Input segments: 312\n",
      "  Input holes: 0\n",
      "  Input regions: 1\n",
      "\n",
      "  Mesh points: 124\n",
      "  Mesh tetrahedra: 363\n",
      "  Mesh faces: 830\n",
      "  Mesh faces on exterior boundary: 208\n",
      "  Mesh faces on input facets: 208\n",
      "  Mesh edges on input segments: 312\n",
      "  Steiner points inside domain: 18\n",
      "\n",
      "Found 1 meshes in 1\n",
      "Found 1 meshes in 2\n",
      "Number of vertices: 748\n",
      "Number of Faces: 1488\n",
      "Number of Regions: 1\n",
      "Number of Holes: 1\n",
      "Region point: Tensor({0}:0.266352; {1}:-0.460905; {2}:-0.35065)\n",
      "Region point: Tensor({0}:-6.06335; {1}:9.33235; {2}:0.773993)\n",
      "Warning:  Unknown switch --.\n",
      "Delaunizing vertices...\n",
      "Delaunay seconds:  0.014595\n",
      "Creating surface mesh ...\n",
      "Surface mesh seconds:  0.00154\n",
      "Recovering boundaries...\n",
      "Boundary recovery seconds:  0.002052\n",
      "Removing exterior tetrahedra ...\n",
      "Spreading region attributes.\n",
      "Exterior tets removal seconds:  0.000491\n",
      "Recovering Delaunayness...\n",
      "Delaunay recovery seconds:  0.003259\n",
      "Refining mesh...\n",
      "  997 insertions, added 842 points, 29726 tetrahedra in queue.\n",
      "  332 insertions, added 263 points, 35657 tetrahedra in queue.\n",
      "  442 insertions, added 349 points, 43366 tetrahedra in queue.\n",
      "  589 insertions, added 449 points, 52797 tetrahedra in queue.\n",
      "  785 insertions, added 578 points, 64190 tetrahedra in queue.\n",
      "  1047 insertions, added 640 points, 71776 tetrahedra in queue.\n",
      "  1395 insertions, added 530 points, 49858 tetrahedra in queue.\n",
      "  1860 insertions, added 262 points, 1476 tetrahedra in queue.\n",
      "Refinement seconds:  0.35306\n",
      "Smoothing vertices...\n",
      "Mesh smoothing seconds:  0.656749\n",
      "Improving mesh...\n",
      "Mesh improvement seconds:  0.011313\n",
      "\n",
      "Writing nodes.\n",
      "Writing elements.\n",
      "Writing faces.\n",
      "Writing edges.\n",
      "\n",
      "Output seconds:  0.003204\n",
      "Total running seconds:  1.04685\n",
      "\n",
      "Statistics:\n",
      "\n",
      "  Input points: 748\n",
      "  Input facets: 1488\n",
      "  Input segments: 2232\n",
      "  Input holes: 1\n",
      "  Input regions: 1\n",
      "\n",
      "  Mesh points: 4693\n",
      "  Mesh tetrahedra: 26561\n",
      "  Mesh faces: 53866\n",
      "  Mesh faces on exterior boundary: 1488\n",
      "  Mesh faces on input facets: 1488\n",
      "  Mesh edges on input segments: 2232\n",
      "  Steiner points inside domain: 3945\n",
      "\n",
      "Mesh initialization ready\n",
      "PDEs and datasets ready\n",
      "{'molecule': 'born_ion', 'epsilon_1': 1, 'epsilon_2': 80, 'kappa': 0.125, 'T': 300}\n"
     ]
    }
   ],
   "source": [
    "folder_name = 'S_temp'\n",
    "folder_path = os.path.join(main_path,'results',folder_name)\n",
    "\n",
    "from S_temp import simulation\n",
    "\n",
    "simulation.create_simulation()\n",
    "print(simulation.domain_properties)"
   ]
  },
  {
   "cell_type": "code",
   "execution_count": 5,
   "metadata": {},
   "outputs": [
    {
     "name": "stdout",
     "output_type": "stream",
     "text": [
      "OpenMesh not available\n",
      "No module named 'openmesh'\n"
     ]
    }
   ],
   "source": [
    "Iter = 4\n",
    "simulation.load_model(folder_path,results_path,Iter, save=False)\n",
    "Post = simulation.Post"
   ]
  },
  {
   "cell_type": "code",
   "execution_count": 6,
   "metadata": {},
   "outputs": [
    {
     "name": "stdout",
     "output_type": "stream",
     "text": [
      "{\n",
      "    \"Gsolv_value\": \"0.000\",\n",
      "    \"L2_continuity_u\": \"6.561e-01\",\n",
      "    \"L2_continuity_du\": \"1.744e+00\",\n",
      "    \"Loss_XPINN\": \"3.832e+04\",\n",
      "    \"Loss_NN1\": \"3.832e+04\",\n",
      "    \"Loss_NN2\": \"1.865e+04\",\n",
      "    \"L2_analytic\": \"3.429e+02\"\n",
      "}\n"
     ]
    }
   ],
   "source": [
    "df = Post.save_values_file(save=False)\n",
    "print(json.dumps(df, indent=4))"
   ]
  },
  {
   "cell_type": "code",
   "execution_count": 7,
   "metadata": {},
   "outputs": [
    {
     "data": {
      "text/plain": [
       "13677.595229473929"
      ]
     },
     "execution_count": 7,
     "metadata": {},
     "output_type": "execute_result"
    }
   ],
   "source": [
    "Post.PDE.get_solvation_energy(Post.XPINN.model)"
   ]
  },
  {
   "cell_type": "code",
   "execution_count": 8,
   "metadata": {},
   "outputs": [
    {
     "data": {
      "image/png": "[encoded data removed]",
      "text/plain": [
       "<Figure size 640x480 with 1 Axes>"
      ]
     },
     "metadata": {},
     "output_type": "display_data"
    }
   ],
   "source": [
    "Post.plot_aprox_analytic(value='react')"
   ]
  },
  {
   "cell_type": "code",
   "execution_count": 9,
   "metadata": {},
   "outputs": [
    {
     "data": {
      "image/png": "[encoded data removed]",
      "text/plain": [
       "<Figure size 640x480 with 1 Axes>"
      ]
     },
     "metadata": {},
     "output_type": "display_data"
    }
   ],
   "source": [
    "Post.plot_loss_history(domain=1)"
   ]
  },
  {
   "cell_type": "markdown",
   "metadata": {},
   "source": [
    "#### Computations"
   ]
  },
  {
   "cell_type": "code",
   "execution_count": 14,
   "metadata": {},
   "outputs": [],
   "source": [
    "import bempp.api\n",
    "\n",
    "u_interface,_,_ = Post.PDE.get_phi_interface(*Post.NN)\n",
    "u_interface = u_interface.flatten()\n",
    "_,du_1,du_2 = Post.PDE.get_dphi_interface(*Post.NN)\n",
    "du_1 = du_1.flatten()\n",
    "du_2 = du_2.flatten()\n",
    "du_1_interface = (du_1+du_2*Post.NN[1].PDE.epsilon/Post.NN[0].PDE.epsilon)/2\n",
    "\n",
    "phi = bempp.api.GridFunction(Post.PDE.space, coefficients=u_interface)\n",
    "dphi = bempp.api.GridFunction(Post.PDE.space, coefficients=du_1_interface)\n",
    "\n",
    "phi_q = Post.PDE.slp_q * dphi - Post.PDE.dlp_q * phi\n",
    "\n",
    "slp_aprox = Post.PDE.slp_q * dphi\n",
    "dlp_aprox = Post.PDE.dlp_q * phi"
   ]
  },
  {
   "cell_type": "code",
   "execution_count": 15,
   "metadata": {},
   "outputs": [
    {
     "name": "stdout",
     "output_type": "stream",
     "text": [
      "slp [[-0.04577357]]\n",
      "dlp [[-0.00114817]]\n"
     ]
    }
   ],
   "source": [
    "print('slp',slp_aprox)\n",
    "print('dlp', dlp_aprox)"
   ]
  },
  {
   "cell_type": "code",
   "execution_count": 16,
   "metadata": {},
   "outputs": [],
   "source": [
    "Rs = np.linalg.norm(Post.PDE.mesh.mol_verts, axis=1)\n",
    "\n",
    "u_interface = Post.PDE.analytic_Born_Ion(Rs)\n",
    "du_1_interface = Post.PDE.analytic_Born_Ion_du(Rs)\n",
    "\n",
    "phi = bempp.api.GridFunction(Post.PDE.space, coefficients=u_interface)\n",
    "dphi = bempp.api.GridFunction(Post.PDE.space, coefficients=du_1_interface)\n",
    "\n",
    "slp_an = Post.PDE.slp_q * dphi\n",
    "dlp_an = Post.PDE.dlp_q * phi"
   ]
  },
  {
   "cell_type": "code",
   "execution_count": 17,
   "metadata": {},
   "outputs": [
    {
     "name": "stdout",
     "output_type": "stream",
     "text": [
      "slp [[-0.07938546]]\n",
      "dlp [[-0.00094506]]\n"
     ]
    }
   ],
   "source": [
    "print('slp',slp_an)\n",
    "print('dlp', dlp_an)"
   ]
  },
  {
   "cell_type": "code",
   "execution_count": 18,
   "metadata": {},
   "outputs": [],
   "source": [
    "def get_Gsolv(slp,dlp):\n",
    "  phi_q = slp - dlp\n",
    "  G_solv = 0.5*np.sum(Post.PDE.qs * phi_q).real\n",
    "  G_solv *= Post.PDE.to_V*Post.PDE.qe*Post.PDE.Na*(10**-3/4.184) \n",
    "  return G_solv"
   ]
  },
  {
   "cell_type": "code",
   "execution_count": 19,
   "metadata": {},
   "outputs": [
    {
     "name": "stdout",
     "output_type": "stream",
     "text": [
      "aprox -93.10722575405698\n",
      "an -163.65945134158008\n"
     ]
    }
   ],
   "source": [
    "print('aprox',get_Gsolv(slp_aprox,dlp_aprox))\n",
    "print('an',get_Gsolv(slp_an,dlp_an))"
   ]
  },
  {
   "cell_type": "code",
   "execution_count": 20,
   "metadata": {},
   "outputs": [
    {
     "name": "stdout",
     "output_type": "stream",
     "text": [
      "ap-an -93.53099959788352\n",
      "an-ap -163.23567749775356\n"
     ]
    }
   ],
   "source": [
    "print('ap-an',get_Gsolv(slp_aprox,dlp_an))\n",
    "print('an-ap',get_Gsolv(slp_an,dlp_aprox))"
   ]
  },
  {
   "cell_type": "code",
   "execution_count": null,
   "metadata": {},
   "outputs": [],
   "source": []
  }
 ],
 "metadata": {
  "kernelspec": {
   "display_name": ".venv",
   "language": "python",
   "name": "python3"
  },
  "language_info": {
   "codemirror_mode": {
    "name": "ipython",
    "version": 3
   },
   "file_extension": ".py",
   "mimetype": "text/x-python",
   "name": "python",
   "nbconvert_exporter": "python",
   "pygments_lexer": "ipython3",
   "version": "3.8.18"
  },
  "orig_nbformat": 4
 },
 "nbformat": 4,
 "nbformat_minor": 2
}
