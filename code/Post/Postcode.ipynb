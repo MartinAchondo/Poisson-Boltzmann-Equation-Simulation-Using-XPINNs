{
 "cells": [
  {
   "cell_type": "code",
   "execution_count": 1,
   "metadata": {},
   "outputs": [],
   "source": [
    "import sys\n",
    "import os\n",
    "import shutil\n",
    "import json\n",
    "import numpy as np\n",
    "\n",
    "current_directory = os.getcwd()\n",
    "path_components = current_directory.split(os.path.sep)\n",
    "new_directory = os.path.sep.join(path_components[:-1])\n",
    "sys.path.append(new_directory)"
   ]
  },
  {
   "cell_type": "markdown",
   "metadata": {},
   "source": [
    "## Post processing framework"
   ]
  },
  {
   "cell_type": "markdown",
   "metadata": {},
   "source": [
    "#### Simulation Name"
   ]
  },
  {
   "cell_type": "code",
   "execution_count": 2,
   "metadata": {},
   "outputs": [
    {
     "name": "stdout",
     "output_type": "stream",
     "text": [
      "/home/martinachondo/PINN/code\n",
      "/home/martinachondo/PINN/code/results/Main\n"
     ]
    }
   ],
   "source": [
    "simulation_name = 'Main'\n",
    "simulation_folder = 'tests'\n",
    "\n",
    "results_dir = os.path.sep.join(path_components[:-2])\n",
    "results_path = os.path.join(results_dir,'.results',simulation_folder,simulation_name)\n",
    "results_path = os.path.join(results_dir,'code','results',simulation_name)\n",
    "\n",
    "main_path = os.path.join(results_dir,'code')\n",
    "shutil.copyfile(os.path.join(results_path,simulation_name+'.py'), os.path.join(main_path,'S_temp.py'))\n",
    "print(main_path)\n",
    "print(results_path)"
   ]
  },
  {
   "cell_type": "code",
   "execution_count": 3,
   "metadata": {},
   "outputs": [
    {
     "name": "stdout",
     "output_type": "stream",
     "text": [
      "\n",
      "\n",
      " <<INFO>> Starting NanoShaper 0.7.8\n",
      " <<INFO>> Loading atoms....\n",
      " <<INFO>> Read 27 atoms\n",
      " <<INFO>> Geometric baricenter ->  -0.136 0.5195 0.4945\n",
      " <<INFO>> Grid is 111\n",
      " <<INFO>> MAX 5.364 6.0195 5.9945\n",
      " <<INFO>> MIN -5.636 -4.9805 -5.0055\n",
      " <<INFO>> Perfil 90 %\n",
      " <<INFO>> Rmaxdim 10.065\n",
      " <<INFO>> Allocating memory...ok!\n",
      " <<INFO>> Initialization completed\n",
      " <<INFO>> Adjusting self intersection grid \n",
      " <<INFO>> Self intersection grid is (before) 7\n",
      " <<INFO>> Self intersection grid is 4\n",
      " <<INFO>> Allocating self intersection grid....ok!\n",
      " <<INFO>> Computing alpha shape complex....ok!\n",
      " <<INFO>> Checking 0 probes for self intersections...ok!\n",
      " <<INFO>> Surface build-up time.. 0 [s]\n",
      " <<INFO>> Probe Radius value 1.4\n",
      " <<INFO>> Number of ses cells -> 117\n",
      " <<INFO>> Number of del_point cells -> 20\n",
      " <<INFO>> Number of regular del_edge cells -> 55\n",
      " <<INFO>> Number of singular del_edge cells -> 0\n",
      " <<INFO>> Number of regular del_facet cells -> 34\n",
      " <<INFO>> Number of singular del_facet cells -> 4\n",
      " <<INFO>> Use load balancing: 1\n",
      " <<INFO>> Detected 48 logical cores\n",
      " <<INFO>> Setting 48 threads\n",
      " <<INFO>> Inside id value is 5\n",
      " <<INFO>> Ray-tracing panel 0...ok!\n",
      " <<INFO>> Ray-tracing panel 1...ok!\n",
      " <<INFO>> Ray-tracing panel 2...ok!\n",
      " <<INFO>> Ray-tracing computation time.. 0 [s]\n",
      " <<INFO>> Approximated 0 rays (0.00000 %)\n",
      " <<INFO>> Cavity detection time is 0 [s]\n",
      " <<INFO>> Assembling octrees..ok!\n",
      " <<INFO>> Surface computation time.. 0 [s]\n",
      " <<INFO>> Estimated volume 198.224 [A^3]\n",
      " <<INFO>> Triangulating Surface...\n",
      " <<INFO>> Setting 48 threads\n",
      " <<INFO>> Generating MC vertices...ok!\n",
      " <<INFO>> MC added 0 non analytical vertices\n",
      " <<INFO>> Triangles done\n",
      " <<INFO>> MC time is 0 [s]\n",
      " <<INFO>> Total, grid conformant, surface area is 197.966 [A^2]\n",
      " <<INFO>> Number of vertices 29972 number of triangles 59940\n",
      " <<INFO>> Saving in MSMS format, no patch info, no nearest atom..\n",
      " <<INFO>> Smoothing surface...\n",
      " <<INFO>> Saving in MSMS format, no patch info, no nearest atom..ok!\n",
      " <<INFO>> Total Triangulation time 0 [s]\n",
      "\n",
      " <<INFO>> If you use NanoShaper please cite these works:\n",
      " <<CITATION>> \tS. Decherchi, W. Rocchia, \"A general and Robust Ray-Casting-Based Algorithm for Triangulating Surfaces at the Nanoscale\"; PlosOne\n",
      " <<CITATION>> \tlink: http://www.plosone.org/article/metrics/info%3Adoi%2F10.1371%2Fjournal.pone.0059744\n",
      "\n",
      "\n",
      "Found 1 meshes in 1\n",
      "Number of vertices: 1768\n",
      "Number of Faces: 3532\n",
      "Number of Regions: 1\n",
      "Number of Holes: 0\n",
      "Region point: Tensor({0}:1.69103; {1}:-0.580268; {2}:-3.73281)\n",
      "Warning:  Unknown switch --.\n",
      "Delaunizing vertices...\n",
      "Delaunay seconds:  0.013786\n",
      "Creating surface mesh ...\n",
      "Surface mesh seconds:  0.005378\n",
      "Recovering boundaries...\n",
      "Boundary recovery seconds:  0.007587\n",
      "Removing exterior tetrahedra ...\n",
      "Spreading region attributes.\n",
      "Exterior tets removal seconds:  0.003497\n",
      "Recovering Delaunayness...\n",
      "Delaunay recovery seconds:  0.004549\n",
      "Refining mesh...\n",
      "Refinement seconds:  0.072013\n",
      "Smoothing vertices...\n",
      "Mesh smoothing seconds:  0.067635\n",
      "Improving mesh...\n",
      "Mesh improvement seconds:  0.004588\n",
      "\n",
      "Writing nodes.\n",
      "Writing elements.\n",
      "Writing faces.\n",
      "Writing edges.\n",
      "\n",
      "Output seconds:  0.001235\n",
      "Total running seconds:  0.180532\n",
      "\n",
      "Statistics:\n",
      "\n",
      "  Input points: 1768\n",
      "  Input facets: 3532\n",
      "  Input segments: 5298\n",
      "  Input holes: 0\n",
      "  Input regions: 1\n",
      "\n",
      "  Mesh points: 3028\n",
      "  Mesh tetrahedra: 12930\n",
      "  Mesh faces: 27626\n",
      "  Mesh faces on exterior boundary: 3532\n",
      "  Mesh faces on input facets: 3532\n",
      "  Mesh edges on input segments: 5298\n",
      "  Steiner points inside domain: 1260\n",
      "\n",
      "Found 1 meshes in 1\n",
      "Found 1 meshes in 2\n",
      "Number of vertices: 2410\n",
      "Number of Faces: 4812\n",
      "Number of Regions: 1\n",
      "Number of Holes: 1\n",
      "Region point: Tensor({0}:3.02991; {1}:-0.47891; {2}:4.56601)\n",
      "Region point: Tensor({0}:-6.51543; {1}:10.0282; {2}:0.831701)\n",
      "Warning:  Unknown switch --.\n",
      "Delaunizing vertices...\n",
      "Delaunay seconds:  0.016853\n",
      "Creating surface mesh ...\n",
      "Surface mesh seconds:  0.004882\n",
      "Recovering boundaries...\n",
      "Boundary recovery seconds:  0.007353\n",
      "Removing exterior tetrahedra ...\n",
      "Spreading region attributes.\n",
      "Exterior tets removal seconds:  0.00367\n",
      "Recovering Delaunayness...\n",
      "Delaunay recovery seconds:  0.004248\n",
      "Refining mesh...\n",
      "  3212 insertions, added 2702 points, 101057 tetrahedra in queue.\n",
      "  1069 insertions, added 784 points, 117211 tetrahedra in queue.\n",
      "  1425 insertions, added 929 points, 133956 tetrahedra in queue.\n",
      "  1900 insertions, added 932 points, 138883 tetrahedra in queue.\n",
      "  2532 insertions, added 762 points, 88862 tetrahedra in queue.\n",
      "  3375 insertions, added 395 points, 2428 tetrahedra in queue.\n",
      "Refinement seconds:  0.237567\n",
      "Smoothing vertices...\n",
      "Mesh smoothing seconds:  0.442749\n",
      "Improving mesh...\n",
      "Mesh improvement seconds:  0.014465\n",
      "\n",
      "Writing nodes.\n",
      "Writing elements.\n",
      "Writing faces.\n",
      "Writing edges.\n",
      "\n",
      "Output seconds:  0.002929\n",
      "Total running seconds:  0.734954\n",
      "\n",
      "Statistics:\n",
      "\n",
      "  Input points: 2410\n",
      "  Input facets: 4812\n",
      "  Input segments: 7218\n",
      "  Input holes: 1\n",
      "  Input regions: 1\n",
      "\n",
      "  Mesh points: 8997\n",
      "  Mesh tetrahedra: 47883\n",
      "  Mesh faces: 98172\n",
      "  Mesh faces on exterior boundary: 4812\n",
      "  Mesh faces on input facets: 4812\n",
      "  Mesh edges on input segments: 7218\n",
      "  Steiner points inside domain: 6587\n",
      "\n",
      "Mesh initialization ready\n",
      "PDEs and datasets ready\n",
      "{'molecule': 'arg', 'epsilon_1': 1, 'epsilon_2': 80, 'kappa': 0.125, 'T': 300}\n"
     ]
    }
   ],
   "source": [
    "folder_name = 'S_temp'\n",
    "folder_path = os.path.join(main_path,'results',folder_name)\n",
    "\n",
    "from S_temp import simulation\n",
    "\n",
    "simulation.create_simulation()\n",
    "print(simulation.domain_properties)"
   ]
  },
  {
   "cell_type": "code",
   "execution_count": 4,
   "metadata": {},
   "outputs": [
    {
     "name": "stdout",
     "output_type": "stream",
     "text": [
      "OpenMesh not available\n",
      "No module named 'openmesh'\n"
     ]
    }
   ],
   "source": [
    "Iter = 10\n",
    "simulation.load_model(folder_path,results_path,Iter, save=False)\n",
    "Post = simulation.Post"
   ]
  },
  {
   "cell_type": "code",
   "execution_count": 5,
   "metadata": {},
   "outputs": [
    {
     "name": "stdout",
     "output_type": "stream",
     "text": [
      "{\n",
      "    \"Gsolv_value\": \"2545.660\",\n",
      "    \"L2_continuity_u\": \"3.122e-01\",\n",
      "    \"L2_continuity_du\": \"1.451e-01\",\n",
      "    \"Loss_XPINN\": \"4.040e+00\",\n",
      "    \"Loss_NN1\": \"3.813e+00\",\n",
      "    \"Loss_NN2\": \"2.062e+00\"\n",
      "}\n"
     ]
    }
   ],
   "source": [
    "df = Post.save_values_file(save=False)\n",
    "print(json.dumps(df, indent=4))"
   ]
  },
  {
   "cell_type": "code",
   "execution_count": 6,
   "metadata": {},
   "outputs": [
    {
     "data": {
      "text/plain": [
       "1465.9475188529552"
      ]
     },
     "execution_count": 6,
     "metadata": {},
     "output_type": "execute_result"
    }
   ],
   "source": [
    "Post.PDE.get_solvation_energy(Post.XPINN.model)"
   ]
  },
  {
   "cell_type": "code",
   "execution_count": 16,
   "metadata": {},
   "outputs": [
    {
     "ename": "AttributeError",
     "evalue": "'Postprocessing' object has no attribute 'plot_aprox_analytic'",
     "output_type": "error",
     "traceback": [
      "\u001b[0;31m---------------------------------------------------------------------------\u001b[0m",
      "\u001b[0;31mAttributeError\u001b[0m                            Traceback (most recent call last)",
      "\u001b[1;32m/home/martinachondo/PINN/code/Post/Postcode.ipynb Cell 9\u001b[0m line \u001b[0;36m1\n\u001b[0;32m----> <a href='vscode-notebook-cell://ssh-remote%2B7b22686f73744e616d65223a2254756c696f227d/home/martinachondo/PINN/code/Post/Postcode.ipynb#X11sdnNjb2RlLXJlbW90ZQ%3D%3D?line=0'>1</a>\u001b[0m Post\u001b[39m.\u001b[39;49mplot_aprox_analytic(value\u001b[39m=\u001b[39m\u001b[39m'\u001b[39m\u001b[39mreact\u001b[39m\u001b[39m'\u001b[39m)\n",
      "\u001b[0;31mAttributeError\u001b[0m: 'Postprocessing' object has no attribute 'plot_aprox_analytic'"
     ]
    }
   ],
   "source": [
    "Post.plot_aprox_analytic(value='react')"
   ]
  },
  {
   "cell_type": "code",
   "execution_count": null,
   "metadata": {},
   "outputs": [
    {
     "data": {
      "image/png": "[encoded data removed]",
      "text/plain": [
       "<Figure size 640x480 with 1 Axes>"
      ]
     },
     "metadata": {},
     "output_type": "display_data"
    }
   ],
   "source": [
    "Post.plot_loss_history(domain=1)"
   ]
  },
  {
   "cell_type": "markdown",
   "metadata": {},
   "source": [
    "#### Computations"
   ]
  },
  {
   "cell_type": "code",
   "execution_count": 14,
   "metadata": {},
   "outputs": [],
   "source": [
    "import bempp.api\n",
    "\n",
    "u_interface,_,_ = Post.PDE.get_phi_interface(*Post.NN)\n",
    "u_interface = u_interface.flatten()\n",
    "_,du_1,du_2 = Post.PDE.get_dphi_interface(*Post.NN)\n",
    "du_1 = du_1.flatten()\n",
    "du_2 = du_2.flatten()\n",
    "du_1_interface = (du_1+du_2*Post.NN[1].PDE.epsilon/Post.NN[0].PDE.epsilon)/2\n",
    "\n",
    "phi = bempp.api.GridFunction(Post.PDE.space, coefficients=u_interface)\n",
    "dphi = bempp.api.GridFunction(Post.PDE.space, coefficients=du_1_interface)\n",
    "\n",
    "phi_q = Post.PDE.slp_q * dphi - Post.PDE.dlp_q * phi\n",
    "\n",
    "slp_aprox = Post.PDE.slp_q * dphi\n",
    "dlp_aprox = Post.PDE.dlp_q * phi"
   ]
  },
  {
   "cell_type": "code",
   "execution_count": 15,
   "metadata": {},
   "outputs": [
    {
     "name": "stdout",
     "output_type": "stream",
     "text": [
      "slp [[-0.04577357]]\n",
      "dlp [[-0.00114817]]\n"
     ]
    }
   ],
   "source": [
    "print('slp',slp_aprox)\n",
    "print('dlp', dlp_aprox)"
   ]
  },
  {
   "cell_type": "code",
   "execution_count": 16,
   "metadata": {},
   "outputs": [],
   "source": [
    "Rs = np.linalg.norm(Post.PDE.mesh.mol_verts, axis=1)\n",
    "\n",
    "u_interface = Post.PDE.analytic_Born_Ion(Rs)\n",
    "du_1_interface = Post.PDE.analytic_Born_Ion_du(Rs)\n",
    "\n",
    "phi = bempp.api.GridFunction(Post.PDE.space, coefficients=u_interface)\n",
    "dphi = bempp.api.GridFunction(Post.PDE.space, coefficients=du_1_interface)\n",
    "\n",
    "slp_an = Post.PDE.slp_q * dphi\n",
    "dlp_an = Post.PDE.dlp_q * phi"
   ]
  },
  {
   "cell_type": "code",
   "execution_count": 17,
   "metadata": {},
   "outputs": [
    {
     "name": "stdout",
     "output_type": "stream",
     "text": [
      "slp [[-0.07938546]]\n",
      "dlp [[-0.00094506]]\n"
     ]
    }
   ],
   "source": [
    "print('slp',slp_an)\n",
    "print('dlp', dlp_an)"
   ]
  },
  {
   "cell_type": "code",
   "execution_count": 18,
   "metadata": {},
   "outputs": [],
   "source": [
    "def get_Gsolv(slp,dlp):\n",
    "  phi_q = slp - dlp\n",
    "  G_solv = 0.5*np.sum(Post.PDE.qs * phi_q).real\n",
    "  G_solv *= Post.PDE.to_V*Post.PDE.qe*Post.PDE.Na*(10**-3/4.184) \n",
    "  return G_solv"
   ]
  },
  {
   "cell_type": "code",
   "execution_count": 19,
   "metadata": {},
   "outputs": [
    {
     "name": "stdout",
     "output_type": "stream",
     "text": [
      "aprox -93.10722575405698\n",
      "an -163.65945134158008\n"
     ]
    }
   ],
   "source": [
    "print('aprox',get_Gsolv(slp_aprox,dlp_aprox))\n",
    "print('an',get_Gsolv(slp_an,dlp_an))"
   ]
  },
  {
   "cell_type": "code",
   "execution_count": 20,
   "metadata": {},
   "outputs": [
    {
     "name": "stdout",
     "output_type": "stream",
     "text": [
      "ap-an -93.53099959788352\n",
      "an-ap -163.23567749775356\n"
     ]
    }
   ],
   "source": [
    "print('ap-an',get_Gsolv(slp_aprox,dlp_an))\n",
    "print('an-ap',get_Gsolv(slp_an,dlp_aprox))"
   ]
  },
  {
   "cell_type": "markdown",
   "metadata": {},
   "source": [
    "### Mesh"
   ]
  },
  {
   "cell_type": "code",
   "execution_count": 8,
   "metadata": {},
   "outputs": [],
   "source": [
    "mol_mesh = Post.mesh.mol_mesh"
   ]
  },
  {
   "cell_type": "code",
   "execution_count": 20,
   "metadata": {},
   "outputs": [],
   "source": [
    "X_plot = dict()\n",
    "X_plot['Inner Domain'] = Post.mesh.region_meshes['R1'].vertices\n",
    "X_plot['Inner Domain Sample'] = Post.mesh.region_meshes['R1'].get_dataset().numpy()\n",
    "\n",
    "X_plot['Charges'] = Post.mesh.prior_data['Q1'].numpy()\n",
    "\n",
    "X_plot['Interface'] = Post.mesh.region_meshes['I'].vertices\n",
    "X_plot['Interface Sample'] = Post.mesh.region_meshes['I'].get_dataset().numpy()\n",
    "\n",
    "X_plot['Outer Domain'] = Post.mesh.region_meshes['R2'].vertices\n",
    "X_plot['Outer Domain Sample'] = Post.mesh.region_meshes['R2'].get_dataset().numpy()\n",
    "\n",
    "X_plot['Outer Border'] = Post.mesh.region_meshes['D2'].vertices\n",
    "X_plot['Outer Border Sample'] = Post.mesh.region_meshes['D2'].get_dataset().numpy()"
   ]
  },
  {
   "cell_type": "code",
   "execution_count": 29,
   "metadata": {},
   "outputs": [
    {
     "name": "stdout",
     "output_type": "stream",
     "text": [
      "12604 326\n"
     ]
    }
   ],
   "source": [
    "s = mol_mesh.contains(X_plot['Inner Domain Sample'])\n",
    "st = 0\n",
    "sf = 0\n",
    "for i in range(len(s)):\n",
    "    if s[i]==True:\n",
    "        st+=1\n",
    "    else:\n",
    "        sf+=1\n",
    "print(st,sf)"
   ]
  },
  {
   "cell_type": "code",
   "execution_count": 25,
   "metadata": {},
   "outputs": [
    {
     "data": {
      "text/plain": [
       "array([[-1.03100002,  3.8440001 ,  3.13700008],\n",
       "       [-0.56199998, -0.041     , -3.59299994],\n",
       "       [-0.83399999,  0.243     , -3.53600001],\n",
       "       ...,\n",
       "       [-1.03799999, -2.454     , -0.067     ],\n",
       "       [ 1.046     , -2.24000001, -0.066     ],\n",
       "       [-2.17600012, -0.30700001, -2.12800002]])"
      ]
     },
     "execution_count": 25,
     "metadata": {},
     "output_type": "execute_result"
    }
   ],
   "source": [
    "X_plot['Inner Domain'][~s]"
   ]
  },
  {
   "cell_type": "code",
   "execution_count": 28,
   "metadata": {},
   "outputs": [
    {
     "data": {
      "text/plain": [
       "array([False])"
      ]
     },
     "execution_count": 28,
     "metadata": {},
     "output_type": "execute_result"
    }
   ],
   "source": [
    "mol_mesh.contains([[-1.03100002,  3.8440001 ,  3.13700008]])"
   ]
  },
  {
   "cell_type": "code",
   "execution_count": 36,
   "metadata": {},
   "outputs": [
    {
     "data": {
      "text/plain": [
       "array([], shape=(0, 3), dtype=float32)"
      ]
     },
     "execution_count": 36,
     "metadata": {},
     "output_type": "execute_result"
    }
   ],
   "source": [
    "X_plot['Inner Domain Sample'][~s]"
   ]
  },
  {
   "cell_type": "code",
   "execution_count": 5,
   "metadata": {},
   "outputs": [
    {
     "data": {
      "text/plain": [
       "5.61922"
      ]
     },
     "execution_count": 5,
     "metadata": {},
     "output_type": "execute_result"
    }
   ],
   "source": [
    "Post.mesh.R_mol"
   ]
  },
  {
   "cell_type": "code",
   "execution_count": 6,
   "metadata": {},
   "outputs": [
    {
     "data": {
      "text/plain": [
       "5.9695745"
      ]
     },
     "execution_count": 6,
     "metadata": {},
     "output_type": "execute_result"
    }
   ],
   "source": [
    "Post.mesh.R_max_dist"
   ]
  },
  {
   "cell_type": "code",
   "execution_count": 7,
   "metadata": {},
   "outputs": [
    {
     "data": {
      "text/plain": [
       "0.9602528"
      ]
     },
     "execution_count": 7,
     "metadata": {},
     "output_type": "execute_result"
    }
   ],
   "source": [
    "np.linalg.norm(Post.mesh.centroid)"
   ]
  },
  {
   "cell_type": "code",
   "execution_count": 23,
   "metadata": {},
   "outputs": [
    {
     "data": {
      "text/plain": [
       "array([[-1.03100002,  3.8440001 ,  3.13700008],\n",
       "       [-1.43861133,  3.56253363,  2.88424426],\n",
       "       [-0.92146109,  3.61931988,  2.59856082],\n",
       "       ...,\n",
       "       [-1.03799999, -2.454     , -0.067     ],\n",
       "       [ 1.046     , -2.24000001, -0.066     ],\n",
       "       [-2.17600012, -0.30700001, -2.12800002]])"
      ]
     },
     "execution_count": 23,
     "metadata": {},
     "output_type": "execute_result"
    }
   ],
   "source": [
    "X_plot['Inner Domain']"
   ]
  },
  {
   "cell_type": "code",
   "execution_count": 24,
   "metadata": {},
   "outputs": [
    {
     "name": "stdout",
     "output_type": "stream",
     "text": [
      "Help on method contains in module trimesh.base:\n",
      "\n",
      "contains(points) method of trimesh.base.Trimesh instance\n",
      "    Given an array of points determine whether or not they\n",
      "    are inside the mesh. This raises an error if called on a\n",
      "    non-watertight mesh.\n",
      "    \n",
      "    Parameters\n",
      "    ------------\n",
      "    points : (n, 3) float\n",
      "      Points in cartesian space\n",
      "    \n",
      "    Returns\n",
      "    ---------\n",
      "    contains : (n, ) bool\n",
      "      Whether or not each point is inside the mesh\n",
      "\n"
     ]
    }
   ],
   "source": [
    "help(mol_mesh.contains)"
   ]
  },
  {
   "cell_type": "code",
   "execution_count": null,
   "metadata": {},
   "outputs": [],
   "source": []
  }
 ],
 "metadata": {
  "kernelspec": {
   "display_name": ".venv",
   "language": "python",
   "name": "python3"
  },
  "language_info": {
   "codemirror_mode": {
    "name": "ipython",
    "version": 3
   },
   "file_extension": ".py",
   "mimetype": "text/x-python",
   "name": "python",
   "nbconvert_exporter": "python",
   "pygments_lexer": "ipython3",
   "version": "3.8.18"
  },
  "orig_nbformat": 4
 },
 "nbformat": 4,
 "nbformat_minor": 2
}
