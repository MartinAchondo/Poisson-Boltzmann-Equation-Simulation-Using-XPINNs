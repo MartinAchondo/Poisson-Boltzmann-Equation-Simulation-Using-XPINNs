{
 "cells": [
  {
   "cell_type": "code",
   "execution_count": null,
   "metadata": {},
   "outputs": [],
   "source": [
    "import sys\n",
    "import os\n",
    "import shutil\n",
    "import json\n",
    "import numpy as np\n",
    "\n",
    "current_directory = os.getcwd()\n",
    "main_path = os.path.dirname(os.path.dirname(current_directory))\n",
    "sys.path.append(main_path)\n",
    "\n",
    "simulation_name = os.path.basename(current_directory)\n",
    "results_path = current_directory\n",
    "\n",
    "shutil.copyfile(os.path.join(results_path, simulation_name + '.py'), os.path.join(main_path, 'S_temp.py'))\n",
    "\n",
    "print(main_path)\n",
    "print(results_path)"
   ]
  },
  {
   "cell_type": "markdown",
   "metadata": {},
   "source": [
    "## Post processing jupyter notebook"
   ]
  },
  {
   "cell_type": "markdown",
   "metadata": {},
   "source": [
    "#### Import the simulation file"
   ]
  },
  {
   "cell_type": "code",
   "execution_count": null,
   "metadata": {},
   "outputs": [],
   "source": [
    "folder_name = 'S_temp'\n",
    "folder_path = os.path.join(main_path,'results',folder_name)\n",
    "\n",
    "from S_temp import simulation\n",
    "\n",
    "print(simulation.domain_properties)\n",
    "simulation.create_simulation()"
   ]
  },
  {
   "cell_type": "markdown",
   "metadata": {},
   "source": [
    "#### Load the model and create the postprocessing object"
   ]
  },
  {
   "cell_type": "code",
   "execution_count": null,
   "metadata": {},
   "outputs": [],
   "source": [
    "Iter = 2\n",
    "simulation.load_model(folder_path,results_path,Iter, save=False)\n",
    "Post = simulation.Post"
   ]
  },
  {
   "cell_type": "markdown",
   "metadata": {},
   "source": [
    "#### Usage of the postprocessing object"
   ]
  },
  {
   "cell_type": "code",
   "execution_count": null,
   "metadata": {},
   "outputs": [],
   "source": [
    "df = Post.save_values_file(save=False) \n",
    "print(json.dumps(df, indent=4))"
   ]
  },
  {
   "cell_type": "code",
   "execution_count": null,
   "metadata": {},
   "outputs": [],
   "source": [
    "Post.plot_G_solv_history()"
   ]
  },
  {
   "cell_type": "code",
   "execution_count": null,
   "metadata": {},
   "outputs": [],
   "source": [
    "Post.plot_aprox_analytic(N=8000,zoom=True, lims_zoom=[[0.95,1.05],None], value='react')"
   ]
  },
  {
   "cell_type": "code",
   "execution_count": null,
   "metadata": {},
   "outputs": [],
   "source": [
    "Post.plot_line_interface()"
   ]
  },
  {
   "cell_type": "code",
   "execution_count": null,
   "metadata": {},
   "outputs": [],
   "source": [
    "Post.plot_phi_contour(n=np.array([1,1,1]))"
   ]
  }
 ],
 "metadata": {
  "kernelspec": {
   "display_name": ".venv",
   "language": "python",
   "name": "python3"
  },
  "language_info": {
   "codemirror_mode": {
    "name": "ipython",
    "version": 3
   },
   "file_extension": ".py",
   "mimetype": "text/x-python",
   "name": "python",
   "nbconvert_exporter": "python",
   "pygments_lexer": "ipython3",
   "version": "3.8.18"
  },
  "orig_nbformat": 4
 },
 "nbformat": 4,
 "nbformat_minor": 2
}
