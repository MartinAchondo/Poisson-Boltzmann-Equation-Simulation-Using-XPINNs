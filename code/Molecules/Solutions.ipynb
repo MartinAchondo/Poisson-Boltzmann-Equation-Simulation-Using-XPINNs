{
 "cells": [
  {
   "cell_type": "code",
   "execution_count": 45,
   "metadata": {},
   "outputs": [],
   "source": [
    "import numpy as np\n",
    "import os\n",
    "import sys\n",
    "\n",
    "sys.path.append(os.path.dirname(os.getcwd()))\n",
    "os.environ['TF_CPP_MIN_LOG_LEVEL'] = '3'\n",
    "\n",
    "from Mesh.Charges_utils import get_charges_list\n",
    "from Model.Solutions_utils import Solution_utils\n",
    "\n",
    "from Mesh.Mesh import Domain_Mesh\n",
    "from Post.Postcode import Postprocessing as Post\n",
    "from Simulation import get_simulation_name\n",
    "\n",
    "simulation_name,results_path,main_path,logger = get_simulation_name(os.path.join(os.path.dirname(os.getcwd()), 'dataset.py'))\n",
    "\n",
    "file_path = os.getcwd()"
   ]
  },
  {
   "cell_type": "code",
   "execution_count": 46,
   "metadata": {},
   "outputs": [],
   "source": [
    "\n",
    "molecule = 'methanol'\n",
    "\n",
    "\n",
    "Rs = {'born_ion': 1,\n",
    "      'methanol': 2.54233,\n",
    "      'arg': 5.9695745,\n",
    "      'sphere': 1.2,\n",
    "      'sphere_+1-1': 1.2,\n",
    "      'sphere_+1+1': 1.2,\n",
    "      'sphere_+2-1': 1.2,\n",
    "      'sphere_+1_D': 1.2,\n",
    "      'sphere_0.2': 1.2}\n",
    "\n",
    "Model = Solution_utils()\n",
    "\n",
    "Model.pqr_path = os.path.join(os.getcwd(),molecule,f'{molecule}.pqr')\n",
    "q_list = get_charges_list(Model.pqr_path)\n",
    "\n",
    "Model.domain_properties = {\n",
    "        'molecule': molecule,\n",
    "        'epsilon_1':  1,\n",
    "        'epsilon_2': 80,\n",
    "        'kappa': 0.125,\n",
    "        'T' : 300 \n",
    "        }\n",
    "\n",
    "Model.epsilon_1 = Model.domain_properties['epsilon_1']\n",
    "Model.epsilon_2 = Model.domain_properties['epsilon_2']\n",
    "Model.kappa = Model.domain_properties['kappa']\n",
    "Model.pi = np.pi\n",
    "Model.q_list = q_list\n",
    "\n",
    "n = len(Model.q_list)\n",
    "Model.qs = np.zeros(n)\n",
    "Model.x_qs = np.zeros((n,3))\n",
    "for i,q in enumerate(Model.q_list):\n",
    "    Model.qs[i] = q.q\n",
    "    Model.x_qs[i,:] = q.x_q\n",
    "Model.total_charge = np.sum(Model.qs)\n",
    "\n",
    "dR = 0.1\n",
    "R_mol = Rs[molecule]\n",
    "Rmin = dR + R_mol\n",
    "Rmax = Rmin + 3\n"
   ]
  },
  {
   "cell_type": "code",
   "execution_count": 47,
   "metadata": {},
   "outputs": [
    {
     "name": "stdout",
     "output_type": "stream",
     "text": [
      "/home/martinachondo/PINN/code/pbj/mesh/ExternalSoftware/MSMS/msms -if /home/martinachondo/PINN/code/Molecules/mesh_temp/methanol.xyzr -of /home/martinachondo/PINN/code/Molecules/mesh_temp/methanol -p 1.4 -d 5 -no_header\n",
      "MSMS 2.6.1 started on tulio\n",
      "Copyright M.F. Sanner (1994)\n",
      "Compilation flags -O2 -DVERBOSE -DTIMING\n",
      "INPUT  /home/martinachondo/PINN/code/Molecules/mesh_temp/methanol.xyzr 3 spheres 0 collision only, radii  0.200 to  1.888\n",
      "PARAM  Probe_radius  1.400 density  5.000 hdensity  3.000\n",
      "REDUCED SURFACE ...\n",
      "    RS component  #faces  #edges #free_edges  #vertices   genus\n",
      "         0           0        0          1          2      0.5\n",
      "    Time Reduced Surface real: 0.01 user: 0.00 sys: 0.00\n",
      "ANALYTICAL SOLVENT EXCLUDED SURFACE...\n",
      "    Component   0\n",
      "        Time Surface real: 0.00 user: 0.00 sys: 0.00\n",
      "    SES comp.  #fac.  #edg. #s_edg. #vert. #s_vert. R_h C_h genus\n",
      "         0        3      3      0       2        0   0   0    0\n",
      "ANALYTICAL SURFACE AREA :\n",
      "    Comp. probe_radius,   reent,    toric,   contact    SES       SAS\n",
      "      0       1.400       0.000     6.139    46.868    53.007   151.129\n",
      "TRIANGULATION...\n",
      "    Component 0\n",
      "    component#, vertices,  edges,  faces, genus, density\n",
      "        0            240     714     476    0     4.528\n",
      "        Time Triangulation real: 0.00 user: 0.00 sys: 0.00\n",
      "NUMERICAL VOLUMES AND AREA\n",
      "    Comp. probe_radius SES_volume SES_area)\n",
      "       0      1.40       34.077     52.237\n",
      "    Total ses_volume:    34.077\n",
      "MSMS terminated normally\n",
      "Total Time real: 0.01 user: 0.00 sys: 0.00\n"
     ]
    },
    {
     "name": "stderr",
     "output_type": "stream",
     "text": [
      "    Couldn't find first face trying -all option\n",
      "WARNING: atoms 2 is completely inside atom 1\n"
     ]
    },
    {
     "data": {
      "text/plain": [
       "-12.430738432192282"
      ]
     },
     "execution_count": 47,
     "metadata": {},
     "output_type": "execute_result"
    }
   ],
   "source": [
    "Model.mesh_density = 5\n",
    "Model.mesh_generator = 'msms'\n",
    "phi_q = Model.phi_known('pbj','react',Model.x_qs,'molecule')\n",
    "Model.solvation_energy_phi_qs(phi_q)"
   ]
  },
  {
   "cell_type": "code",
   "execution_count": 5,
   "metadata": {},
   "outputs": [
    {
     "data": {
      "text/plain": [
       "[Charges(q=0.27, x_q=array([0.019 , 0.    , 0.6556]), r_q=1.8875, atom_name='CH3', res_name='MEOH', res_num='1', ion_r_explode=3.5),\n",
       " Charges(q=-0.7, x_q=array([-0.1197,  0.    , -0.7372]), r_q=1.535, atom_name='O', res_name='MEOH', res_num='1', ion_r_explode=3.5),\n",
       " Charges(q=0.43, x_q=array([ 0.737,  0.   , -1.139]), r_q=0.2, atom_name='H', res_name='MEOH', res_num='1', ion_r_explode=3.5)]"
      ]
     },
     "execution_count": 5,
     "metadata": {},
     "output_type": "execute_result"
    }
   ],
   "source": [
    "q_list"
   ]
  },
  {
   "cell_type": "markdown",
   "metadata": {},
   "source": [
    "### Calculate Solvation energy"
   ]
  },
  {
   "cell_type": "code",
   "execution_count": 6,
   "metadata": {},
   "outputs": [
    {
     "name": "stdout",
     "output_type": "stream",
     "text": [
      "-3.3912698008786037\n",
      "[-0.00072111  0.00097837 -0.00173453]\n"
     ]
    },
    {
     "data": {
      "text/plain": [
       "-3.3912698008786037"
      ]
     },
     "execution_count": 6,
     "metadata": {},
     "output_type": "execute_result"
    }
   ],
   "source": [
    "phi_q = Model.Harmonic_spheres(Model.x_qs,'molecule',R_mol)\n",
    "print(Model.solvation_energy_phi_qs(phi_q))\n",
    "print(phi_q)\n",
    "Model.solvation_energy_phi_qs(phi_q)"
   ]
  },
  {
   "cell_type": "markdown",
   "metadata": {},
   "source": [
    "### Plot phi"
   ]
  },
  {
   "cell_type": "code",
   "execution_count": null,
   "metadata": {},
   "outputs": [],
   "source": [
    "domain_properties = {\n",
    "    'molecule': molecule,\n",
    "    }\n",
    "    \n",
    "mesh_properties = {\n",
    "        'vol_mx_interior': 0.05,\n",
    "        'vol_max_exterior': 0.5,\n",
    "        'density_mol': 2,\n",
    "        'density_border': 3,\n",
    "        'dx_experimental': 0.8,\n",
    "        'N_pq': 100,\n",
    "        'G_sigma': 0.04,\n",
    "        'mesh_generator': 'msms',\n",
    "        'dR_exterior': 5\n",
    "        }\n",
    "\n",
    "\n",
    "\n",
    "Mol_mesh = Domain_Mesh(domain_properties['molecule'], \n",
    "                mesh_properties=mesh_properties, \n",
    "                save_points=True,\n",
    "                path=main_path,\n",
    "                simulation=simulation_name\n",
    "                )\n",
    "\n",
    "Post.mesh = Mol_mesh\n",
    "Model.mesh = Mol_mesh\n",
    "Model.DTYPE = 'float64'"
   ]
  },
  {
   "cell_type": "code",
   "execution_count": 9,
   "metadata": {},
   "outputs": [],
   "source": [
    "N=200\n",
    "x0=np.array([0,0,0])\n",
    "theta=0\n",
    "phi=np.pi/2\n",
    "\n",
    "r = np.linspace(-Mol_mesh.R_exterior,Mol_mesh.R_exterior,N)\n",
    "x = x0[0] + r * np.sin(phi) * np.cos(theta) + Mol_mesh.centroid[0]\n",
    "y = x0[1] + r * np.sin(phi) * np.sin(theta) + Mol_mesh.centroid[1]\n",
    "z = x0[2] + r * np.cos(phi) + Mol_mesh.centroid[2]\n",
    "points = np.stack((x.ravel(), y.ravel(), z.ravel()), axis=1)\n",
    "X_in,X_out,_ = Post.get_interior_exterior(Post,points)\n",
    "\n",
    "X = [X_in,X_out,x0]"
   ]
  },
  {
   "cell_type": "code",
   "execution_count": 18,
   "metadata": {},
   "outputs": [],
   "source": [
    "field = 'react'\n",
    "\n",
    "u_in_Yuk = Model.phi_known('G_Yukawa',field,X_in,'molecule',Mol_mesh.R_max_dist)\n",
    "u_out_Yuk = Model.phi_known('G_Yukawa',field,X_out,'solvent',Mol_mesh.R_max_dist)\n",
    "\n",
    "u_in_Born = Model.phi_known('analytic_Born_Ion',field,X_in,'molecule',Mol_mesh.R_max_dist)\n",
    "u_out_Born = Model.phi_known('analytic_Born_Ion',field,X_out,'solvent',Mol_mesh.R_max_dist)\n",
    "\n",
    "u_in_Har = Model.phi_known('Harmonic_spheres',field,X_in,'molecule',Mol_mesh.R_max_dist)\n",
    "u_out_Har = Model.phi_known('Harmonic_spheres',field,X_out,'solvent',Mol_mesh.R_max_dist)\n",
    "\n",
    "u_in_pbj = Model.phi_known('pbj',field,X_in,'molecule',Mol_mesh.R_max_dist)\n",
    "u_out_pbj = Model.phi_known('pbj',field,X_out,'solvent',Mol_mesh.R_max_dist)\n"
   ]
  },
  {
   "cell_type": "code",
   "execution_count": 19,
   "metadata": {},
   "outputs": [
    {
     "data": {
      "image/png": "[encoded data removed]",
      "text/plain": [
       "<Figure size 640x480 with 1 Axes>"
      ]
     },
     "metadata": {},
     "output_type": "display_data"
    }
   ],
   "source": [
    "fig,ax = Post.plot_phis_line([(u_in_pbj,u_out_pbj),(u_in_Har,u_out_Har)],X,['pbj','Harmonic'])\n",
    "#ax.set_ylim([np.min(u_out_Har)-0.01,np.max(u_in_Har)+0.01])"
   ]
  },
  {
   "cell_type": "code",
   "execution_count": 20,
   "metadata": {},
   "outputs": [
    {
     "data": {
      "image/png": "[encoded data removed]",
      "text/plain": [
       "<Figure size 640x480 with 1 Axes>"
      ]
     },
     "metadata": {},
     "output_type": "display_data"
    }
   ],
   "source": [
    "fig,ax = Post.plot_phis_line([(u_in_pbj,u_out_pbj),(u_in_Har,u_out_Har)],X,['pbj','Harmonic'],domain='solvent')\n",
    "# ax.set_ylim([-0.001,0.003])"
   ]
  },
  {
   "cell_type": "code",
   "execution_count": null,
   "metadata": {},
   "outputs": [],
   "source": []
  },
  {
   "cell_type": "markdown",
   "metadata": {},
   "source": [
    "### 3D PBJ"
   ]
  },
  {
   "cell_type": "code",
   "execution_count": 37,
   "metadata": {},
   "outputs": [
    {
     "data": {
      "application/vnd.plotly.v1+json": {
       "config": {
        "plotlyServerURL": "https://plot.ly"
       },
       "data": [
        {
         "colorscale": [
          [
           0,
           "rgb(5,48,97)"
          ],
          [
           0.1,
           "rgb(33,102,172)"
          ],
          [
           0.2,
           "rgb(67,147,195)"
          ],
          [
           0.3,
           "rgb(146,197,222)"
          ],
          [
           0.4,
           "rgb(209,229,240)"
          ],
          [
           0.5,
           "rgb(247,247,247)"
          ],
          [
           0.6,
           "rgb(253,219,199)"
          ],
          [
           0.7,
           "rgb(244,165,130)"
          ],
          [
           0.8,
           "rgb(214,96,77)"
          ],
          [
           0.9,
           "rgb(178,24,43)"
          ],
          [
           1,
           "rgb(103,0,31)"
          ]
         ],
         "i": [
          0,
          3,
          6,
          9,
          12,
          15,
          18,
          21,
          24,
          27,
          30,
          33,
          36,
          39,
          42,
          44,
          44,
          46,
          47,
          48,
          49,
          45,
          52,
          53,
          55,
          56,
          57,
          51,
          63,
          64,
          66,
          67,
          68,
          70,
          71,
          62,
          75,
          76,
          78,
          79,
          81,
          82,
          83,
          85,
          74,
          89,
          90,
          92,
          93,
          95,
          96,
          98,
          99,
          101,
          88,
          105,
          106,
          108,
          109,
          111,
          112,
          114,
          115,
          103,
          119,
          121,
          122,
          124,
          125,
          127,
          128,
          130,
          131,
          134,
          135,
          137,
          138,
          140,
          142,
          143,
          145,
          148,
          149,
          151,
          152,
          154,
          156,
          157,
          159,
          162,
          163,
          165,
          167,
          169,
          170,
          173,
          175,
          177,
          179,
          172,
          184,
          181,
          186,
          179,
          170,
          146,
          131,
          101,
          72,
          59,
          49,
          60,
          73,
          87,
          117,
          147,
          160,
          180,
          189,
          190,
          192,
          194,
          195,
          197,
          198,
          200,
          202,
          203,
          205,
          206,
          208,
          210,
          211,
          213,
          214,
          216,
          219,
          221,
          222,
          224,
          227,
          228,
          230,
          232,
          235,
          237,
          237,
          225,
          216,
          199,
          192,
          191,
          189,
          188,
          200,
          208,
          226,
          233,
          238,
          2,
          6,
          8,
          12,
          14,
          18,
          20,
          24,
          26,
          30,
          32,
          36,
          38,
          42,
          0,
          47,
          50,
          53,
          55,
          57,
          60,
          51,
          52,
          53,
          67,
          69,
          57,
          73,
          75,
          64,
          78,
          80,
          68,
          83,
          85,
          87,
          89,
          76,
          92,
          79,
          95,
          97,
          83,
          100,
          102,
          104,
          90,
          107,
          93,
          110,
          96,
          113,
          99,
          102,
          103,
          120,
          106,
          123,
          109,
          126,
          112,
          129,
          115,
          118,
          119,
          135,
          122,
          138,
          125,
          141,
          128,
          144,
          132,
          148,
          135,
          151,
          138,
          154,
          155,
          143,
          158,
          147,
          149,
          163,
          152,
          154,
          167,
          157,
          160,
          172,
          163,
          165,
          176,
          177,
          171,
          181,
          182,
          183,
          184,
          181,
          184,
          180,
          22,
          18,
          16,
          12,
          10,
          8,
          4,
          2,
          0,
          40,
          38,
          36,
          34,
          30,
          28,
          193,
          189,
          190,
          198,
          194,
          195,
          204,
          198,
          200,
          210,
          203,
          213,
          206,
          208,
          219,
          211,
          222,
          214,
          217,
          227,
          228,
          222,
          231,
          233,
          228,
          230,
          233,
          235,
          25,
          29,
          33,
          35,
          39,
          43,
          1,
          3,
          7,
          11,
          13,
          17,
          21,
          23,
          3,
          7,
          9,
          13,
          15,
          19,
          21,
          25,
          27,
          31,
          33,
          37,
          39,
          43,
          46,
          49,
          52,
          54,
          56,
          58,
          61,
          63,
          65,
          67,
          68,
          70,
          72,
          63,
          76,
          78,
          80,
          81,
          83,
          85,
          86,
          75,
          90,
          92,
          93,
          95,
          97,
          98,
          100,
          101,
          89,
          105,
          107,
          108,
          110,
          111,
          113,
          114,
          116,
          103,
          120,
          121,
          123,
          124,
          126,
          127,
          129,
          130,
          132,
          133,
          135,
          136,
          138,
          139,
          141,
          142,
          144,
          145,
          133,
          149,
          151,
          152,
          154,
          155,
          156,
          158,
          159,
          161,
          163,
          164,
          165,
          167,
          168,
          170,
          161,
          173,
          174,
          176,
          177,
          178,
          172,
          182,
          183,
          184,
          186,
          187,
          187,
          22,
          179,
          16,
          146,
          10,
          8,
          72,
          58,
          49,
          42,
          73,
          36,
          34,
          147,
          28,
          180,
          194,
          196,
          198,
          200,
          202,
          204,
          205,
          207,
          210,
          211,
          213,
          214,
          216,
          219,
          220,
          222,
          223,
          225,
          227,
          228,
          229,
          231,
          232,
          234,
          235,
          237,
          238,
          239,
          29,
          225,
          35,
          199,
          41,
          1,
          3,
          7,
          200,
          13,
          226,
          19,
          23
         ],
         "intensity": [
          0.00016755378310795283,
          0.0006582035348398213,
          0.00011317242414002538,
          0.0004043130302036375,
          0.0000953516086429532,
          0.00018244638251500357,
          0.00002747298834993645,
          0.000032892052630527774,
          -0.000028724011938930975,
          -0.00006774398754540753,
          -0.0000686463524619985,
          -0.00013536864953397754,
          -0.00010059998467036268,
          -0.0001761991076701783,
          -0.00012386019387692238,
          -0.0002044608338305184,
          -0.00013682725415671275,
          -0.00022578853597581312,
          -0.00014756302299399318,
          -0.00023563324212201407,
          -0.00015371797744437933,
          -0.00024500563358607886,
          -0.0001552210898547102,
          -0.0002445775162096725,
          -0.00015343616514132746,
          -0.0002449666366524879,
          -0.00014826255445962272,
          -0.00023531843712446476,
          -0.0001386569634575404,
          -0.00022486531036059831,
          -0.0001230474536343393,
          -0.00020456108001182743,
          -0.00010123329839352,
          -0.00017408493132064224,
          -0.00006992975281292906,
          -0.00012927854462285927,
          -0.000024699449430743355,
          -0.00006196812718568129,
          0.00003599547846808956,
          0.000042225488866948,
          0.00010719782246144722,
          0.00020367771800211594,
          0.000173288308408426,
          0.00041643202337592245,
          0.00008650712678084075,
          0.00008387488759533537,
          0.00007821664154278507,
          0.00007811802899178544,
          0.00008451085029558359,
          0.00010457533135593723,
          0.00010601388031311692,
          0.00007474374327692177,
          0.00007183956462182633,
          0.00007299851718438934,
          0.00007338669009975407,
          0.00007272404791212986,
          0.0000720733111933132,
          0.00007461808727087111,
          0.00008799179535010772,
          0.0001497473156945808,
          0.00014034232608560294,
          0.00008986835001907572,
          0.000060542172489973406,
          0.0000627005584093256,
          0.00006684109008425289,
          0.0000694596778716683,
          0.00007124347390832325,
          0.00007039610817596118,
          0.0000683383669114017,
          0.00006473184640027303,
          0.00006196497846036222,
          0.00006149709547196025,
          0.00007901495833552301,
          0.00006556078029976384,
          0.00004413114679005077,
          0.00005218741845338799,
          0.00005938280442733798,
          0.00006432870100963063,
          0.00006746979402126734,
          0.00006858467827403783,
          0.00006846313240902593,
          0.00006647924230056172,
          0.00006224852246866373,
          0.00005599261147162172,
          0.00004850510041628069,
          0.000039884095850709415,
          0.00003775736187479022,
          0.000038575241732719503,
          0.000027449700530341063,
          0.00004060594782951135,
          0.000051135212291366334,
          0.00005810012288560699,
          0.00006278573946765032,
          0.0000654393193573456,
          0.00006633311048281337,
          0.00006548217017389228,
          0.00006265037827451834,
          0.00005823506513093542,
          0.00005115417924762314,
          0.00004091257377450995,
          0.00002619958298714797,
          0.000008822207307745043,
          0.000008699067189602278,
          0.000010980326124538834,
          0.000029427729945281473,
          0.000043274411585937796,
          0.00005221842019216971,
          0.00005811041968402638,
          0.00006156120383540225,
          0.0000629797822751222,
          0.00006256123509254721,
          0.00006016650948170083,
          0.000055645676286108176,
          0.00004826340892755468,
          0.00003740743666650623,
          0.000021163768235192665,
          -0.0000028045209259544172,
          -0.00002005185055388862,
          -0.0000053390888106962925,
          0.000019359080798075047,
          0.00003538557112543035,
          0.00004591547801321182,
          0.00005270332127748136,
          0.00005663992407400654,
          0.000058241233500461805,
          0.000057739129469358,
          0.00005499533093832992,
          0.000049778271149648765,
          0.000041196881695019644,
          0.00002827842793090625,
          0.000008582703772010038,
          -0.000021182470276752627,
          -0.00004335191585082692,
          -0.000018698842282414906,
          0.000009617329816976574,
          0.000027377544270828184,
          0.00003897331864185552,
          0.000046266899262783474,
          0.000050315129532969625,
          0.00005161399335476925,
          0.000050360733209547505,
          0.00004598994998209539,
          0.00003878786418504289,
          0.000026984902651638708,
          0.000008868462010440151,
          -0.000019616080451028072,
          -0.00006295750047803853,
          -0.00006375018705492632,
          -0.00003027551119417119,
          0.0000011710902192151257,
          0.000020564254165067927,
          0.00003262372635846401,
          0.0000394862001609898,
          0.000042081276517942515,
          0.000041543461426653734,
          0.000036946237927066925,
          0.000027290022729063645,
          0.000011938524908516724,
          -0.000012985245369111565,
          -0.00005186121356545226,
          -0.00008102380995198627,
          -0.000039561291715079816,
          -0.000005954892822735351,
          0.000013898427814455133,
          0.000024874079085614674,
          0.000029888309055822535,
          0.00002788955511965715,
          0.00002067735830220744,
          0.00000513294499041722,
          -0.000020901664530735115,
          -0.00006302499082086994,
          -0.00009405399149588006,
          -0.00004629336859147324,
          -0.000011970591189181126,
          0.000006234489784851389,
          0.00001204193156263092,
          0.000005976879656219398,
          -0.000011601060096716902,
          -0.000047147563706209716,
          -0.00010215571149286633,
          -0.00010231452166455136,
          -0.00005071548119797718,
          -0.000018045537953745366,
          -0.000018083157322518053,
          -0.00005066269739755782,
          -0.00010070495496737272,
          -0.00010072969818555194,
          -0.000052264644567511405,
          0.00026144279958571765,
          0.0005385570121619581,
          0.0006773256119125123,
          0.0005370020996860284,
          0.00025559240184590336,
          0.00005065807143933729,
          0.00011629228345980088,
          0.00020491600729499065,
          0.00025543615449062586,
          0.00020347126475759645,
          0.00012094059956200614,
          0.000049403051873394565,
          -0.00006031821714840652,
          -0.00002073753319475427,
          0.000014735769369296916,
          0.00003667286900056482,
          0.000027354658883297822,
          -6.907414009113749e-7,
          -0.00003920765426732751,
          -0.00007359601306274411,
          -0.00014087582578848137,
          -0.0001217719973549791,
          -0.00010711519999028989,
          -0.00009636562741356579,
          -0.00009385669801117908,
          -0.00010096970287755229,
          -0.00011503234970209892,
          -0.00013150777015361655,
          -0.0001428370439934529,
          -0.00018895814614643933,
          -0.0001847738220082182,
          -0.00017708622999064054,
          -0.00016752551952890473,
          -0.00016489743904027734,
          -0.00016595588103472962,
          -0.0001721457582484353,
          -0.0001809073052483869,
          -0.00018835891804905576,
          -0.00021486595764884844,
          -0.0002106578706404249,
          -0.0002095683747366623,
          -0.00020475883886186642,
          -0.00020813567866378118,
          -0.00021081638122152354,
          -0.00021558285666189715,
          -0.00023543790988097494,
          -0.00022689917464426292,
          -0.00023122183431360983,
          -0.00022725763215326522,
          -0.00023562526874398572,
          -0.00024153123243417536,
          -0.00024149397264444086
         ],
         "j": [
          1,
          4,
          7,
          10,
          13,
          16,
          19,
          22,
          25,
          28,
          31,
          34,
          37,
          40,
          43,
          44,
          44,
          46,
          47,
          48,
          50,
          45,
          53,
          54,
          55,
          56,
          58,
          51,
          63,
          65,
          66,
          67,
          69,
          70,
          71,
          62,
          75,
          77,
          78,
          80,
          81,
          82,
          84,
          85,
          74,
          89,
          91,
          92,
          94,
          95,
          97,
          98,
          100,
          88,
          104,
          105,
          107,
          108,
          110,
          111,
          113,
          114,
          116,
          103,
          120,
          121,
          123,
          124,
          126,
          127,
          129,
          130,
          133,
          134,
          136,
          137,
          139,
          140,
          142,
          144,
          145,
          133,
          150,
          151,
          153,
          155,
          156,
          158,
          161,
          162,
          164,
          166,
          167,
          169,
          172,
          173,
          175,
          177,
          179,
          182,
          185,
          186,
          185,
          179,
          159,
          146,
          116,
          86,
          72,
          59,
          50,
          60,
          73,
          102,
          132,
          147,
          171,
          188,
          190,
          191,
          192,
          195,
          196,
          197,
          199,
          201,
          202,
          204,
          205,
          207,
          209,
          210,
          212,
          213,
          215,
          218,
          219,
          221,
          223,
          224,
          227,
          229,
          231,
          234,
          236,
          237,
          232,
          225,
          207,
          199,
          192,
          190,
          188,
          193,
          200,
          217,
          226,
          233,
          239,
          4,
          6,
          10,
          12,
          16,
          18,
          22,
          24,
          28,
          30,
          34,
          36,
          40,
          42,
          45,
          48,
          45,
          46,
          47,
          48,
          50,
          51,
          64,
          66,
          55,
          56,
          71,
          62,
          63,
          77,
          79,
          67,
          82,
          84,
          71,
          74,
          75,
          91,
          78,
          94,
          96,
          82,
          99,
          85,
          88,
          89,
          106,
          92,
          109,
          95,
          112,
          98,
          115,
          117,
          119,
          105,
          122,
          108,
          125,
          111,
          128,
          114,
          117,
          118,
          134,
          121,
          137,
          124,
          140,
          127,
          143,
          130,
          132,
          134,
          150,
          137,
          153,
          140,
          142,
          157,
          145,
          148,
          162,
          151,
          153,
          166,
          156,
          169,
          160,
          162,
          164,
          175,
          167,
          169,
          171,
          173,
          175,
          177,
          180,
          182,
          185,
          24,
          20,
          18,
          14,
          12,
          10,
          6,
          59,
          0,
          0,
          40,
          38,
          36,
          32,
          30,
          26,
          188,
          195,
          197,
          193,
          201,
          203,
          197,
          206,
          209,
          202,
          212,
          205,
          215,
          218,
          210,
          221,
          213,
          224,
          226,
          219,
          221,
          230,
          224,
          227,
          229,
          236,
          234,
          236,
          27,
          31,
          33,
          37,
          39,
          43,
          1,
          5,
          9,
          11,
          15,
          17,
          21,
          1,
          5,
          7,
          11,
          13,
          17,
          19,
          23,
          25,
          29,
          31,
          35,
          37,
          41,
          43,
          47,
          50,
          53,
          55,
          57,
          59,
          51,
          64,
          66,
          67,
          69,
          71,
          73,
          75,
          77,
          78,
          80,
          82,
          83,
          85,
          87,
          89,
          91,
          92,
          94,
          95,
          97,
          99,
          100,
          102,
          104,
          106,
          107,
          109,
          110,
          112,
          113,
          115,
          116,
          104,
          120,
          122,
          123,
          125,
          126,
          128,
          129,
          131,
          118,
          134,
          135,
          137,
          138,
          140,
          141,
          143,
          144,
          146,
          148,
          150,
          151,
          153,
          154,
          155,
          157,
          158,
          160,
          162,
          163,
          165,
          166,
          167,
          169,
          170,
          172,
          174,
          175,
          176,
          177,
          179,
          181,
          182,
          183,
          184,
          181,
          187,
          187,
          185,
          18,
          159,
          12,
          116,
          86,
          4,
          2,
          50,
          40,
          38,
          102,
          132,
          30,
          171,
          24,
          195,
          197,
          198,
          201,
          203,
          204,
          206,
          209,
          210,
          212,
          213,
          215,
          218,
          219,
          221,
          222,
          224,
          225,
          227,
          228,
          230,
          231,
          233,
          235,
          236,
          237,
          239,
          25,
          232,
          33,
          207,
          39,
          43,
          190,
          188,
          193,
          11,
          217,
          17,
          21,
          239
         ],
         "k": [
          2,
          5,
          8,
          11,
          14,
          17,
          20,
          23,
          26,
          29,
          32,
          35,
          38,
          41,
          44,
          44,
          46,
          47,
          48,
          49,
          45,
          52,
          53,
          54,
          56,
          57,
          58,
          51,
          64,
          65,
          66,
          68,
          69,
          70,
          72,
          62,
          76,
          77,
          79,
          80,
          81,
          83,
          84,
          86,
          74,
          90,
          91,
          93,
          94,
          96,
          97,
          99,
          100,
          88,
          104,
          106,
          107,
          109,
          110,
          112,
          113,
          115,
          103,
          119,
          120,
          122,
          123,
          125,
          126,
          128,
          129,
          131,
          118,
          135,
          136,
          138,
          139,
          141,
          143,
          144,
          146,
          149,
          150,
          152,
          154,
          155,
          157,
          158,
          148,
          163,
          165,
          166,
          168,
          170,
          161,
          174,
          176,
          178,
          181,
          183,
          186,
          186,
          185,
          170,
          159,
          131,
          101,
          86,
          72,
          59,
          60,
          61,
          87,
          117,
          132,
          160,
          171,
          189,
          190,
          191,
          194,
          195,
          196,
          198,
          199,
          201,
          203,
          204,
          206,
          207,
          209,
          211,
          212,
          214,
          215,
          218,
          220,
          222,
          223,
          225,
          228,
          230,
          231,
          235,
          237,
          237,
          232,
          216,
          207,
          192,
          191,
          189,
          188,
          193,
          208,
          217,
          233,
          238,
          2,
          4,
          8,
          10,
          14,
          16,
          20,
          22,
          26,
          28,
          32,
          34,
          38,
          40,
          0,
          46,
          49,
          52,
          54,
          56,
          58,
          61,
          63,
          65,
          54,
          68,
          70,
          61,
          62,
          76,
          65,
          66,
          81,
          69,
          70,
          73,
          74,
          90,
          77,
          93,
          80,
          81,
          98,
          84,
          87,
          88,
          105,
          91,
          108,
          94,
          111,
          97,
          114,
          100,
          103,
          104,
          121,
          107,
          124,
          110,
          127,
          113,
          130,
          132,
          133,
          120,
          136,
          123,
          139,
          126,
          142,
          129,
          145,
          133,
          149,
          136,
          152,
          139,
          141,
          156,
          144,
          147,
          161,
          150,
          164,
          165,
          155,
          168,
          158,
          161,
          173,
          174,
          166,
          168,
          178,
          172,
          174,
          176,
          178,
          180,
          183,
          186,
          22,
          20,
          16,
          14,
          10,
          8,
          6,
          4,
          0,
          42,
          40,
          36,
          34,
          32,
          28,
          26,
          194,
          196,
          191,
          200,
          202,
          196,
          205,
          208,
          201,
          211,
          204,
          214,
          217,
          209,
          220,
          212,
          223,
          215,
          218,
          220,
          229,
          223,
          226,
          234,
          235,
          231,
          238,
          239,
          29,
          31,
          35,
          37,
          41,
          1,
          3,
          7,
          9,
          13,
          15,
          19,
          23,
          3,
          5,
          9,
          11,
          15,
          17,
          21,
          23,
          27,
          29,
          33,
          35,
          39,
          41,
          1,
          48,
          45,
          54,
          56,
          58,
          61,
          52,
          64,
          66,
          68,
          70,
          71,
          62,
          76,
          77,
          79,
          81,
          82,
          84,
          86,
          74,
          90,
          91,
          93,
          94,
          96,
          98,
          99,
          101,
          88,
          105,
          106,
          108,
          109,
          111,
          112,
          114,
          115,
          117,
          119,
          121,
          122,
          124,
          125,
          127,
          128,
          130,
          131,
          119,
          134,
          136,
          137,
          139,
          140,
          142,
          143,
          145,
          147,
          149,
          150,
          152,
          153,
          155,
          156,
          157,
          159,
          148,
          162,
          164,
          165,
          166,
          168,
          169,
          171,
          173,
          174,
          175,
          177,
          178,
          180,
          182,
          183,
          184,
          185,
          187,
          187,
          24,
          20,
          170,
          14,
          131,
          101,
          6,
          59,
          0,
          60,
          61,
          87,
          117,
          32,
          160,
          26,
          194,
          195,
          197,
          199,
          201,
          203,
          205,
          206,
          209,
          211,
          212,
          214,
          215,
          218,
          220,
          221,
          223,
          224,
          226,
          228,
          229,
          230,
          232,
          234,
          235,
          236,
          238,
          239,
          27,
          31,
          216,
          37,
          192,
          191,
          189,
          5,
          9,
          208,
          15,
          233,
          238,
          25
         ],
         "type": "mesh3d",
         "x": [
          1.611,
          1.341,
          1.032,
          0.51,
          -0.304,
          -0.758,
          -1.475,
          -1.589,
          -1.674,
          -1.408,
          -0.762,
          -0.341,
          0.631,
          0.876,
          1.543,
          1.852,
          1.852,
          1.69,
          1.69,
          1.69,
          1.69,
          1.432,
          1.432,
          1.432,
          1.432,
          1.091,
          1.091,
          1.091,
          1.091,
          1.091,
          0.688,
          0.688,
          0.688,
          0.688,
          0.688,
          0.247,
          0.247,
          0.247,
          0.247,
          0.247,
          -0.209,
          -0.209,
          -0.209,
          -0.209,
          -0.209,
          -0.65,
          -0.65,
          -0.65,
          -0.65,
          -0.65,
          -1.053,
          -1.053,
          -1.053,
          -1.053,
          -1.394,
          -1.394,
          -1.394,
          -1.394,
          -1.652,
          -1.652,
          -1.652,
          -1.814,
          -1.814,
          1.122,
          1.122,
          0.783,
          0.783,
          0.355,
          0.355,
          0.355,
          -0.12,
          -0.12,
          -0.12,
          -0.594,
          -0.594,
          -0.594,
          -1.022,
          -1.022,
          -1.362,
          -1.362,
          0,
          -0.432,
          -1.273,
          -1.396,
          -1.667,
          -1.396,
          -0.911,
          -0.432,
          0.475,
          0.83,
          1.532,
          1.519,
          1.532,
          1.16,
          0.475,
          0.452,
          -0.452,
          0.877,
          0,
          -0.877,
          0.439,
          1.167,
          0.115,
          -1.064,
          -1.064,
          1.484,
          0.568,
          -0.777,
          -1.536,
          1.484,
          1.528,
          0.457,
          -0.882,
          -1.705,
          1.705,
          1.642,
          0.579,
          -0.798,
          -1.742,
          1.815,
          1.642,
          0.579,
          -0.798,
          -1.742,
          1.815,
          1.528,
          0.457,
          -0.882,
          -1.705,
          1.705,
          1.283,
          0.116,
          -1.139,
          -1.536,
          1.167,
          0.115,
          -1.064,
          1.167,
          0.439,
          -0.76,
          0.76,
          -0.226,
          0.226,
          -0.451,
          0.781,
          -0.475,
          0.878,
          -0.989,
          0.358,
          1.381,
          -0.767,
          0.561,
          1.467,
          -0.989,
          0.358,
          1.381,
          -0.475,
          0.878,
          -0.451,
          0.781,
          -0.359,
          -0.927,
          -0.301,
          -0.844,
          -0.168,
          -0.718,
          -0.051,
          -0.635,
          -0.032,
          -0.653,
          -0.123,
          -0.759,
          -0.261,
          -0.88,
          -0.352,
          0.656,
          0.656,
          0.656,
          1.533,
          0.656,
          -0.104,
          1.108,
          1.902,
          1.315,
          -0.003,
          1.113,
          2.102,
          2.001,
          0.887,
          0.198,
          1.538,
          2.36,
          2.184,
          1.112,
          0.199,
          1.558,
          2.438,
          2.351,
          1.345,
          0.19,
          1.558,
          2.438,
          2.351,
          1.345,
          0.19,
          1.538,
          2.36,
          2.184,
          1.112,
          0.199,
          1.531,
          2.205,
          1.712,
          0.424,
          1.108,
          1.902,
          1.315,
          0.203,
          1.415,
          1.094,
          0.217,
          1.047,
          0.264,
          -1.519,
          -1.188,
          -1.885,
          -1.615,
          -1.811,
          -2.152,
          -1.211,
          -2.067,
          -2.166,
          -1.19,
          -1.811,
          -2.152,
          -1.211,
          -1.885,
          -1.615,
          -1.519,
          -1.188
         ],
         "y": [
          1.403,
          1.345,
          0.876,
          0.173,
          -0.341,
          -1.163,
          -1.408,
          -1.742,
          -1.589,
          -1.163,
          -0.758,
          0.173,
          0.51,
          1.345,
          1.341,
          1.852,
          1.852,
          1.69,
          1.69,
          1.69,
          1.69,
          1.432,
          1.432,
          1.432,
          1.432,
          1.091,
          1.091,
          1.091,
          1.091,
          0.688,
          0.688,
          0.688,
          0.688,
          0.688,
          0.247,
          0.247,
          0.247,
          0.247,
          0.247,
          -0.209,
          -0.209,
          -0.209,
          -0.209,
          -0.209,
          -0.65,
          -0.65,
          -0.65,
          -0.65,
          -0.65,
          -1.053,
          -1.053,
          -1.053,
          -1.053,
          -1.053,
          -1.394,
          -1.394,
          -1.394,
          -1.652,
          -1.652,
          -1.652,
          -1.814,
          -1.814,
          -1.868,
          1.122,
          0.783,
          0.783,
          0.783,
          0.355,
          0.355,
          -0.12,
          -0.12,
          -0.12,
          -0.594,
          -0.594,
          -0.594,
          -1.022,
          -1.022,
          -1.022,
          -1.362,
          -1.58,
          0,
          -0.911,
          -1.16,
          -1.667,
          -1.519,
          -1.273,
          -0.83,
          0,
          0.432,
          1.273,
          1.396,
          1.667,
          1.396,
          0.911,
          0.432,
          0.226,
          -0.226,
          0.76,
          -0.439,
          -0.76,
          0.76,
          0.925,
          -0.343,
          -1.23,
          1.167,
          1.283,
          0.116,
          -1.139,
          -1.536,
          1.765,
          1.248,
          0,
          -1.248,
          -1.765,
          1.874,
          1.366,
          0.118,
          -1.194,
          -1.859,
          1.874,
          1.366,
          0.118,
          -1.194,
          -1.859,
          1.765,
          1.248,
          0,
          -1.248,
          -1.765,
          1.553,
          0.969,
          -0.346,
          -1.4,
          1.484,
          0.925,
          -0.343,
          -1.23,
          0.877,
          0,
          -0.877,
          0.452,
          -0.452,
          0,
          0,
          -1.147,
          0,
          1.147,
          -0.586,
          0.798,
          -1.383,
          -0.342,
          0.957,
          -1.44,
          -0.586,
          0.798,
          -1.147,
          0,
          1.147,
          0,
          -0.237,
          -0.933,
          -0.332,
          -0.88,
          -0.216,
          -0.759,
          -0.083,
          -0.653,
          -0.025,
          -0.635,
          -0.083,
          -0.718,
          -0.216,
          -0.844,
          -0.332,
          -0.927,
          1.047,
          0.264,
          1.094,
          1.415,
          0.217,
          0.217,
          1.499,
          1.859,
          0.886,
          0.203,
          1.531,
          2.205,
          1.712,
          0.424,
          0.656,
          1.904,
          2.42,
          1.904,
          0.656,
          0.656,
          1.938,
          2.526,
          2.099,
          0.89,
          0.656,
          1.938,
          2.526,
          2.099,
          0.89,
          0.656,
          1.904,
          2.42,
          1.904,
          0.656,
          0.656,
          1.87,
          2.17,
          1.33,
          0.198,
          1.499,
          1.859,
          0.886,
          0.656,
          1.533,
          0.656,
          0.656,
          0.656,
          0.656,
          -1.639,
          -1.212,
          -1.979,
          -1.212,
          -2.074,
          -1.959,
          -1.403,
          -2.234,
          -1.937,
          -0.977,
          -2.074,
          -1.959,
          -1.212,
          -1.979,
          -1.212,
          -1.639,
          -1.148
         ],
         "z": [
          1.543,
          1.16,
          0.631,
          0.093,
          -0.762,
          -1.124,
          -1.674,
          -1.651,
          -1.475,
          -1.124,
          -0.304,
          0.093,
          1.032,
          1.16,
          1.907,
          1.852,
          1.852,
          1.69,
          1.69,
          1.69,
          1.432,
          1.432,
          1.432,
          1.432,
          1.091,
          1.091,
          1.091,
          1.091,
          1.091,
          0.688,
          0.688,
          0.688,
          0.688,
          0.688,
          0.247,
          0.247,
          0.247,
          0.247,
          0.247,
          -0.209,
          -0.209,
          -0.209,
          -0.209,
          -0.209,
          -0.65,
          -0.65,
          -0.65,
          -0.65,
          -0.65,
          -1.053,
          -1.053,
          -1.053,
          -1.053,
          -1.394,
          -1.394,
          -1.394,
          -1.394,
          -1.652,
          -1.652,
          -1.652,
          -1.814,
          -1.814,
          1.122,
          1.122,
          0.783,
          0.783,
          0.355,
          0.355,
          0.355,
          -0.12,
          -0.12,
          -0.12,
          -0.594,
          -0.594,
          -0.594,
          -1.022,
          -1.022,
          -1.362,
          -1.362,
          -1.58,
          -0.475,
          -0.83,
          -1.532,
          -1.519,
          -1.532,
          -1.16,
          -0.475,
          0,
          0.911,
          1.16,
          1.667,
          1.519,
          1.273,
          0.83,
          0,
          -0.226,
          0.226,
          0.439,
          -0.76,
          -0.439,
          1.252,
          0.558,
          -0.754,
          -1.23,
          1.553,
          0.969,
          -0.346,
          -1.4,
          -1.4,
          1.705,
          0.882,
          -0.457,
          -1.528,
          -1.705,
          1.815,
          1.004,
          -0.351,
          -1.516,
          -1.859,
          1.815,
          1.004,
          -0.351,
          -1.516,
          -1.859,
          1.705,
          0.882,
          -0.457,
          -1.528,
          -1.705,
          1.484,
          0.568,
          -0.777,
          -1.536,
          1.252,
          0.558,
          -0.754,
          -1.23,
          0.76,
          -0.439,
          -0.76,
          0.226,
          -0.226,
          -0.781,
          0.451,
          -0.878,
          0.475,
          -1.284,
          -0.121,
          1.152,
          -1.125,
          0.115,
          1.268,
          -1.284,
          -0.121,
          1.152,
          -0.878,
          0.475,
          -0.781,
          0.451,
          0.237,
          -0.352,
          -0.909,
          -0.261,
          -0.802,
          -0.123,
          -0.681,
          -0.032,
          -0.629,
          -0.051,
          -0.681,
          -0.168,
          -0.802,
          -0.301,
          -0.909,
          0.656,
          1.047,
          0.264,
          1.415,
          1.094,
          -0.104,
          0.656,
          1.776,
          1.654,
          0.426,
          0.656,
          1.87,
          2.17,
          1.33,
          -0.018,
          1.112,
          2.184,
          2.36,
          1.538,
          0.199,
          1.122,
          2.238,
          2.496,
          1.757,
          0.421,
          1.122,
          2.238,
          2.496,
          1.757,
          0.421,
          1.112,
          2.184,
          2.36,
          1.538,
          0.199,
          1.113,
          2.102,
          2.001,
          0.887,
          0.656,
          1.776,
          1.654,
          0.426,
          1.094,
          1.415,
          0.217,
          1.047,
          0.264,
          -1.188,
          -1.519,
          -1.615,
          -1.885,
          -1.432,
          -2.192,
          -1.634,
          -1.781,
          -2.268,
          -1.602,
          -1.432,
          -2.192,
          -1.634,
          -1.615,
          -1.885,
          -1.188,
          -1.519,
          -1.148
         ]
        }
       ],
       "layout": {
        "scene": {
         "aspectmode": "data"
        },
        "template": {
         "data": {
          "bar": [
           {
            "error_x": {
             "color": "#2a3f5f"
            },
            "error_y": {
             "color": "#2a3f5f"
            },
            "marker": {
             "line": {
              "color": "#E5ECF6",
              "width": 0.5
             },
             "pattern": {
              "fillmode": "overlay",
              "size": 10,
              "solidity": 0.2
             }
            },
            "type": "bar"
           }
          ],
          "barpolar": [
           {
            "marker": {
             "line": {
              "color": "#E5ECF6",
              "width": 0.5
             },
             "pattern": {
              "fillmode": "overlay",
              "size": 10,
              "solidity": 0.2
             }
            },
            "type": "barpolar"
           }
          ],
          "carpet": [
           {
            "aaxis": {
             "endlinecolor": "#2a3f5f",
             "gridcolor": "white",
             "linecolor": "white",
             "minorgridcolor": "white",
             "startlinecolor": "#2a3f5f"
            },
            "baxis": {
             "endlinecolor": "#2a3f5f",
             "gridcolor": "white",
             "linecolor": "white",
             "minorgridcolor": "white",
             "startlinecolor": "#2a3f5f"
            },
            "type": "carpet"
           }
          ],
          "choropleth": [
           {
            "colorbar": {
             "outlinewidth": 0,
             "ticks": ""
            },
            "type": "choropleth"
           }
          ],
          "contour": [
           {
            "colorbar": {
             "outlinewidth": 0,
             "ticks": ""
            },
            "colorscale": [
             [
              0,
              "#0d0887"
             ],
             [
              0.1111111111111111,
              "#46039f"
             ],
             [
              0.2222222222222222,
              "#7201a8"
             ],
             [
              0.3333333333333333,
              "#9c179e"
             ],
             [
              0.4444444444444444,
              "#bd3786"
             ],
             [
              0.5555555555555556,
              "#d8576b"
             ],
             [
              0.6666666666666666,
              "#ed7953"
             ],
             [
              0.7777777777777778,
              "#fb9f3a"
             ],
             [
              0.8888888888888888,
              "#fdca26"
             ],
             [
              1,
              "#f0f921"
             ]
            ],
            "type": "contour"
           }
          ],
          "contourcarpet": [
           {
            "colorbar": {
             "outlinewidth": 0,
             "ticks": ""
            },
            "type": "contourcarpet"
           }
          ],
          "heatmap": [
           {
            "colorbar": {
             "outlinewidth": 0,
             "ticks": ""
            },
            "colorscale": [
             [
              0,
              "#0d0887"
             ],
             [
              0.1111111111111111,
              "#46039f"
             ],
             [
              0.2222222222222222,
              "#7201a8"
             ],
             [
              0.3333333333333333,
              "#9c179e"
             ],
             [
              0.4444444444444444,
              "#bd3786"
             ],
             [
              0.5555555555555556,
              "#d8576b"
             ],
             [
              0.6666666666666666,
              "#ed7953"
             ],
             [
              0.7777777777777778,
              "#fb9f3a"
             ],
             [
              0.8888888888888888,
              "#fdca26"
             ],
             [
              1,
              "#f0f921"
             ]
            ],
            "type": "heatmap"
           }
          ],
          "heatmapgl": [
           {
            "colorbar": {
             "outlinewidth": 0,
             "ticks": ""
            },
            "colorscale": [
             [
              0,
              "#0d0887"
             ],
             [
              0.1111111111111111,
              "#46039f"
             ],
             [
              0.2222222222222222,
              "#7201a8"
             ],
             [
              0.3333333333333333,
              "#9c179e"
             ],
             [
              0.4444444444444444,
              "#bd3786"
             ],
             [
              0.5555555555555556,
              "#d8576b"
             ],
             [
              0.6666666666666666,
              "#ed7953"
             ],
             [
              0.7777777777777778,
              "#fb9f3a"
             ],
             [
              0.8888888888888888,
              "#fdca26"
             ],
             [
              1,
              "#f0f921"
             ]
            ],
            "type": "heatmapgl"
           }
          ],
          "histogram": [
           {
            "marker": {
             "pattern": {
              "fillmode": "overlay",
              "size": 10,
              "solidity": 0.2
             }
            },
            "type": "histogram"
           }
          ],
          "histogram2d": [
           {
            "colorbar": {
             "outlinewidth": 0,
             "ticks": ""
            },
            "colorscale": [
             [
              0,
              "#0d0887"
             ],
             [
              0.1111111111111111,
              "#46039f"
             ],
             [
              0.2222222222222222,
              "#7201a8"
             ],
             [
              0.3333333333333333,
              "#9c179e"
             ],
             [
              0.4444444444444444,
              "#bd3786"
             ],
             [
              0.5555555555555556,
              "#d8576b"
             ],
             [
              0.6666666666666666,
              "#ed7953"
             ],
             [
              0.7777777777777778,
              "#fb9f3a"
             ],
             [
              0.8888888888888888,
              "#fdca26"
             ],
             [
              1,
              "#f0f921"
             ]
            ],
            "type": "histogram2d"
           }
          ],
          "histogram2dcontour": [
           {
            "colorbar": {
             "outlinewidth": 0,
             "ticks": ""
            },
            "colorscale": [
             [
              0,
              "#0d0887"
             ],
             [
              0.1111111111111111,
              "#46039f"
             ],
             [
              0.2222222222222222,
              "#7201a8"
             ],
             [
              0.3333333333333333,
              "#9c179e"
             ],
             [
              0.4444444444444444,
              "#bd3786"
             ],
             [
              0.5555555555555556,
              "#d8576b"
             ],
             [
              0.6666666666666666,
              "#ed7953"
             ],
             [
              0.7777777777777778,
              "#fb9f3a"
             ],
             [
              0.8888888888888888,
              "#fdca26"
             ],
             [
              1,
              "#f0f921"
             ]
            ],
            "type": "histogram2dcontour"
           }
          ],
          "mesh3d": [
           {
            "colorbar": {
             "outlinewidth": 0,
             "ticks": ""
            },
            "type": "mesh3d"
           }
          ],
          "parcoords": [
           {
            "line": {
             "colorbar": {
              "outlinewidth": 0,
              "ticks": ""
             }
            },
            "type": "parcoords"
           }
          ],
          "pie": [
           {
            "automargin": true,
            "type": "pie"
           }
          ],
          "scatter": [
           {
            "fillpattern": {
             "fillmode": "overlay",
             "size": 10,
             "solidity": 0.2
            },
            "type": "scatter"
           }
          ],
          "scatter3d": [
           {
            "line": {
             "colorbar": {
              "outlinewidth": 0,
              "ticks": ""
             }
            },
            "marker": {
             "colorbar": {
              "outlinewidth": 0,
              "ticks": ""
             }
            },
            "type": "scatter3d"
           }
          ],
          "scattercarpet": [
           {
            "marker": {
             "colorbar": {
              "outlinewidth": 0,
              "ticks": ""
             }
            },
            "type": "scattercarpet"
           }
          ],
          "scattergeo": [
           {
            "marker": {
             "colorbar": {
              "outlinewidth": 0,
              "ticks": ""
             }
            },
            "type": "scattergeo"
           }
          ],
          "scattergl": [
           {
            "marker": {
             "colorbar": {
              "outlinewidth": 0,
              "ticks": ""
             }
            },
            "type": "scattergl"
           }
          ],
          "scattermapbox": [
           {
            "marker": {
             "colorbar": {
              "outlinewidth": 0,
              "ticks": ""
             }
            },
            "type": "scattermapbox"
           }
          ],
          "scatterpolar": [
           {
            "marker": {
             "colorbar": {
              "outlinewidth": 0,
              "ticks": ""
             }
            },
            "type": "scatterpolar"
           }
          ],
          "scatterpolargl": [
           {
            "marker": {
             "colorbar": {
              "outlinewidth": 0,
              "ticks": ""
             }
            },
            "type": "scatterpolargl"
           }
          ],
          "scatterternary": [
           {
            "marker": {
             "colorbar": {
              "outlinewidth": 0,
              "ticks": ""
             }
            },
            "type": "scatterternary"
           }
          ],
          "surface": [
           {
            "colorbar": {
             "outlinewidth": 0,
             "ticks": ""
            },
            "colorscale": [
             [
              0,
              "#0d0887"
             ],
             [
              0.1111111111111111,
              "#46039f"
             ],
             [
              0.2222222222222222,
              "#7201a8"
             ],
             [
              0.3333333333333333,
              "#9c179e"
             ],
             [
              0.4444444444444444,
              "#bd3786"
             ],
             [
              0.5555555555555556,
              "#d8576b"
             ],
             [
              0.6666666666666666,
              "#ed7953"
             ],
             [
              0.7777777777777778,
              "#fb9f3a"
             ],
             [
              0.8888888888888888,
              "#fdca26"
             ],
             [
              1,
              "#f0f921"
             ]
            ],
            "type": "surface"
           }
          ],
          "table": [
           {
            "cells": {
             "fill": {
              "color": "#EBF0F8"
             },
             "line": {
              "color": "white"
             }
            },
            "header": {
             "fill": {
              "color": "#C8D4E3"
             },
             "line": {
              "color": "white"
             }
            },
            "type": "table"
           }
          ]
         },
         "layout": {
          "annotationdefaults": {
           "arrowcolor": "#2a3f5f",
           "arrowhead": 0,
           "arrowwidth": 1
          },
          "autotypenumbers": "strict",
          "coloraxis": {
           "colorbar": {
            "outlinewidth": 0,
            "ticks": ""
           }
          },
          "colorscale": {
           "diverging": [
            [
             0,
             "#8e0152"
            ],
            [
             0.1,
             "#c51b7d"
            ],
            [
             0.2,
             "#de77ae"
            ],
            [
             0.3,
             "#f1b6da"
            ],
            [
             0.4,
             "#fde0ef"
            ],
            [
             0.5,
             "#f7f7f7"
            ],
            [
             0.6,
             "#e6f5d0"
            ],
            [
             0.7,
             "#b8e186"
            ],
            [
             0.8,
             "#7fbc41"
            ],
            [
             0.9,
             "#4d9221"
            ],
            [
             1,
             "#276419"
            ]
           ],
           "sequential": [
            [
             0,
             "#0d0887"
            ],
            [
             0.1111111111111111,
             "#46039f"
            ],
            [
             0.2222222222222222,
             "#7201a8"
            ],
            [
             0.3333333333333333,
             "#9c179e"
            ],
            [
             0.4444444444444444,
             "#bd3786"
            ],
            [
             0.5555555555555556,
             "#d8576b"
            ],
            [
             0.6666666666666666,
             "#ed7953"
            ],
            [
             0.7777777777777778,
             "#fb9f3a"
            ],
            [
             0.8888888888888888,
             "#fdca26"
            ],
            [
             1,
             "#f0f921"
            ]
           ],
           "sequentialminus": [
            [
             0,
             "#0d0887"
            ],
            [
             0.1111111111111111,
             "#46039f"
            ],
            [
             0.2222222222222222,
             "#7201a8"
            ],
            [
             0.3333333333333333,
             "#9c179e"
            ],
            [
             0.4444444444444444,
             "#bd3786"
            ],
            [
             0.5555555555555556,
             "#d8576b"
            ],
            [
             0.6666666666666666,
             "#ed7953"
            ],
            [
             0.7777777777777778,
             "#fb9f3a"
            ],
            [
             0.8888888888888888,
             "#fdca26"
            ],
            [
             1,
             "#f0f921"
            ]
           ]
          },
          "colorway": [
           "#636efa",
           "#EF553B",
           "#00cc96",
           "#ab63fa",
           "#FFA15A",
           "#19d3f3",
           "#FF6692",
           "#B6E880",
           "#FF97FF",
           "#FECB52"
          ],
          "font": {
           "color": "#2a3f5f"
          },
          "geo": {
           "bgcolor": "white",
           "lakecolor": "white",
           "landcolor": "#E5ECF6",
           "showlakes": true,
           "showland": true,
           "subunitcolor": "white"
          },
          "hoverlabel": {
           "align": "left"
          },
          "hovermode": "closest",
          "mapbox": {
           "style": "light"
          },
          "paper_bgcolor": "white",
          "plot_bgcolor": "#E5ECF6",
          "polar": {
           "angularaxis": {
            "gridcolor": "white",
            "linecolor": "white",
            "ticks": ""
           },
           "bgcolor": "#E5ECF6",
           "radialaxis": {
            "gridcolor": "white",
            "linecolor": "white",
            "ticks": ""
           }
          },
          "scene": {
           "xaxis": {
            "backgroundcolor": "#E5ECF6",
            "gridcolor": "white",
            "gridwidth": 2,
            "linecolor": "white",
            "showbackground": true,
            "ticks": "",
            "zerolinecolor": "white"
           },
           "yaxis": {
            "backgroundcolor": "#E5ECF6",
            "gridcolor": "white",
            "gridwidth": 2,
            "linecolor": "white",
            "showbackground": true,
            "ticks": "",
            "zerolinecolor": "white"
           },
           "zaxis": {
            "backgroundcolor": "#E5ECF6",
            "gridcolor": "white",
            "gridwidth": 2,
            "linecolor": "white",
            "showbackground": true,
            "ticks": "",
            "zerolinecolor": "white"
           }
          },
          "shapedefaults": {
           "line": {
            "color": "#2a3f5f"
           }
          },
          "ternary": {
           "aaxis": {
            "gridcolor": "white",
            "linecolor": "white",
            "ticks": ""
           },
           "baxis": {
            "gridcolor": "white",
            "linecolor": "white",
            "ticks": ""
           },
           "bgcolor": "#E5ECF6",
           "caxis": {
            "gridcolor": "white",
            "linecolor": "white",
            "ticks": ""
           }
          },
          "title": {
           "x": 0.05
          },
          "xaxis": {
           "automargin": true,
           "gridcolor": "white",
           "linecolor": "white",
           "ticks": "",
           "title": {
            "standoff": 15
           },
           "zerolinecolor": "white",
           "zerolinewidth": 2
          },
          "yaxis": {
           "automargin": true,
           "gridcolor": "white",
           "linecolor": "white",
           "ticks": "",
           "title": {
            "standoff": 15
           },
           "zerolinecolor": "white",
           "zerolinewidth": 2
          }
         }
        }
       }
      },
      "text/html": [
       "<div>                            <div id=\"f2bf6600-d0aa-4521-9316-1f79e292a7d7\" class=\"plotly-graph-div\" style=\"height:525px; width:100%;\"></div>            <script type=\"text/javascript\">                require([\"plotly\"], function(Plotly) {                    window.PLOTLYENV=window.PLOTLYENV || {};                                    if (document.getElementById(\"f2bf6600-d0aa-4521-9316-1f79e292a7d7\")) {                    Plotly.newPlot(                        \"f2bf6600-d0aa-4521-9316-1f79e292a7d7\",                        [{\"colorscale\":[[0.0,\"rgb(5,48,97)\"],[0.1,\"rgb(33,102,172)\"],[0.2,\"rgb(67,147,195)\"],[0.3,\"rgb(146,197,222)\"],[0.4,\"rgb(209,229,240)\"],[0.5,\"rgb(247,247,247)\"],[0.6,\"rgb(253,219,199)\"],[0.7,\"rgb(244,165,130)\"],[0.8,\"rgb(214,96,77)\"],[0.9,\"rgb(178,24,43)\"],[1.0,\"rgb(103,0,31)\"]],\"i\":[0,3,6,9,12,15,18,21,24,27,30,33,36,39,42,44,44,46,47,48,49,45,52,53,55,56,57,51,63,64,66,67,68,70,71,62,75,76,78,79,81,82,83,85,74,89,90,92,93,95,96,98,99,101,88,105,106,108,109,111,112,114,115,103,119,121,122,124,125,127,128,130,131,134,135,137,138,140,142,143,145,148,149,151,152,154,156,157,159,162,163,165,167,169,170,173,175,177,179,172,184,181,186,179,170,146,131,101,72,59,49,60,73,87,117,147,160,180,189,190,192,194,195,197,198,200,202,203,205,206,208,210,211,213,214,216,219,221,222,224,227,228,230,232,235,237,237,225,216,199,192,191,189,188,200,208,226,233,238,2,6,8,12,14,18,20,24,26,30,32,36,38,42,0,47,50,53,55,57,60,51,52,53,67,69,57,73,75,64,78,80,68,83,85,87,89,76,92,79,95,97,83,100,102,104,90,107,93,110,96,113,99,102,103,120,106,123,109,126,112,129,115,118,119,135,122,138,125,141,128,144,132,148,135,151,138,154,155,143,158,147,149,163,152,154,167,157,160,172,163,165,176,177,171,181,182,183,184,181,184,180,22,18,16,12,10,8,4,2,0,40,38,36,34,30,28,193,189,190,198,194,195,204,198,200,210,203,213,206,208,219,211,222,214,217,227,228,222,231,233,228,230,233,235,25,29,33,35,39,43,1,3,7,11,13,17,21,23,3,7,9,13,15,19,21,25,27,31,33,37,39,43,46,49,52,54,56,58,61,63,65,67,68,70,72,63,76,78,80,81,83,85,86,75,90,92,93,95,97,98,100,101,89,105,107,108,110,111,113,114,116,103,120,121,123,124,126,127,129,130,132,133,135,136,138,139,141,142,144,145,133,149,151,152,154,155,156,158,159,161,163,164,165,167,168,170,161,173,174,176,177,178,172,182,183,184,186,187,187,22,179,16,146,10,8,72,58,49,42,73,36,34,147,28,180,194,196,198,200,202,204,205,207,210,211,213,214,216,219,220,222,223,225,227,228,229,231,232,234,235,237,238,239,29,225,35,199,41,1,3,7,200,13,226,19,23],\"intensity\":[0.00016755378310795283,0.0006582035348398213,0.00011317242414002538,0.0004043130302036375,9.53516086429532e-05,0.00018244638251500357,2.747298834993645e-05,3.2892052630527774e-05,-2.8724011938930975e-05,-6.774398754540753e-05,-6.86463524619985e-05,-0.00013536864953397754,-0.00010059998467036268,-0.0001761991076701783,-0.00012386019387692238,-0.0002044608338305184,-0.00013682725415671275,-0.00022578853597581312,-0.00014756302299399318,-0.00023563324212201407,-0.00015371797744437933,-0.00024500563358607886,-0.0001552210898547102,-0.0002445775162096725,-0.00015343616514132746,-0.0002449666366524879,-0.00014826255445962272,-0.00023531843712446476,-0.0001386569634575404,-0.00022486531036059831,-0.0001230474536343393,-0.00020456108001182743,-0.00010123329839352,-0.00017408493132064224,-6.992975281292906e-05,-0.00012927854462285927,-2.4699449430743355e-05,-6.196812718568129e-05,3.599547846808956e-05,4.2225488866948e-05,0.00010719782246144722,0.00020367771800211594,0.000173288308408426,0.00041643202337592245,8.650712678084075e-05,8.387488759533537e-05,7.821664154278507e-05,7.811802899178544e-05,8.451085029558359e-05,0.00010457533135593723,0.00010601388031311692,7.474374327692177e-05,7.183956462182633e-05,7.299851718438934e-05,7.338669009975407e-05,7.272404791212986e-05,7.20733111933132e-05,7.461808727087111e-05,8.799179535010772e-05,0.0001497473156945808,0.00014034232608560294,8.986835001907572e-05,6.0542172489973406e-05,6.27005584093256e-05,6.684109008425289e-05,6.94596778716683e-05,7.124347390832325e-05,7.039610817596118e-05,6.83383669114017e-05,6.473184640027303e-05,6.196497846036222e-05,6.149709547196025e-05,7.901495833552301e-05,6.556078029976384e-05,4.413114679005077e-05,5.218741845338799e-05,5.938280442733798e-05,6.432870100963063e-05,6.746979402126734e-05,6.858467827403783e-05,6.846313240902593e-05,6.647924230056172e-05,6.224852246866373e-05,5.599261147162172e-05,4.850510041628069e-05,3.9884095850709415e-05,3.775736187479022e-05,3.8575241732719503e-05,2.7449700530341063e-05,4.060594782951135e-05,5.1135212291366334e-05,5.810012288560699e-05,6.278573946765032e-05,6.54393193573456e-05,6.633311048281337e-05,6.548217017389228e-05,6.265037827451834e-05,5.823506513093542e-05,5.115417924762314e-05,4.091257377450995e-05,2.619958298714797e-05,8.822207307745043e-06,8.699067189602278e-06,1.0980326124538834e-05,2.9427729945281473e-05,4.3274411585937796e-05,5.221842019216971e-05,5.811041968402638e-05,6.156120383540225e-05,6.29797822751222e-05,6.256123509254721e-05,6.016650948170083e-05,5.5645676286108176e-05,4.826340892755468e-05,3.740743666650623e-05,2.1163768235192665e-05,-2.8045209259544172e-06,-2.005185055388862e-05,-5.3390888106962925e-06,1.9359080798075047e-05,3.538557112543035e-05,4.591547801321182e-05,5.270332127748136e-05,5.663992407400654e-05,5.8241233500461805e-05,5.7739129469358e-05,5.499533093832992e-05,4.9778271149648765e-05,4.1196881695019644e-05,2.827842793090625e-05,8.582703772010038e-06,-2.1182470276752627e-05,-4.335191585082692e-05,-1.8698842282414906e-05,9.617329816976574e-06,2.7377544270828184e-05,3.897331864185552e-05,4.6266899262783474e-05,5.0315129532969625e-05,5.161399335476925e-05,5.0360733209547505e-05,4.598994998209539e-05,3.878786418504289e-05,2.6984902651638708e-05,8.868462010440151e-06,-1.9616080451028072e-05,-6.295750047803853e-05,-6.375018705492632e-05,-3.027551119417119e-05,1.1710902192151257e-06,2.0564254165067927e-05,3.262372635846401e-05,3.94862001609898e-05,4.2081276517942515e-05,4.1543461426653734e-05,3.6946237927066925e-05,2.7290022729063645e-05,1.1938524908516724e-05,-1.2985245369111565e-05,-5.186121356545226e-05,-8.102380995198627e-05,-3.9561291715079816e-05,-5.954892822735351e-06,1.3898427814455133e-05,2.4874079085614674e-05,2.9888309055822535e-05,2.788955511965715e-05,2.067735830220744e-05,5.13294499041722e-06,-2.0901664530735115e-05,-6.302499082086994e-05,-9.405399149588006e-05,-4.629336859147324e-05,-1.1970591189181126e-05,6.234489784851389e-06,1.204193156263092e-05,5.976879656219398e-06,-1.1601060096716902e-05,-4.7147563706209716e-05,-0.00010215571149286633,-0.00010231452166455136,-5.071548119797718e-05,-1.8045537953745366e-05,-1.8083157322518053e-05,-5.066269739755782e-05,-0.00010070495496737272,-0.00010072969818555194,-5.2264644567511405e-05,0.00026144279958571765,0.0005385570121619581,0.0006773256119125123,0.0005370020996860284,0.00025559240184590336,5.065807143933729e-05,0.00011629228345980088,0.00020491600729499065,0.00025543615449062586,0.00020347126475759645,0.00012094059956200614,4.9403051873394565e-05,-6.031821714840652e-05,-2.073753319475427e-05,1.4735769369296916e-05,3.667286900056482e-05,2.7354658883297822e-05,-6.907414009113749e-07,-3.920765426732751e-05,-7.359601306274411e-05,-0.00014087582578848137,-0.0001217719973549791,-0.00010711519999028989,-9.636562741356579e-05,-9.385669801117908e-05,-0.00010096970287755229,-0.00011503234970209892,-0.00013150777015361655,-0.0001428370439934529,-0.00018895814614643933,-0.0001847738220082182,-0.00017708622999064054,-0.00016752551952890473,-0.00016489743904027734,-0.00016595588103472962,-0.0001721457582484353,-0.0001809073052483869,-0.00018835891804905576,-0.00021486595764884844,-0.0002106578706404249,-0.0002095683747366623,-0.00020475883886186642,-0.00020813567866378118,-0.00021081638122152354,-0.00021558285666189715,-0.00023543790988097494,-0.00022689917464426292,-0.00023122183431360983,-0.00022725763215326522,-0.00023562526874398572,-0.00024153123243417536,-0.00024149397264444086],\"j\":[1,4,7,10,13,16,19,22,25,28,31,34,37,40,43,44,44,46,47,48,50,45,53,54,55,56,58,51,63,65,66,67,69,70,71,62,75,77,78,80,81,82,84,85,74,89,91,92,94,95,97,98,100,88,104,105,107,108,110,111,113,114,116,103,120,121,123,124,126,127,129,130,133,134,136,137,139,140,142,144,145,133,150,151,153,155,156,158,161,162,164,166,167,169,172,173,175,177,179,182,185,186,185,179,159,146,116,86,72,59,50,60,73,102,132,147,171,188,190,191,192,195,196,197,199,201,202,204,205,207,209,210,212,213,215,218,219,221,223,224,227,229,231,234,236,237,232,225,207,199,192,190,188,193,200,217,226,233,239,4,6,10,12,16,18,22,24,28,30,34,36,40,42,45,48,45,46,47,48,50,51,64,66,55,56,71,62,63,77,79,67,82,84,71,74,75,91,78,94,96,82,99,85,88,89,106,92,109,95,112,98,115,117,119,105,122,108,125,111,128,114,117,118,134,121,137,124,140,127,143,130,132,134,150,137,153,140,142,157,145,148,162,151,153,166,156,169,160,162,164,175,167,169,171,173,175,177,180,182,185,24,20,18,14,12,10,6,59,0,0,40,38,36,32,30,26,188,195,197,193,201,203,197,206,209,202,212,205,215,218,210,221,213,224,226,219,221,230,224,227,229,236,234,236,27,31,33,37,39,43,1,5,9,11,15,17,21,1,5,7,11,13,17,19,23,25,29,31,35,37,41,43,47,50,53,55,57,59,51,64,66,67,69,71,73,75,77,78,80,82,83,85,87,89,91,92,94,95,97,99,100,102,104,106,107,109,110,112,113,115,116,104,120,122,123,125,126,128,129,131,118,134,135,137,138,140,141,143,144,146,148,150,151,153,154,155,157,158,160,162,163,165,166,167,169,170,172,174,175,176,177,179,181,182,183,184,181,187,187,185,18,159,12,116,86,4,2,50,40,38,102,132,30,171,24,195,197,198,201,203,204,206,209,210,212,213,215,218,219,221,222,224,225,227,228,230,231,233,235,236,237,239,25,232,33,207,39,43,190,188,193,11,217,17,21,239],\"k\":[2,5,8,11,14,17,20,23,26,29,32,35,38,41,44,44,46,47,48,49,45,52,53,54,56,57,58,51,64,65,66,68,69,70,72,62,76,77,79,80,81,83,84,86,74,90,91,93,94,96,97,99,100,88,104,106,107,109,110,112,113,115,103,119,120,122,123,125,126,128,129,131,118,135,136,138,139,141,143,144,146,149,150,152,154,155,157,158,148,163,165,166,168,170,161,174,176,178,181,183,186,186,185,170,159,131,101,86,72,59,60,61,87,117,132,160,171,189,190,191,194,195,196,198,199,201,203,204,206,207,209,211,212,214,215,218,220,222,223,225,228,230,231,235,237,237,232,216,207,192,191,189,188,193,208,217,233,238,2,4,8,10,14,16,20,22,26,28,32,34,38,40,0,46,49,52,54,56,58,61,63,65,54,68,70,61,62,76,65,66,81,69,70,73,74,90,77,93,80,81,98,84,87,88,105,91,108,94,111,97,114,100,103,104,121,107,124,110,127,113,130,132,133,120,136,123,139,126,142,129,145,133,149,136,152,139,141,156,144,147,161,150,164,165,155,168,158,161,173,174,166,168,178,172,174,176,178,180,183,186,22,20,16,14,10,8,6,4,0,42,40,36,34,32,28,26,194,196,191,200,202,196,205,208,201,211,204,214,217,209,220,212,223,215,218,220,229,223,226,234,235,231,238,239,29,31,35,37,41,1,3,7,9,13,15,19,23,3,5,9,11,15,17,21,23,27,29,33,35,39,41,1,48,45,54,56,58,61,52,64,66,68,70,71,62,76,77,79,81,82,84,86,74,90,91,93,94,96,98,99,101,88,105,106,108,109,111,112,114,115,117,119,121,122,124,125,127,128,130,131,119,134,136,137,139,140,142,143,145,147,149,150,152,153,155,156,157,159,148,162,164,165,166,168,169,171,173,174,175,177,178,180,182,183,184,185,187,187,24,20,170,14,131,101,6,59,0,60,61,87,117,32,160,26,194,195,197,199,201,203,205,206,209,211,212,214,215,218,220,221,223,224,226,228,229,230,232,234,235,236,238,239,27,31,216,37,192,191,189,5,9,208,15,233,238,25],\"x\":[1.611,1.341,1.032,0.51,-0.304,-0.758,-1.475,-1.589,-1.674,-1.408,-0.762,-0.341,0.631,0.876,1.543,1.852,1.852,1.69,1.69,1.69,1.69,1.432,1.432,1.432,1.432,1.091,1.091,1.091,1.091,1.091,0.688,0.688,0.688,0.688,0.688,0.247,0.247,0.247,0.247,0.247,-0.209,-0.209,-0.209,-0.209,-0.209,-0.65,-0.65,-0.65,-0.65,-0.65,-1.053,-1.053,-1.053,-1.053,-1.394,-1.394,-1.394,-1.394,-1.652,-1.652,-1.652,-1.814,-1.814,1.122,1.122,0.783,0.783,0.355,0.355,0.355,-0.12,-0.12,-0.12,-0.594,-0.594,-0.594,-1.022,-1.022,-1.362,-1.362,0.0,-0.432,-1.273,-1.396,-1.667,-1.396,-0.911,-0.432,0.475,0.83,1.532,1.519,1.532,1.16,0.475,0.452,-0.452,0.877,-0.0,-0.877,0.439,1.167,0.115,-1.064,-1.064,1.484,0.568,-0.777,-1.536,1.484,1.528,0.457,-0.882,-1.705,1.705,1.642,0.579,-0.798,-1.742,1.815,1.642,0.579,-0.798,-1.742,1.815,1.528,0.457,-0.882,-1.705,1.705,1.283,0.116,-1.139,-1.536,1.167,0.115,-1.064,1.167,0.439,-0.76,0.76,-0.226,0.226,-0.451,0.781,-0.475,0.878,-0.989,0.358,1.381,-0.767,0.561,1.467,-0.989,0.358,1.381,-0.475,0.878,-0.451,0.781,-0.359,-0.927,-0.301,-0.844,-0.168,-0.718,-0.051,-0.635,-0.032,-0.653,-0.123,-0.759,-0.261,-0.88,-0.352,0.656,0.656,0.656,1.533,0.656,-0.104,1.108,1.902,1.315,-0.003,1.113,2.102,2.001,0.887,0.198,1.538,2.36,2.184,1.112,0.199,1.558,2.438,2.351,1.345,0.19,1.558,2.438,2.351,1.345,0.19,1.538,2.36,2.184,1.112,0.199,1.531,2.205,1.712,0.424,1.108,1.902,1.315,0.203,1.415,1.094,0.217,1.047,0.264,-1.519,-1.188,-1.885,-1.615,-1.811,-2.152,-1.211,-2.067,-2.166,-1.19,-1.811,-2.152,-1.211,-1.885,-1.615,-1.519,-1.188],\"y\":[1.403,1.345,0.876,0.173,-0.341,-1.163,-1.408,-1.742,-1.589,-1.163,-0.758,0.173,0.51,1.345,1.341,1.852,1.852,1.69,1.69,1.69,1.69,1.432,1.432,1.432,1.432,1.091,1.091,1.091,1.091,0.688,0.688,0.688,0.688,0.688,0.247,0.247,0.247,0.247,0.247,-0.209,-0.209,-0.209,-0.209,-0.209,-0.65,-0.65,-0.65,-0.65,-0.65,-1.053,-1.053,-1.053,-1.053,-1.053,-1.394,-1.394,-1.394,-1.652,-1.652,-1.652,-1.814,-1.814,-1.868,1.122,0.783,0.783,0.783,0.355,0.355,-0.12,-0.12,-0.12,-0.594,-0.594,-0.594,-1.022,-1.022,-1.022,-1.362,-1.58,0.0,-0.911,-1.16,-1.667,-1.519,-1.273,-0.83,-0.0,0.432,1.273,1.396,1.667,1.396,0.911,0.432,0.226,-0.226,0.76,-0.439,-0.76,0.76,0.925,-0.343,-1.23,1.167,1.283,0.116,-1.139,-1.536,1.765,1.248,0.0,-1.248,-1.765,1.874,1.366,0.118,-1.194,-1.859,1.874,1.366,0.118,-1.194,-1.859,1.765,1.248,0.0,-1.248,-1.765,1.553,0.969,-0.346,-1.4,1.484,0.925,-0.343,-1.23,0.877,-0.0,-0.877,0.452,-0.452,-0.0,-0.0,-1.147,0.0,1.147,-0.586,0.798,-1.383,-0.342,0.957,-1.44,-0.586,0.798,-1.147,0.0,1.147,-0.0,-0.237,-0.933,-0.332,-0.88,-0.216,-0.759,-0.083,-0.653,-0.025,-0.635,-0.083,-0.718,-0.216,-0.844,-0.332,-0.927,1.047,0.264,1.094,1.415,0.217,0.217,1.499,1.859,0.886,0.203,1.531,2.205,1.712,0.424,0.656,1.904,2.42,1.904,0.656,0.656,1.938,2.526,2.099,0.89,0.656,1.938,2.526,2.099,0.89,0.656,1.904,2.42,1.904,0.656,0.656,1.87,2.17,1.33,0.198,1.499,1.859,0.886,0.656,1.533,0.656,0.656,0.656,0.656,-1.639,-1.212,-1.979,-1.212,-2.074,-1.959,-1.403,-2.234,-1.937,-0.977,-2.074,-1.959,-1.212,-1.979,-1.212,-1.639,-1.148],\"z\":[1.543,1.16,0.631,0.093,-0.762,-1.124,-1.674,-1.651,-1.475,-1.124,-0.304,0.093,1.032,1.16,1.907,1.852,1.852,1.69,1.69,1.69,1.432,1.432,1.432,1.432,1.091,1.091,1.091,1.091,1.091,0.688,0.688,0.688,0.688,0.688,0.247,0.247,0.247,0.247,0.247,-0.209,-0.209,-0.209,-0.209,-0.209,-0.65,-0.65,-0.65,-0.65,-0.65,-1.053,-1.053,-1.053,-1.053,-1.394,-1.394,-1.394,-1.394,-1.652,-1.652,-1.652,-1.814,-1.814,1.122,1.122,0.783,0.783,0.355,0.355,0.355,-0.12,-0.12,-0.12,-0.594,-0.594,-0.594,-1.022,-1.022,-1.362,-1.362,-1.58,-0.475,-0.83,-1.532,-1.519,-1.532,-1.16,-0.475,-0.0,0.911,1.16,1.667,1.519,1.273,0.83,0.0,-0.226,0.226,0.439,-0.76,-0.439,1.252,0.558,-0.754,-1.23,1.553,0.969,-0.346,-1.4,-1.4,1.705,0.882,-0.457,-1.528,-1.705,1.815,1.004,-0.351,-1.516,-1.859,1.815,1.004,-0.351,-1.516,-1.859,1.705,0.882,-0.457,-1.528,-1.705,1.484,0.568,-0.777,-1.536,1.252,0.558,-0.754,-1.23,0.76,-0.439,-0.76,0.226,-0.226,-0.781,0.451,-0.878,0.475,-1.284,-0.121,1.152,-1.125,0.115,1.268,-1.284,-0.121,1.152,-0.878,0.475,-0.781,0.451,0.237,-0.352,-0.909,-0.261,-0.802,-0.123,-0.681,-0.032,-0.629,-0.051,-0.681,-0.168,-0.802,-0.301,-0.909,0.656,1.047,0.264,1.415,1.094,-0.104,0.656,1.776,1.654,0.426,0.656,1.87,2.17,1.33,-0.018,1.112,2.184,2.36,1.538,0.199,1.122,2.238,2.496,1.757,0.421,1.122,2.238,2.496,1.757,0.421,1.112,2.184,2.36,1.538,0.199,1.113,2.102,2.001,0.887,0.656,1.776,1.654,0.426,1.094,1.415,0.217,1.047,0.264,-1.188,-1.519,-1.615,-1.885,-1.432,-2.192,-1.634,-1.781,-2.268,-1.602,-1.432,-2.192,-1.634,-1.615,-1.885,-1.188,-1.519,-1.148],\"type\":\"mesh3d\"}],                        {\"template\":{\"data\":{\"histogram2dcontour\":[{\"type\":\"histogram2dcontour\",\"colorbar\":{\"outlinewidth\":0,\"ticks\":\"\"},\"colorscale\":[[0.0,\"#0d0887\"],[0.1111111111111111,\"#46039f\"],[0.2222222222222222,\"#7201a8\"],[0.3333333333333333,\"#9c179e\"],[0.4444444444444444,\"#bd3786\"],[0.5555555555555556,\"#d8576b\"],[0.6666666666666666,\"#ed7953\"],[0.7777777777777778,\"#fb9f3a\"],[0.8888888888888888,\"#fdca26\"],[1.0,\"#f0f921\"]]}],\"choropleth\":[{\"type\":\"choropleth\",\"colorbar\":{\"outlinewidth\":0,\"ticks\":\"\"}}],\"histogram2d\":[{\"type\":\"histogram2d\",\"colorbar\":{\"outlinewidth\":0,\"ticks\":\"\"},\"colorscale\":[[0.0,\"#0d0887\"],[0.1111111111111111,\"#46039f\"],[0.2222222222222222,\"#7201a8\"],[0.3333333333333333,\"#9c179e\"],[0.4444444444444444,\"#bd3786\"],[0.5555555555555556,\"#d8576b\"],[0.6666666666666666,\"#ed7953\"],[0.7777777777777778,\"#fb9f3a\"],[0.8888888888888888,\"#fdca26\"],[1.0,\"#f0f921\"]]}],\"heatmap\":[{\"type\":\"heatmap\",\"colorbar\":{\"outlinewidth\":0,\"ticks\":\"\"},\"colorscale\":[[0.0,\"#0d0887\"],[0.1111111111111111,\"#46039f\"],[0.2222222222222222,\"#7201a8\"],[0.3333333333333333,\"#9c179e\"],[0.4444444444444444,\"#bd3786\"],[0.5555555555555556,\"#d8576b\"],[0.6666666666666666,\"#ed7953\"],[0.7777777777777778,\"#fb9f3a\"],[0.8888888888888888,\"#fdca26\"],[1.0,\"#f0f921\"]]}],\"heatmapgl\":[{\"type\":\"heatmapgl\",\"colorbar\":{\"outlinewidth\":0,\"ticks\":\"\"},\"colorscale\":[[0.0,\"#0d0887\"],[0.1111111111111111,\"#46039f\"],[0.2222222222222222,\"#7201a8\"],[0.3333333333333333,\"#9c179e\"],[0.4444444444444444,\"#bd3786\"],[0.5555555555555556,\"#d8576b\"],[0.6666666666666666,\"#ed7953\"],[0.7777777777777778,\"#fb9f3a\"],[0.8888888888888888,\"#fdca26\"],[1.0,\"#f0f921\"]]}],\"contourcarpet\":[{\"type\":\"contourcarpet\",\"colorbar\":{\"outlinewidth\":0,\"ticks\":\"\"}}],\"contour\":[{\"type\":\"contour\",\"colorbar\":{\"outlinewidth\":0,\"ticks\":\"\"},\"colorscale\":[[0.0,\"#0d0887\"],[0.1111111111111111,\"#46039f\"],[0.2222222222222222,\"#7201a8\"],[0.3333333333333333,\"#9c179e\"],[0.4444444444444444,\"#bd3786\"],[0.5555555555555556,\"#d8576b\"],[0.6666666666666666,\"#ed7953\"],[0.7777777777777778,\"#fb9f3a\"],[0.8888888888888888,\"#fdca26\"],[1.0,\"#f0f921\"]]}],\"surface\":[{\"type\":\"surface\",\"colorbar\":{\"outlinewidth\":0,\"ticks\":\"\"},\"colorscale\":[[0.0,\"#0d0887\"],[0.1111111111111111,\"#46039f\"],[0.2222222222222222,\"#7201a8\"],[0.3333333333333333,\"#9c179e\"],[0.4444444444444444,\"#bd3786\"],[0.5555555555555556,\"#d8576b\"],[0.6666666666666666,\"#ed7953\"],[0.7777777777777778,\"#fb9f3a\"],[0.8888888888888888,\"#fdca26\"],[1.0,\"#f0f921\"]]}],\"mesh3d\":[{\"type\":\"mesh3d\",\"colorbar\":{\"outlinewidth\":0,\"ticks\":\"\"}}],\"scatter\":[{\"fillpattern\":{\"fillmode\":\"overlay\",\"size\":10,\"solidity\":0.2},\"type\":\"scatter\"}],\"parcoords\":[{\"type\":\"parcoords\",\"line\":{\"colorbar\":{\"outlinewidth\":0,\"ticks\":\"\"}}}],\"scatterpolargl\":[{\"type\":\"scatterpolargl\",\"marker\":{\"colorbar\":{\"outlinewidth\":0,\"ticks\":\"\"}}}],\"bar\":[{\"error_x\":{\"color\":\"#2a3f5f\"},\"error_y\":{\"color\":\"#2a3f5f\"},\"marker\":{\"line\":{\"color\":\"#E5ECF6\",\"width\":0.5},\"pattern\":{\"fillmode\":\"overlay\",\"size\":10,\"solidity\":0.2}},\"type\":\"bar\"}],\"scattergeo\":[{\"type\":\"scattergeo\",\"marker\":{\"colorbar\":{\"outlinewidth\":0,\"ticks\":\"\"}}}],\"scatterpolar\":[{\"type\":\"scatterpolar\",\"marker\":{\"colorbar\":{\"outlinewidth\":0,\"ticks\":\"\"}}}],\"histogram\":[{\"marker\":{\"pattern\":{\"fillmode\":\"overlay\",\"size\":10,\"solidity\":0.2}},\"type\":\"histogram\"}],\"scattergl\":[{\"type\":\"scattergl\",\"marker\":{\"colorbar\":{\"outlinewidth\":0,\"ticks\":\"\"}}}],\"scatter3d\":[{\"type\":\"scatter3d\",\"line\":{\"colorbar\":{\"outlinewidth\":0,\"ticks\":\"\"}},\"marker\":{\"colorbar\":{\"outlinewidth\":0,\"ticks\":\"\"}}}],\"scattermapbox\":[{\"type\":\"scattermapbox\",\"marker\":{\"colorbar\":{\"outlinewidth\":0,\"ticks\":\"\"}}}],\"scatterternary\":[{\"type\":\"scatterternary\",\"marker\":{\"colorbar\":{\"outlinewidth\":0,\"ticks\":\"\"}}}],\"scattercarpet\":[{\"type\":\"scattercarpet\",\"marker\":{\"colorbar\":{\"outlinewidth\":0,\"ticks\":\"\"}}}],\"carpet\":[{\"aaxis\":{\"endlinecolor\":\"#2a3f5f\",\"gridcolor\":\"white\",\"linecolor\":\"white\",\"minorgridcolor\":\"white\",\"startlinecolor\":\"#2a3f5f\"},\"baxis\":{\"endlinecolor\":\"#2a3f5f\",\"gridcolor\":\"white\",\"linecolor\":\"white\",\"minorgridcolor\":\"white\",\"startlinecolor\":\"#2a3f5f\"},\"type\":\"carpet\"}],\"table\":[{\"cells\":{\"fill\":{\"color\":\"#EBF0F8\"},\"line\":{\"color\":\"white\"}},\"header\":{\"fill\":{\"color\":\"#C8D4E3\"},\"line\":{\"color\":\"white\"}},\"type\":\"table\"}],\"barpolar\":[{\"marker\":{\"line\":{\"color\":\"#E5ECF6\",\"width\":0.5},\"pattern\":{\"fillmode\":\"overlay\",\"size\":10,\"solidity\":0.2}},\"type\":\"barpolar\"}],\"pie\":[{\"automargin\":true,\"type\":\"pie\"}]},\"layout\":{\"autotypenumbers\":\"strict\",\"colorway\":[\"#636efa\",\"#EF553B\",\"#00cc96\",\"#ab63fa\",\"#FFA15A\",\"#19d3f3\",\"#FF6692\",\"#B6E880\",\"#FF97FF\",\"#FECB52\"],\"font\":{\"color\":\"#2a3f5f\"},\"hovermode\":\"closest\",\"hoverlabel\":{\"align\":\"left\"},\"paper_bgcolor\":\"white\",\"plot_bgcolor\":\"#E5ECF6\",\"polar\":{\"bgcolor\":\"#E5ECF6\",\"angularaxis\":{\"gridcolor\":\"white\",\"linecolor\":\"white\",\"ticks\":\"\"},\"radialaxis\":{\"gridcolor\":\"white\",\"linecolor\":\"white\",\"ticks\":\"\"}},\"ternary\":{\"bgcolor\":\"#E5ECF6\",\"aaxis\":{\"gridcolor\":\"white\",\"linecolor\":\"white\",\"ticks\":\"\"},\"baxis\":{\"gridcolor\":\"white\",\"linecolor\":\"white\",\"ticks\":\"\"},\"caxis\":{\"gridcolor\":\"white\",\"linecolor\":\"white\",\"ticks\":\"\"}},\"coloraxis\":{\"colorbar\":{\"outlinewidth\":0,\"ticks\":\"\"}},\"colorscale\":{\"sequential\":[[0.0,\"#0d0887\"],[0.1111111111111111,\"#46039f\"],[0.2222222222222222,\"#7201a8\"],[0.3333333333333333,\"#9c179e\"],[0.4444444444444444,\"#bd3786\"],[0.5555555555555556,\"#d8576b\"],[0.6666666666666666,\"#ed7953\"],[0.7777777777777778,\"#fb9f3a\"],[0.8888888888888888,\"#fdca26\"],[1.0,\"#f0f921\"]],\"sequentialminus\":[[0.0,\"#0d0887\"],[0.1111111111111111,\"#46039f\"],[0.2222222222222222,\"#7201a8\"],[0.3333333333333333,\"#9c179e\"],[0.4444444444444444,\"#bd3786\"],[0.5555555555555556,\"#d8576b\"],[0.6666666666666666,\"#ed7953\"],[0.7777777777777778,\"#fb9f3a\"],[0.8888888888888888,\"#fdca26\"],[1.0,\"#f0f921\"]],\"diverging\":[[0,\"#8e0152\"],[0.1,\"#c51b7d\"],[0.2,\"#de77ae\"],[0.3,\"#f1b6da\"],[0.4,\"#fde0ef\"],[0.5,\"#f7f7f7\"],[0.6,\"#e6f5d0\"],[0.7,\"#b8e186\"],[0.8,\"#7fbc41\"],[0.9,\"#4d9221\"],[1,\"#276419\"]]},\"xaxis\":{\"gridcolor\":\"white\",\"linecolor\":\"white\",\"ticks\":\"\",\"title\":{\"standoff\":15},\"zerolinecolor\":\"white\",\"automargin\":true,\"zerolinewidth\":2},\"yaxis\":{\"gridcolor\":\"white\",\"linecolor\":\"white\",\"ticks\":\"\",\"title\":{\"standoff\":15},\"zerolinecolor\":\"white\",\"automargin\":true,\"zerolinewidth\":2},\"scene\":{\"xaxis\":{\"backgroundcolor\":\"#E5ECF6\",\"gridcolor\":\"white\",\"linecolor\":\"white\",\"showbackground\":true,\"ticks\":\"\",\"zerolinecolor\":\"white\",\"gridwidth\":2},\"yaxis\":{\"backgroundcolor\":\"#E5ECF6\",\"gridcolor\":\"white\",\"linecolor\":\"white\",\"showbackground\":true,\"ticks\":\"\",\"zerolinecolor\":\"white\",\"gridwidth\":2},\"zaxis\":{\"backgroundcolor\":\"#E5ECF6\",\"gridcolor\":\"white\",\"linecolor\":\"white\",\"showbackground\":true,\"ticks\":\"\",\"zerolinecolor\":\"white\",\"gridwidth\":2}},\"shapedefaults\":{\"line\":{\"color\":\"#2a3f5f\"}},\"annotationdefaults\":{\"arrowcolor\":\"#2a3f5f\",\"arrowhead\":0,\"arrowwidth\":1},\"geo\":{\"bgcolor\":\"white\",\"landcolor\":\"#E5ECF6\",\"subunitcolor\":\"white\",\"showland\":true,\"showlakes\":true,\"lakecolor\":\"white\"},\"title\":{\"x\":0.05},\"mapbox\":{\"style\":\"light\"}}},\"scene\":{\"aspectmode\":\"data\"}},                        {\"responsive\": true}                    ).then(function(){\n",
       "                            \n",
       "var gd = document.getElementById('f2bf6600-d0aa-4521-9316-1f79e292a7d7');\n",
       "var x = new MutationObserver(function (mutations, observer) {{\n",
       "        var display = window.getComputedStyle(gd).display;\n",
       "        if (!display || display === 'none') {{\n",
       "            console.log([gd, 'removed!']);\n",
       "            Plotly.purge(gd);\n",
       "            observer.disconnect();\n",
       "        }}\n",
       "}});\n",
       "\n",
       "// Listen for the removal of the full notebook cells\n",
       "var notebookContainer = gd.closest('#notebook-container');\n",
       "if (notebookContainer) {{\n",
       "    x.observe(notebookContainer, {childList: true});\n",
       "}}\n",
       "\n",
       "// Listen for the clearing of the current output cell\n",
       "var outputEl = gd.closest('.output');\n",
       "if (outputEl) {{\n",
       "    x.observe(outputEl, {childList: true});\n",
       "}}\n",
       "\n",
       "                        })                };                });            </script>        </div>"
      ]
     },
     "metadata": {},
     "output_type": "display_data"
    }
   ],
   "source": [
    "Post.plot_interface_3D_known(Post,Post.PDE.pbj_phi,Post.PDE.vertices,Post.PDE.elements);"
   ]
  },
  {
   "cell_type": "code",
   "execution_count": 36,
   "metadata": {},
   "outputs": [
    {
     "data": {
      "application/vnd.plotly.v1+json": {
       "config": {
        "plotlyServerURL": "https://plot.ly"
       },
       "data": [
        {
         "colorscale": [
          [
           0,
           "rgb(5,48,97)"
          ],
          [
           0.1,
           "rgb(33,102,172)"
          ],
          [
           0.2,
           "rgb(67,147,195)"
          ],
          [
           0.3,
           "rgb(146,197,222)"
          ],
          [
           0.4,
           "rgb(209,229,240)"
          ],
          [
           0.5,
           "rgb(247,247,247)"
          ],
          [
           0.6,
           "rgb(253,219,199)"
          ],
          [
           0.7,
           "rgb(244,165,130)"
          ],
          [
           0.8,
           "rgb(214,96,77)"
          ],
          [
           0.9,
           "rgb(178,24,43)"
          ],
          [
           1,
           "rgb(103,0,31)"
          ]
         ],
         "i": [
          0,
          1,
          2,
          3,
          4,
          5,
          6,
          7,
          8,
          9,
          10,
          11,
          12,
          13,
          14,
          15,
          16,
          17,
          18,
          19,
          20,
          21,
          22,
          23,
          24,
          25,
          26,
          27,
          28,
          28,
          28,
          28,
          28,
          28,
          30,
          30,
          30,
          31,
          31,
          31,
          32,
          32,
          33,
          29,
          36,
          36,
          37,
          37,
          38,
          38,
          39,
          39,
          39,
          40,
          40,
          41,
          35,
          43,
          43,
          44,
          44,
          45,
          45,
          46,
          46,
          47,
          47,
          48,
          48,
          49,
          49,
          42,
          51,
          51,
          52,
          52,
          53,
          53,
          54,
          54,
          55,
          55,
          56,
          56,
          57,
          57,
          58,
          60,
          60,
          61,
          61,
          62,
          62,
          63,
          63,
          64,
          65,
          65,
          66,
          68,
          68,
          69,
          70,
          70,
          71,
          72,
          72,
          74,
          75,
          76,
          76,
          76,
          76,
          76,
          72,
          66,
          66,
          58,
          58,
          49,
          49,
          41,
          41,
          33,
          33,
          34,
          34,
          29,
          35,
          35,
          42,
          42,
          50,
          50,
          59,
          59,
          67,
          67,
          73,
          73,
          78,
          79,
          79,
          79,
          80,
          81,
          81,
          82,
          82,
          83,
          83,
          84,
          85,
          85,
          86,
          86,
          87,
          87,
          88,
          90,
          91,
          91,
          92,
          93,
          93,
          93,
          93,
          93,
          88,
          88,
          83,
          83,
          83,
          79,
          79,
          78,
          78,
          80,
          80,
          80,
          84,
          84,
          89,
          89,
          89,
          94,
          94,
          95
         ],
         "intensity": [
          -0.009035020443215983,
          -0.02271249864851211,
          -0.006334426746843773,
          -0.013067685305551505,
          -0.0015428183686568423,
          -0.001672816495258962,
          0.0022675883047597344,
          0.004864970954256869,
          0.004776086325763306,
          0.008506879333181646,
          0.006304031910722085,
          0.010546199961754307,
          0.0071234322492900685,
          0.011597994844099763,
          0.007378735666202183,
          0.01192821298185234,
          0.0071234322492900685,
          0.011597994844099763,
          0.006304031910722085,
          0.010546199961754307,
          0.004776086325763306,
          0.008506879333181646,
          0.0022675883047597344,
          0.004864970954256869,
          -0.0015428183686568423,
          -0.001672816495258962,
          -0.006334426746843773,
          -0.013067685305551505,
          -0.004643742422011135,
          -0.0042280173759299735,
          -0.004216247098416689,
          -0.004216247098416689,
          -0.0042280173759299735,
          -0.00576348635272056,
          -0.00576348635272056,
          -0.003144900851931207,
          -0.0036409418561427673,
          -0.004006119137160995,
          -0.004081625232758195,
          -0.003856940401188621,
          -0.003383006882799681,
          -0.0030765743712247245,
          -0.0017496370955722804,
          -0.002861841702260102,
          -0.003532182570282529,
          -0.0038420722411051894,
          -0.0038420722411051894,
          -0.003532182570282529,
          -0.002861841702260102,
          -0.0017496370955722804,
          -0.0003397418040743188,
          -0.001944190798071814,
          -0.002863124740708314,
          -0.0033466139855238487,
          -0.0034956253918030627,
          -0.0033466139855238487,
          -0.002863124740708314,
          -0.001944190798071814,
          -0.0003397418040743188,
          0.0009001232761214474,
          -0.0012242009423119606,
          -0.0023169972910870836,
          -0.002789032774792559,
          -0.002789032774792559,
          -0.0023169972910870836,
          -0.0012242009423119606,
          0.0009001232761214474,
          0.0018634540957992154,
          -0.0005184426113604595,
          -0.0015815151957505476,
          -0.0017745083300187228,
          -0.001175725934863089,
          0.00045741867393403246,
          0.0024738685244376796,
          0.00015054454629860522,
          0.00015054454629860522,
          0.0024738685244376796,
          0.002682990211658487,
          -0.023906168270605162,
          -0.023906168270605162,
          -0.004035150887478599,
          -0.007818565265664471,
          -0.006338175084650321,
          -0.001742136824741498,
          0.0062457512789242916,
          0.0051586372902681175,
          0.004855626016192209,
          0.005668618663008377,
          0.006740023218103271,
          0.01048299828824047,
          0.010568100474523034,
          0.01038982094459004,
          0.010473595566390164,
          0.010621235828224421,
          0.012419973316026676,
          0.012419973316026676
         ],
         "j": [
          2,
          2,
          4,
          4,
          6,
          6,
          8,
          8,
          10,
          10,
          12,
          12,
          14,
          14,
          16,
          16,
          18,
          18,
          20,
          20,
          22,
          22,
          24,
          24,
          26,
          26,
          0,
          0,
          29,
          30,
          31,
          32,
          33,
          34,
          29,
          36,
          37,
          30,
          38,
          39,
          31,
          40,
          32,
          35,
          35,
          43,
          36,
          44,
          37,
          45,
          38,
          46,
          47,
          39,
          48,
          40,
          42,
          42,
          51,
          43,
          52,
          44,
          53,
          45,
          54,
          46,
          55,
          47,
          56,
          48,
          57,
          50,
          50,
          59,
          51,
          60,
          52,
          61,
          53,
          62,
          54,
          63,
          55,
          64,
          56,
          65,
          57,
          59,
          67,
          60,
          68,
          61,
          69,
          62,
          70,
          63,
          64,
          71,
          65,
          67,
          73,
          68,
          69,
          74,
          70,
          71,
          75,
          73,
          74,
          75,
          77,
          14,
          12,
          10,
          10,
          10,
          8,
          8,
          6,
          6,
          4,
          4,
          2,
          2,
          0,
          0,
          26,
          26,
          26,
          24,
          24,
          22,
          22,
          20,
          20,
          18,
          18,
          16,
          16,
          14,
          80,
          78,
          81,
          82,
          84,
          80,
          85,
          81,
          86,
          82,
          87,
          89,
          84,
          90,
          85,
          91,
          86,
          92,
          87,
          89,
          90,
          94,
          91,
          92,
          95,
          17,
          19,
          21,
          21,
          23,
          23,
          25,
          27,
          27,
          1,
          1,
          3,
          3,
          5,
          7,
          7,
          9,
          9,
          11,
          13,
          13,
          15,
          15
         ],
         "k": [
          1,
          3,
          3,
          5,
          5,
          7,
          7,
          9,
          9,
          11,
          11,
          13,
          13,
          15,
          15,
          17,
          17,
          19,
          19,
          21,
          21,
          23,
          23,
          25,
          25,
          27,
          27,
          1,
          30,
          31,
          32,
          33,
          34,
          29,
          36,
          37,
          38,
          38,
          39,
          40,
          40,
          41,
          41,
          36,
          43,
          44,
          44,
          45,
          45,
          46,
          46,
          47,
          48,
          48,
          49,
          49,
          43,
          51,
          52,
          52,
          53,
          53,
          54,
          54,
          55,
          55,
          56,
          56,
          57,
          57,
          58,
          51,
          59,
          60,
          60,
          61,
          61,
          62,
          62,
          63,
          63,
          64,
          64,
          65,
          65,
          66,
          66,
          67,
          68,
          68,
          69,
          69,
          70,
          70,
          71,
          71,
          71,
          72,
          72,
          73,
          74,
          74,
          74,
          75,
          75,
          75,
          76,
          77,
          77,
          77,
          14,
          12,
          10,
          72,
          66,
          8,
          58,
          6,
          49,
          4,
          41,
          2,
          33,
          0,
          34,
          26,
          29,
          35,
          24,
          42,
          22,
          50,
          20,
          59,
          18,
          67,
          16,
          73,
          14,
          77,
          81,
          81,
          82,
          83,
          85,
          85,
          86,
          86,
          87,
          87,
          88,
          90,
          90,
          91,
          91,
          92,
          92,
          93,
          93,
          94,
          94,
          95,
          95,
          95,
          17,
          19,
          21,
          88,
          23,
          83,
          25,
          27,
          79,
          1,
          78,
          3,
          80,
          5,
          7,
          84,
          9,
          89,
          11,
          13,
          94,
          15,
          95,
          17
         ],
         "type": "mesh3d",
         "x": [
          1.6109999418258667,
          1.402999997138977,
          1.4450000524520874,
          1.2519999742507935,
          0.9800000190734863,
          0.828000009059906,
          0.30799999833106995,
          0.2160000056028366,
          -0.43799999356269836,
          -0.46399998664855957,
          -1.1100000143051147,
          -1.0759999752044678,
          -1.5759999752044678,
          -1.5,
          -1.7419999837875366,
          -1.6510000228881836,
          -1.5759999752044678,
          -1.5,
          -1.1100000143051147,
          -1.0759999752044678,
          -0.43799999356269836,
          -0.46399998664855957,
          0.30799999833106995,
          0.2160000056028366,
          0.9800000190734863,
          0.828000009059906,
          1.4450000524520874,
          1.2519999742507935,
          1.906999945640564,
          1.7630000114440918,
          1.7630000114440918,
          1.7630000114440918,
          1.7630000114440918,
          1.7630000114440918,
          1.7630000114440918,
          1.3539999723434448,
          1.3539999723434448,
          1.3539999723434448,
          1.3539999723434448,
          1.3539999723434448,
          1.3539999723434448,
          1.3539999723434448,
          0.7409999966621399,
          0.7409999966621399,
          0.7409999966621399,
          0.7409999966621399,
          0.7409999966621399,
          0.7409999966621399,
          0.7409999966621399,
          0.7409999966621399,
          0.01899999938905239,
          0.01899999938905239,
          0.01899999938905239,
          0.01899999938905239,
          0.01899999938905239,
          0.01899999938905239,
          0.01899999938905239,
          0.01899999938905239,
          0.01899999938905239,
          -0.703000009059906,
          -0.703000009059906,
          -0.703000009059906,
          -0.703000009059906,
          -0.703000009059906,
          -0.703000009059906,
          -0.703000009059906,
          -0.703000009059906,
          -1.315999984741211,
          -1.315999984741211,
          -1.315999984741211,
          -1.315999984741211,
          -1.315999984741211,
          -1.315999984741211,
          -1.725000023841858,
          -1.725000023841858,
          -1.725000023841858,
          -1.725000023841858,
          -1.8680000305175781,
          1.2100000381469727,
          1.2100000381469727,
          0.6480000019073486,
          0.6480000019073486,
          0.6480000019073486,
          0.6480000019073486,
          -0.11999999731779099,
          -0.11999999731779099,
          -0.11999999731779099,
          -0.11999999731779099,
          -0.11999999731779099,
          -0.8870000243186951,
          -0.8870000243186951,
          -0.8870000243186951,
          -0.8870000243186951,
          -0.8870000243186951,
          -1.4490000009536743,
          -1.4490000009536743
         ],
         "y": [
          0,
          0,
          -0.7310000061988831,
          -0.6660000085830688,
          -1.3170000314712524,
          -1.2000000476837158,
          -1.6419999599456787,
          -1.496000051498413,
          -1.6419999599456787,
          -1.496000051498413,
          -1.3170000314712524,
          -1.2000000476837158,
          -0.7310000061988831,
          -0.6660000085830688,
          0,
          0,
          0.7310000061988831,
          0.6660000085830688,
          1.3170000314712524,
          1.2000000476837158,
          1.6419999599456787,
          1.496000051498413,
          1.6419999599456787,
          1.496000051498413,
          1.3170000314712524,
          1.2000000476837158,
          0.7310000061988831,
          0.6660000085830688,
          0,
          0.722000002861023,
          0.3610000014305115,
          -0.3610000014305115,
          -0.722000002861023,
          -0.3610000014305115,
          0.3610000014305115,
          1.3350000381469727,
          1.1230000257492065,
          0.5540000200271606,
          -0.1899999976158142,
          -0.8740000128746033,
          -1.281000018119812,
          -1.281000018119812,
          1.74399995803833,
          1.5709999799728394,
          1.0870000123977661,
          0.3880000114440918,
          -0.3880000114440918,
          -1.0870000123977661,
          -1.5709999799728394,
          -1.74399995803833,
          1.8880000114440918,
          1.74399995803833,
          1.3350000381469727,
          0.722000002861023,
          0,
          -0.722000002861023,
          -1.3350000381469727,
          -1.74399995803833,
          -1.8880000114440918,
          1.74399995803833,
          1.5709999799728394,
          1.0870000123977661,
          0.3880000114440918,
          -0.3880000114440918,
          -1.0870000123977661,
          -1.5709999799728394,
          -1.74399995803833,
          1.3350000381469727,
          1.1230000257492065,
          0.5540000200271606,
          -0.1899999976158142,
          -0.8740000128746033,
          -1.281000018119812,
          0.722000002861023,
          0.3610000014305115,
          -0.3610000014305115,
          -0.722000002861023,
          0,
          -0.3840000033378601,
          0.3840000033378601,
          -0.8709999918937683,
          -0.1889999955892563,
          0.5519999861717224,
          1.1180000305175781,
          -1.1490000486373901,
          -0.5440000295639038,
          0.1850000023841858,
          0.871999979019165,
          1.3589999675750732,
          -1.2760000228881836,
          -0.8709999918937683,
          -0.1889999955892563,
          0.5519999861717224,
          1.1180000305175781,
          -0.3840000033378601,
          0.3840000033378601
         ],
         "z": [
          -0.35899999737739563,
          -0.9330000281333923,
          -0.34200000762939453,
          -0.9179999828338623,
          -0.29600000381469727,
          -0.8759999871253967,
          -0.2290000021457672,
          -0.8149999976158142,
          -0.1550000011920929,
          -0.746999979019165,
          -0.08799999952316284,
          -0.6859999895095825,
          -0.041999999433755875,
          -0.6439999938011169,
          -0.02500000037252903,
          -0.6290000081062317,
          -0.041999999433755875,
          -0.6439999938011169,
          -0.08799999952316284,
          -0.6859999895095825,
          -0.1550000011920929,
          -0.746999979019165,
          -0.2290000021457672,
          -0.8149999976158142,
          -0.29600000381469727,
          -0.8759999871253967,
          -0.34200000762939453,
          -0.9179999828338623,
          0.656000018119812,
          0.656000018119812,
          1.281000018119812,
          1.281000018119812,
          0.656000018119812,
          0.029999999329447746,
          0.029999999329447746,
          0.656000018119812,
          1.3769999742507935,
          1.8700000047683716,
          1.9769999980926514,
          1.6640000343322754,
          1.031999945640564,
          0.2800000011920929,
          0.656000018119812,
          1.4119999408721924,
          2.0190000534057617,
          2.3559999465942383,
          2.3559999465942383,
          2.0190000534057617,
          1.4119999408721924,
          0.656000018119812,
          0.656000018119812,
          1.378000020980835,
          1.9900000095367432,
          2.3989999294281006,
          2.5429999828338623,
          2.3989999294281006,
          1.9900000095367432,
          1.378000020980835,
          0.656000018119812,
          0.656000018119812,
          1.4119999408721924,
          2.0190000534057617,
          2.3559999465942383,
          2.3559999465942383,
          2.0190000534057617,
          1.4119999408721924,
          0.656000018119812,
          0.656000018119812,
          1.3769999742507935,
          1.8700000047683716,
          1.9769999980926514,
          1.6640000343322754,
          1.031999945640564,
          0.656000018119812,
          1.281000018119812,
          1.281000018119812,
          0.656000018119812,
          0.656000018119812,
          -1.4019999504089355,
          -1.4019999504089355,
          -1.7419999837875366,
          -2.052999973297119,
          -1.9459999799728394,
          -1.4559999704360962,
          -1.7549999952316284,
          -2.171999931335449,
          -2.260999917984009,
          -2,
          -1.4509999752044678,
          -1.1119999885559082,
          -1.7419999837875366,
          -2.052999973297119,
          -1.9459999799728394,
          -1.4559999704360962,
          -1.4019999504089355,
          -1.4019999504089355
         ]
        }
       ],
       "layout": {
        "scene": {
         "aspectmode": "data"
        },
        "template": {
         "data": {
          "bar": [
           {
            "error_x": {
             "color": "#2a3f5f"
            },
            "error_y": {
             "color": "#2a3f5f"
            },
            "marker": {
             "line": {
              "color": "#E5ECF6",
              "width": 0.5
             },
             "pattern": {
              "fillmode": "overlay",
              "size": 10,
              "solidity": 0.2
             }
            },
            "type": "bar"
           }
          ],
          "barpolar": [
           {
            "marker": {
             "line": {
              "color": "#E5ECF6",
              "width": 0.5
             },
             "pattern": {
              "fillmode": "overlay",
              "size": 10,
              "solidity": 0.2
             }
            },
            "type": "barpolar"
           }
          ],
          "carpet": [
           {
            "aaxis": {
             "endlinecolor": "#2a3f5f",
             "gridcolor": "white",
             "linecolor": "white",
             "minorgridcolor": "white",
             "startlinecolor": "#2a3f5f"
            },
            "baxis": {
             "endlinecolor": "#2a3f5f",
             "gridcolor": "white",
             "linecolor": "white",
             "minorgridcolor": "white",
             "startlinecolor": "#2a3f5f"
            },
            "type": "carpet"
           }
          ],
          "choropleth": [
           {
            "colorbar": {
             "outlinewidth": 0,
             "ticks": ""
            },
            "type": "choropleth"
           }
          ],
          "contour": [
           {
            "colorbar": {
             "outlinewidth": 0,
             "ticks": ""
            },
            "colorscale": [
             [
              0,
              "#0d0887"
             ],
             [
              0.1111111111111111,
              "#46039f"
             ],
             [
              0.2222222222222222,
              "#7201a8"
             ],
             [
              0.3333333333333333,
              "#9c179e"
             ],
             [
              0.4444444444444444,
              "#bd3786"
             ],
             [
              0.5555555555555556,
              "#d8576b"
             ],
             [
              0.6666666666666666,
              "#ed7953"
             ],
             [
              0.7777777777777778,
              "#fb9f3a"
             ],
             [
              0.8888888888888888,
              "#fdca26"
             ],
             [
              1,
              "#f0f921"
             ]
            ],
            "type": "contour"
           }
          ],
          "contourcarpet": [
           {
            "colorbar": {
             "outlinewidth": 0,
             "ticks": ""
            },
            "type": "contourcarpet"
           }
          ],
          "heatmap": [
           {
            "colorbar": {
             "outlinewidth": 0,
             "ticks": ""
            },
            "colorscale": [
             [
              0,
              "#0d0887"
             ],
             [
              0.1111111111111111,
              "#46039f"
             ],
             [
              0.2222222222222222,
              "#7201a8"
             ],
             [
              0.3333333333333333,
              "#9c179e"
             ],
             [
              0.4444444444444444,
              "#bd3786"
             ],
             [
              0.5555555555555556,
              "#d8576b"
             ],
             [
              0.6666666666666666,
              "#ed7953"
             ],
             [
              0.7777777777777778,
              "#fb9f3a"
             ],
             [
              0.8888888888888888,
              "#fdca26"
             ],
             [
              1,
              "#f0f921"
             ]
            ],
            "type": "heatmap"
           }
          ],
          "heatmapgl": [
           {
            "colorbar": {
             "outlinewidth": 0,
             "ticks": ""
            },
            "colorscale": [
             [
              0,
              "#0d0887"
             ],
             [
              0.1111111111111111,
              "#46039f"
             ],
             [
              0.2222222222222222,
              "#7201a8"
             ],
             [
              0.3333333333333333,
              "#9c179e"
             ],
             [
              0.4444444444444444,
              "#bd3786"
             ],
             [
              0.5555555555555556,
              "#d8576b"
             ],
             [
              0.6666666666666666,
              "#ed7953"
             ],
             [
              0.7777777777777778,
              "#fb9f3a"
             ],
             [
              0.8888888888888888,
              "#fdca26"
             ],
             [
              1,
              "#f0f921"
             ]
            ],
            "type": "heatmapgl"
           }
          ],
          "histogram": [
           {
            "marker": {
             "pattern": {
              "fillmode": "overlay",
              "size": 10,
              "solidity": 0.2
             }
            },
            "type": "histogram"
           }
          ],
          "histogram2d": [
           {
            "colorbar": {
             "outlinewidth": 0,
             "ticks": ""
            },
            "colorscale": [
             [
              0,
              "#0d0887"
             ],
             [
              0.1111111111111111,
              "#46039f"
             ],
             [
              0.2222222222222222,
              "#7201a8"
             ],
             [
              0.3333333333333333,
              "#9c179e"
             ],
             [
              0.4444444444444444,
              "#bd3786"
             ],
             [
              0.5555555555555556,
              "#d8576b"
             ],
             [
              0.6666666666666666,
              "#ed7953"
             ],
             [
              0.7777777777777778,
              "#fb9f3a"
             ],
             [
              0.8888888888888888,
              "#fdca26"
             ],
             [
              1,
              "#f0f921"
             ]
            ],
            "type": "histogram2d"
           }
          ],
          "histogram2dcontour": [
           {
            "colorbar": {
             "outlinewidth": 0,
             "ticks": ""
            },
            "colorscale": [
             [
              0,
              "#0d0887"
             ],
             [
              0.1111111111111111,
              "#46039f"
             ],
             [
              0.2222222222222222,
              "#7201a8"
             ],
             [
              0.3333333333333333,
              "#9c179e"
             ],
             [
              0.4444444444444444,
              "#bd3786"
             ],
             [
              0.5555555555555556,
              "#d8576b"
             ],
             [
              0.6666666666666666,
              "#ed7953"
             ],
             [
              0.7777777777777778,
              "#fb9f3a"
             ],
             [
              0.8888888888888888,
              "#fdca26"
             ],
             [
              1,
              "#f0f921"
             ]
            ],
            "type": "histogram2dcontour"
           }
          ],
          "mesh3d": [
           {
            "colorbar": {
             "outlinewidth": 0,
             "ticks": ""
            },
            "type": "mesh3d"
           }
          ],
          "parcoords": [
           {
            "line": {
             "colorbar": {
              "outlinewidth": 0,
              "ticks": ""
             }
            },
            "type": "parcoords"
           }
          ],
          "pie": [
           {
            "automargin": true,
            "type": "pie"
           }
          ],
          "scatter": [
           {
            "fillpattern": {
             "fillmode": "overlay",
             "size": 10,
             "solidity": 0.2
            },
            "type": "scatter"
           }
          ],
          "scatter3d": [
           {
            "line": {
             "colorbar": {
              "outlinewidth": 0,
              "ticks": ""
             }
            },
            "marker": {
             "colorbar": {
              "outlinewidth": 0,
              "ticks": ""
             }
            },
            "type": "scatter3d"
           }
          ],
          "scattercarpet": [
           {
            "marker": {
             "colorbar": {
              "outlinewidth": 0,
              "ticks": ""
             }
            },
            "type": "scattercarpet"
           }
          ],
          "scattergeo": [
           {
            "marker": {
             "colorbar": {
              "outlinewidth": 0,
              "ticks": ""
             }
            },
            "type": "scattergeo"
           }
          ],
          "scattergl": [
           {
            "marker": {
             "colorbar": {
              "outlinewidth": 0,
              "ticks": ""
             }
            },
            "type": "scattergl"
           }
          ],
          "scattermapbox": [
           {
            "marker": {
             "colorbar": {
              "outlinewidth": 0,
              "ticks": ""
             }
            },
            "type": "scattermapbox"
           }
          ],
          "scatterpolar": [
           {
            "marker": {
             "colorbar": {
              "outlinewidth": 0,
              "ticks": ""
             }
            },
            "type": "scatterpolar"
           }
          ],
          "scatterpolargl": [
           {
            "marker": {
             "colorbar": {
              "outlinewidth": 0,
              "ticks": ""
             }
            },
            "type": "scatterpolargl"
           }
          ],
          "scatterternary": [
           {
            "marker": {
             "colorbar": {
              "outlinewidth": 0,
              "ticks": ""
             }
            },
            "type": "scatterternary"
           }
          ],
          "surface": [
           {
            "colorbar": {
             "outlinewidth": 0,
             "ticks": ""
            },
            "colorscale": [
             [
              0,
              "#0d0887"
             ],
             [
              0.1111111111111111,
              "#46039f"
             ],
             [
              0.2222222222222222,
              "#7201a8"
             ],
             [
              0.3333333333333333,
              "#9c179e"
             ],
             [
              0.4444444444444444,
              "#bd3786"
             ],
             [
              0.5555555555555556,
              "#d8576b"
             ],
             [
              0.6666666666666666,
              "#ed7953"
             ],
             [
              0.7777777777777778,
              "#fb9f3a"
             ],
             [
              0.8888888888888888,
              "#fdca26"
             ],
             [
              1,
              "#f0f921"
             ]
            ],
            "type": "surface"
           }
          ],
          "table": [
           {
            "cells": {
             "fill": {
              "color": "#EBF0F8"
             },
             "line": {
              "color": "white"
             }
            },
            "header": {
             "fill": {
              "color": "#C8D4E3"
             },
             "line": {
              "color": "white"
             }
            },
            "type": "table"
           }
          ]
         },
         "layout": {
          "annotationdefaults": {
           "arrowcolor": "#2a3f5f",
           "arrowhead": 0,
           "arrowwidth": 1
          },
          "autotypenumbers": "strict",
          "coloraxis": {
           "colorbar": {
            "outlinewidth": 0,
            "ticks": ""
           }
          },
          "colorscale": {
           "diverging": [
            [
             0,
             "#8e0152"
            ],
            [
             0.1,
             "#c51b7d"
            ],
            [
             0.2,
             "#de77ae"
            ],
            [
             0.3,
             "#f1b6da"
            ],
            [
             0.4,
             "#fde0ef"
            ],
            [
             0.5,
             "#f7f7f7"
            ],
            [
             0.6,
             "#e6f5d0"
            ],
            [
             0.7,
             "#b8e186"
            ],
            [
             0.8,
             "#7fbc41"
            ],
            [
             0.9,
             "#4d9221"
            ],
            [
             1,
             "#276419"
            ]
           ],
           "sequential": [
            [
             0,
             "#0d0887"
            ],
            [
             0.1111111111111111,
             "#46039f"
            ],
            [
             0.2222222222222222,
             "#7201a8"
            ],
            [
             0.3333333333333333,
             "#9c179e"
            ],
            [
             0.4444444444444444,
             "#bd3786"
            ],
            [
             0.5555555555555556,
             "#d8576b"
            ],
            [
             0.6666666666666666,
             "#ed7953"
            ],
            [
             0.7777777777777778,
             "#fb9f3a"
            ],
            [
             0.8888888888888888,
             "#fdca26"
            ],
            [
             1,
             "#f0f921"
            ]
           ],
           "sequentialminus": [
            [
             0,
             "#0d0887"
            ],
            [
             0.1111111111111111,
             "#46039f"
            ],
            [
             0.2222222222222222,
             "#7201a8"
            ],
            [
             0.3333333333333333,
             "#9c179e"
            ],
            [
             0.4444444444444444,
             "#bd3786"
            ],
            [
             0.5555555555555556,
             "#d8576b"
            ],
            [
             0.6666666666666666,
             "#ed7953"
            ],
            [
             0.7777777777777778,
             "#fb9f3a"
            ],
            [
             0.8888888888888888,
             "#fdca26"
            ],
            [
             1,
             "#f0f921"
            ]
           ]
          },
          "colorway": [
           "#636efa",
           "#EF553B",
           "#00cc96",
           "#ab63fa",
           "#FFA15A",
           "#19d3f3",
           "#FF6692",
           "#B6E880",
           "#FF97FF",
           "#FECB52"
          ],
          "font": {
           "color": "#2a3f5f"
          },
          "geo": {
           "bgcolor": "white",
           "lakecolor": "white",
           "landcolor": "#E5ECF6",
           "showlakes": true,
           "showland": true,
           "subunitcolor": "white"
          },
          "hoverlabel": {
           "align": "left"
          },
          "hovermode": "closest",
          "mapbox": {
           "style": "light"
          },
          "paper_bgcolor": "white",
          "plot_bgcolor": "#E5ECF6",
          "polar": {
           "angularaxis": {
            "gridcolor": "white",
            "linecolor": "white",
            "ticks": ""
           },
           "bgcolor": "#E5ECF6",
           "radialaxis": {
            "gridcolor": "white",
            "linecolor": "white",
            "ticks": ""
           }
          },
          "scene": {
           "xaxis": {
            "backgroundcolor": "#E5ECF6",
            "gridcolor": "white",
            "gridwidth": 2,
            "linecolor": "white",
            "showbackground": true,
            "ticks": "",
            "zerolinecolor": "white"
           },
           "yaxis": {
            "backgroundcolor": "#E5ECF6",
            "gridcolor": "white",
            "gridwidth": 2,
            "linecolor": "white",
            "showbackground": true,
            "ticks": "",
            "zerolinecolor": "white"
           },
           "zaxis": {
            "backgroundcolor": "#E5ECF6",
            "gridcolor": "white",
            "gridwidth": 2,
            "linecolor": "white",
            "showbackground": true,
            "ticks": "",
            "zerolinecolor": "white"
           }
          },
          "shapedefaults": {
           "line": {
            "color": "#2a3f5f"
           }
          },
          "ternary": {
           "aaxis": {
            "gridcolor": "white",
            "linecolor": "white",
            "ticks": ""
           },
           "baxis": {
            "gridcolor": "white",
            "linecolor": "white",
            "ticks": ""
           },
           "bgcolor": "#E5ECF6",
           "caxis": {
            "gridcolor": "white",
            "linecolor": "white",
            "ticks": ""
           }
          },
          "title": {
           "x": 0.05
          },
          "xaxis": {
           "automargin": true,
           "gridcolor": "white",
           "linecolor": "white",
           "ticks": "",
           "title": {
            "standoff": 15
           },
           "zerolinecolor": "white",
           "zerolinewidth": 2
          },
          "yaxis": {
           "automargin": true,
           "gridcolor": "white",
           "linecolor": "white",
           "ticks": "",
           "title": {
            "standoff": 15
           },
           "zerolinecolor": "white",
           "zerolinewidth": 2
          }
         }
        }
       }
      },
      "text/html": [
       "<div>                            <div id=\"7052742b-3291-4297-b1fc-7d77316ef0f9\" class=\"plotly-graph-div\" style=\"height:525px; width:100%;\"></div>            <script type=\"text/javascript\">                require([\"plotly\"], function(Plotly) {                    window.PLOTLYENV=window.PLOTLYENV || {};                                    if (document.getElementById(\"7052742b-3291-4297-b1fc-7d77316ef0f9\")) {                    Plotly.newPlot(                        \"7052742b-3291-4297-b1fc-7d77316ef0f9\",                        [{\"colorscale\":[[0.0,\"rgb(5,48,97)\"],[0.1,\"rgb(33,102,172)\"],[0.2,\"rgb(67,147,195)\"],[0.3,\"rgb(146,197,222)\"],[0.4,\"rgb(209,229,240)\"],[0.5,\"rgb(247,247,247)\"],[0.6,\"rgb(253,219,199)\"],[0.7,\"rgb(244,165,130)\"],[0.8,\"rgb(214,96,77)\"],[0.9,\"rgb(178,24,43)\"],[1.0,\"rgb(103,0,31)\"]],\"i\":[0,1,2,3,4,5,6,7,8,9,10,11,12,13,14,15,16,17,18,19,20,21,22,23,24,25,26,27,28,28,28,28,28,28,30,30,30,31,31,31,32,32,33,29,36,36,37,37,38,38,39,39,39,40,40,41,35,43,43,44,44,45,45,46,46,47,47,48,48,49,49,42,51,51,52,52,53,53,54,54,55,55,56,56,57,57,58,60,60,61,61,62,62,63,63,64,65,65,66,68,68,69,70,70,71,72,72,74,75,76,76,76,76,76,72,66,66,58,58,49,49,41,41,33,33,34,34,29,35,35,42,42,50,50,59,59,67,67,73,73,78,79,79,79,80,81,81,82,82,83,83,84,85,85,86,86,87,87,88,90,91,91,92,93,93,93,93,93,88,88,83,83,83,79,79,78,78,80,80,80,84,84,89,89,89,94,94,95],\"intensity\":[-0.009035020443215983,-0.02271249864851211,-0.006334426746843773,-0.013067685305551505,-0.0015428183686568423,-0.001672816495258962,0.0022675883047597344,0.004864970954256869,0.004776086325763306,0.008506879333181646,0.006304031910722085,0.010546199961754307,0.0071234322492900685,0.011597994844099763,0.007378735666202183,0.01192821298185234,0.0071234322492900685,0.011597994844099763,0.006304031910722085,0.010546199961754307,0.004776086325763306,0.008506879333181646,0.0022675883047597344,0.004864970954256869,-0.0015428183686568423,-0.001672816495258962,-0.006334426746843773,-0.013067685305551505,-0.004643742422011135,-0.0042280173759299735,-0.004216247098416689,-0.004216247098416689,-0.0042280173759299735,-0.00576348635272056,-0.00576348635272056,-0.003144900851931207,-0.0036409418561427673,-0.004006119137160995,-0.004081625232758195,-0.003856940401188621,-0.003383006882799681,-0.0030765743712247245,-0.0017496370955722804,-0.002861841702260102,-0.003532182570282529,-0.0038420722411051894,-0.0038420722411051894,-0.003532182570282529,-0.002861841702260102,-0.0017496370955722804,-0.0003397418040743188,-0.001944190798071814,-0.002863124740708314,-0.0033466139855238487,-0.0034956253918030627,-0.0033466139855238487,-0.002863124740708314,-0.001944190798071814,-0.0003397418040743188,0.0009001232761214474,-0.0012242009423119606,-0.0023169972910870836,-0.002789032774792559,-0.002789032774792559,-0.0023169972910870836,-0.0012242009423119606,0.0009001232761214474,0.0018634540957992154,-0.0005184426113604595,-0.0015815151957505476,-0.0017745083300187228,-0.001175725934863089,0.00045741867393403246,0.0024738685244376796,0.00015054454629860522,0.00015054454629860522,0.0024738685244376796,0.002682990211658487,-0.023906168270605162,-0.023906168270605162,-0.004035150887478599,-0.007818565265664471,-0.006338175084650321,-0.001742136824741498,0.0062457512789242916,0.0051586372902681175,0.004855626016192209,0.005668618663008377,0.006740023218103271,0.01048299828824047,0.010568100474523034,0.01038982094459004,0.010473595566390164,0.010621235828224421,0.012419973316026676,0.012419973316026676],\"j\":[2,2,4,4,6,6,8,8,10,10,12,12,14,14,16,16,18,18,20,20,22,22,24,24,26,26,0,0,29,30,31,32,33,34,29,36,37,30,38,39,31,40,32,35,35,43,36,44,37,45,38,46,47,39,48,40,42,42,51,43,52,44,53,45,54,46,55,47,56,48,57,50,50,59,51,60,52,61,53,62,54,63,55,64,56,65,57,59,67,60,68,61,69,62,70,63,64,71,65,67,73,68,69,74,70,71,75,73,74,75,77,14,12,10,10,10,8,8,6,6,4,4,2,2,0,0,26,26,26,24,24,22,22,20,20,18,18,16,16,14,80,78,81,82,84,80,85,81,86,82,87,89,84,90,85,91,86,92,87,89,90,94,91,92,95,17,19,21,21,23,23,25,27,27,1,1,3,3,5,7,7,9,9,11,13,13,15,15],\"k\":[1,3,3,5,5,7,7,9,9,11,11,13,13,15,15,17,17,19,19,21,21,23,23,25,25,27,27,1,30,31,32,33,34,29,36,37,38,38,39,40,40,41,41,36,43,44,44,45,45,46,46,47,48,48,49,49,43,51,52,52,53,53,54,54,55,55,56,56,57,57,58,51,59,60,60,61,61,62,62,63,63,64,64,65,65,66,66,67,68,68,69,69,70,70,71,71,71,72,72,73,74,74,74,75,75,75,76,77,77,77,14,12,10,72,66,8,58,6,49,4,41,2,33,0,34,26,29,35,24,42,22,50,20,59,18,67,16,73,14,77,81,81,82,83,85,85,86,86,87,87,88,90,90,91,91,92,92,93,93,94,94,95,95,95,17,19,21,88,23,83,25,27,79,1,78,3,80,5,7,84,9,89,11,13,94,15,95,17],\"x\":[1.6109999418258667,1.402999997138977,1.4450000524520874,1.2519999742507935,0.9800000190734863,0.828000009059906,0.30799999833106995,0.2160000056028366,-0.43799999356269836,-0.46399998664855957,-1.1100000143051147,-1.0759999752044678,-1.5759999752044678,-1.5,-1.7419999837875366,-1.6510000228881836,-1.5759999752044678,-1.5,-1.1100000143051147,-1.0759999752044678,-0.43799999356269836,-0.46399998664855957,0.30799999833106995,0.2160000056028366,0.9800000190734863,0.828000009059906,1.4450000524520874,1.2519999742507935,1.906999945640564,1.7630000114440918,1.7630000114440918,1.7630000114440918,1.7630000114440918,1.7630000114440918,1.7630000114440918,1.3539999723434448,1.3539999723434448,1.3539999723434448,1.3539999723434448,1.3539999723434448,1.3539999723434448,1.3539999723434448,0.7409999966621399,0.7409999966621399,0.7409999966621399,0.7409999966621399,0.7409999966621399,0.7409999966621399,0.7409999966621399,0.7409999966621399,0.01899999938905239,0.01899999938905239,0.01899999938905239,0.01899999938905239,0.01899999938905239,0.01899999938905239,0.01899999938905239,0.01899999938905239,0.01899999938905239,-0.703000009059906,-0.703000009059906,-0.703000009059906,-0.703000009059906,-0.703000009059906,-0.703000009059906,-0.703000009059906,-0.703000009059906,-1.315999984741211,-1.315999984741211,-1.315999984741211,-1.315999984741211,-1.315999984741211,-1.315999984741211,-1.725000023841858,-1.725000023841858,-1.725000023841858,-1.725000023841858,-1.8680000305175781,1.2100000381469727,1.2100000381469727,0.6480000019073486,0.6480000019073486,0.6480000019073486,0.6480000019073486,-0.11999999731779099,-0.11999999731779099,-0.11999999731779099,-0.11999999731779099,-0.11999999731779099,-0.8870000243186951,-0.8870000243186951,-0.8870000243186951,-0.8870000243186951,-0.8870000243186951,-1.4490000009536743,-1.4490000009536743],\"y\":[0.0,0.0,-0.7310000061988831,-0.6660000085830688,-1.3170000314712524,-1.2000000476837158,-1.6419999599456787,-1.496000051498413,-1.6419999599456787,-1.496000051498413,-1.3170000314712524,-1.2000000476837158,-0.7310000061988831,-0.6660000085830688,0.0,0.0,0.7310000061988831,0.6660000085830688,1.3170000314712524,1.2000000476837158,1.6419999599456787,1.496000051498413,1.6419999599456787,1.496000051498413,1.3170000314712524,1.2000000476837158,0.7310000061988831,0.6660000085830688,0.0,0.722000002861023,0.3610000014305115,-0.3610000014305115,-0.722000002861023,-0.3610000014305115,0.3610000014305115,1.3350000381469727,1.1230000257492065,0.5540000200271606,-0.1899999976158142,-0.8740000128746033,-1.281000018119812,-1.281000018119812,1.74399995803833,1.5709999799728394,1.0870000123977661,0.3880000114440918,-0.3880000114440918,-1.0870000123977661,-1.5709999799728394,-1.74399995803833,1.8880000114440918,1.74399995803833,1.3350000381469727,0.722000002861023,-0.0,-0.722000002861023,-1.3350000381469727,-1.74399995803833,-1.8880000114440918,1.74399995803833,1.5709999799728394,1.0870000123977661,0.3880000114440918,-0.3880000114440918,-1.0870000123977661,-1.5709999799728394,-1.74399995803833,1.3350000381469727,1.1230000257492065,0.5540000200271606,-0.1899999976158142,-0.8740000128746033,-1.281000018119812,0.722000002861023,0.3610000014305115,-0.3610000014305115,-0.722000002861023,0.0,-0.3840000033378601,0.3840000033378601,-0.8709999918937683,-0.1889999955892563,0.5519999861717224,1.1180000305175781,-1.1490000486373901,-0.5440000295639038,0.1850000023841858,0.871999979019165,1.3589999675750732,-1.2760000228881836,-0.8709999918937683,-0.1889999955892563,0.5519999861717224,1.1180000305175781,-0.3840000033378601,0.3840000033378601],\"z\":[-0.35899999737739563,-0.9330000281333923,-0.34200000762939453,-0.9179999828338623,-0.29600000381469727,-0.8759999871253967,-0.2290000021457672,-0.8149999976158142,-0.1550000011920929,-0.746999979019165,-0.08799999952316284,-0.6859999895095825,-0.041999999433755875,-0.6439999938011169,-0.02500000037252903,-0.6290000081062317,-0.041999999433755875,-0.6439999938011169,-0.08799999952316284,-0.6859999895095825,-0.1550000011920929,-0.746999979019165,-0.2290000021457672,-0.8149999976158142,-0.29600000381469727,-0.8759999871253967,-0.34200000762939453,-0.9179999828338623,0.656000018119812,0.656000018119812,1.281000018119812,1.281000018119812,0.656000018119812,0.029999999329447746,0.029999999329447746,0.656000018119812,1.3769999742507935,1.8700000047683716,1.9769999980926514,1.6640000343322754,1.031999945640564,0.2800000011920929,0.656000018119812,1.4119999408721924,2.0190000534057617,2.3559999465942383,2.3559999465942383,2.0190000534057617,1.4119999408721924,0.656000018119812,0.656000018119812,1.378000020980835,1.9900000095367432,2.3989999294281006,2.5429999828338623,2.3989999294281006,1.9900000095367432,1.378000020980835,0.656000018119812,0.656000018119812,1.4119999408721924,2.0190000534057617,2.3559999465942383,2.3559999465942383,2.0190000534057617,1.4119999408721924,0.656000018119812,0.656000018119812,1.3769999742507935,1.8700000047683716,1.9769999980926514,1.6640000343322754,1.031999945640564,0.656000018119812,1.281000018119812,1.281000018119812,0.656000018119812,0.656000018119812,-1.4019999504089355,-1.4019999504089355,-1.7419999837875366,-2.052999973297119,-1.9459999799728394,-1.4559999704360962,-1.7549999952316284,-2.171999931335449,-2.260999917984009,-2.0,-1.4509999752044678,-1.1119999885559082,-1.7419999837875366,-2.052999973297119,-1.9459999799728394,-1.4559999704360962,-1.4019999504089355,-1.4019999504089355],\"type\":\"mesh3d\"}],                        {\"template\":{\"data\":{\"histogram2dcontour\":[{\"type\":\"histogram2dcontour\",\"colorbar\":{\"outlinewidth\":0,\"ticks\":\"\"},\"colorscale\":[[0.0,\"#0d0887\"],[0.1111111111111111,\"#46039f\"],[0.2222222222222222,\"#7201a8\"],[0.3333333333333333,\"#9c179e\"],[0.4444444444444444,\"#bd3786\"],[0.5555555555555556,\"#d8576b\"],[0.6666666666666666,\"#ed7953\"],[0.7777777777777778,\"#fb9f3a\"],[0.8888888888888888,\"#fdca26\"],[1.0,\"#f0f921\"]]}],\"choropleth\":[{\"type\":\"choropleth\",\"colorbar\":{\"outlinewidth\":0,\"ticks\":\"\"}}],\"histogram2d\":[{\"type\":\"histogram2d\",\"colorbar\":{\"outlinewidth\":0,\"ticks\":\"\"},\"colorscale\":[[0.0,\"#0d0887\"],[0.1111111111111111,\"#46039f\"],[0.2222222222222222,\"#7201a8\"],[0.3333333333333333,\"#9c179e\"],[0.4444444444444444,\"#bd3786\"],[0.5555555555555556,\"#d8576b\"],[0.6666666666666666,\"#ed7953\"],[0.7777777777777778,\"#fb9f3a\"],[0.8888888888888888,\"#fdca26\"],[1.0,\"#f0f921\"]]}],\"heatmap\":[{\"type\":\"heatmap\",\"colorbar\":{\"outlinewidth\":0,\"ticks\":\"\"},\"colorscale\":[[0.0,\"#0d0887\"],[0.1111111111111111,\"#46039f\"],[0.2222222222222222,\"#7201a8\"],[0.3333333333333333,\"#9c179e\"],[0.4444444444444444,\"#bd3786\"],[0.5555555555555556,\"#d8576b\"],[0.6666666666666666,\"#ed7953\"],[0.7777777777777778,\"#fb9f3a\"],[0.8888888888888888,\"#fdca26\"],[1.0,\"#f0f921\"]]}],\"heatmapgl\":[{\"type\":\"heatmapgl\",\"colorbar\":{\"outlinewidth\":0,\"ticks\":\"\"},\"colorscale\":[[0.0,\"#0d0887\"],[0.1111111111111111,\"#46039f\"],[0.2222222222222222,\"#7201a8\"],[0.3333333333333333,\"#9c179e\"],[0.4444444444444444,\"#bd3786\"],[0.5555555555555556,\"#d8576b\"],[0.6666666666666666,\"#ed7953\"],[0.7777777777777778,\"#fb9f3a\"],[0.8888888888888888,\"#fdca26\"],[1.0,\"#f0f921\"]]}],\"contourcarpet\":[{\"type\":\"contourcarpet\",\"colorbar\":{\"outlinewidth\":0,\"ticks\":\"\"}}],\"contour\":[{\"type\":\"contour\",\"colorbar\":{\"outlinewidth\":0,\"ticks\":\"\"},\"colorscale\":[[0.0,\"#0d0887\"],[0.1111111111111111,\"#46039f\"],[0.2222222222222222,\"#7201a8\"],[0.3333333333333333,\"#9c179e\"],[0.4444444444444444,\"#bd3786\"],[0.5555555555555556,\"#d8576b\"],[0.6666666666666666,\"#ed7953\"],[0.7777777777777778,\"#fb9f3a\"],[0.8888888888888888,\"#fdca26\"],[1.0,\"#f0f921\"]]}],\"surface\":[{\"type\":\"surface\",\"colorbar\":{\"outlinewidth\":0,\"ticks\":\"\"},\"colorscale\":[[0.0,\"#0d0887\"],[0.1111111111111111,\"#46039f\"],[0.2222222222222222,\"#7201a8\"],[0.3333333333333333,\"#9c179e\"],[0.4444444444444444,\"#bd3786\"],[0.5555555555555556,\"#d8576b\"],[0.6666666666666666,\"#ed7953\"],[0.7777777777777778,\"#fb9f3a\"],[0.8888888888888888,\"#fdca26\"],[1.0,\"#f0f921\"]]}],\"mesh3d\":[{\"type\":\"mesh3d\",\"colorbar\":{\"outlinewidth\":0,\"ticks\":\"\"}}],\"scatter\":[{\"fillpattern\":{\"fillmode\":\"overlay\",\"size\":10,\"solidity\":0.2},\"type\":\"scatter\"}],\"parcoords\":[{\"type\":\"parcoords\",\"line\":{\"colorbar\":{\"outlinewidth\":0,\"ticks\":\"\"}}}],\"scatterpolargl\":[{\"type\":\"scatterpolargl\",\"marker\":{\"colorbar\":{\"outlinewidth\":0,\"ticks\":\"\"}}}],\"bar\":[{\"error_x\":{\"color\":\"#2a3f5f\"},\"error_y\":{\"color\":\"#2a3f5f\"},\"marker\":{\"line\":{\"color\":\"#E5ECF6\",\"width\":0.5},\"pattern\":{\"fillmode\":\"overlay\",\"size\":10,\"solidity\":0.2}},\"type\":\"bar\"}],\"scattergeo\":[{\"type\":\"scattergeo\",\"marker\":{\"colorbar\":{\"outlinewidth\":0,\"ticks\":\"\"}}}],\"scatterpolar\":[{\"type\":\"scatterpolar\",\"marker\":{\"colorbar\":{\"outlinewidth\":0,\"ticks\":\"\"}}}],\"histogram\":[{\"marker\":{\"pattern\":{\"fillmode\":\"overlay\",\"size\":10,\"solidity\":0.2}},\"type\":\"histogram\"}],\"scattergl\":[{\"type\":\"scattergl\",\"marker\":{\"colorbar\":{\"outlinewidth\":0,\"ticks\":\"\"}}}],\"scatter3d\":[{\"type\":\"scatter3d\",\"line\":{\"colorbar\":{\"outlinewidth\":0,\"ticks\":\"\"}},\"marker\":{\"colorbar\":{\"outlinewidth\":0,\"ticks\":\"\"}}}],\"scattermapbox\":[{\"type\":\"scattermapbox\",\"marker\":{\"colorbar\":{\"outlinewidth\":0,\"ticks\":\"\"}}}],\"scatterternary\":[{\"type\":\"scatterternary\",\"marker\":{\"colorbar\":{\"outlinewidth\":0,\"ticks\":\"\"}}}],\"scattercarpet\":[{\"type\":\"scattercarpet\",\"marker\":{\"colorbar\":{\"outlinewidth\":0,\"ticks\":\"\"}}}],\"carpet\":[{\"aaxis\":{\"endlinecolor\":\"#2a3f5f\",\"gridcolor\":\"white\",\"linecolor\":\"white\",\"minorgridcolor\":\"white\",\"startlinecolor\":\"#2a3f5f\"},\"baxis\":{\"endlinecolor\":\"#2a3f5f\",\"gridcolor\":\"white\",\"linecolor\":\"white\",\"minorgridcolor\":\"white\",\"startlinecolor\":\"#2a3f5f\"},\"type\":\"carpet\"}],\"table\":[{\"cells\":{\"fill\":{\"color\":\"#EBF0F8\"},\"line\":{\"color\":\"white\"}},\"header\":{\"fill\":{\"color\":\"#C8D4E3\"},\"line\":{\"color\":\"white\"}},\"type\":\"table\"}],\"barpolar\":[{\"marker\":{\"line\":{\"color\":\"#E5ECF6\",\"width\":0.5},\"pattern\":{\"fillmode\":\"overlay\",\"size\":10,\"solidity\":0.2}},\"type\":\"barpolar\"}],\"pie\":[{\"automargin\":true,\"type\":\"pie\"}]},\"layout\":{\"autotypenumbers\":\"strict\",\"colorway\":[\"#636efa\",\"#EF553B\",\"#00cc96\",\"#ab63fa\",\"#FFA15A\",\"#19d3f3\",\"#FF6692\",\"#B6E880\",\"#FF97FF\",\"#FECB52\"],\"font\":{\"color\":\"#2a3f5f\"},\"hovermode\":\"closest\",\"hoverlabel\":{\"align\":\"left\"},\"paper_bgcolor\":\"white\",\"plot_bgcolor\":\"#E5ECF6\",\"polar\":{\"bgcolor\":\"#E5ECF6\",\"angularaxis\":{\"gridcolor\":\"white\",\"linecolor\":\"white\",\"ticks\":\"\"},\"radialaxis\":{\"gridcolor\":\"white\",\"linecolor\":\"white\",\"ticks\":\"\"}},\"ternary\":{\"bgcolor\":\"#E5ECF6\",\"aaxis\":{\"gridcolor\":\"white\",\"linecolor\":\"white\",\"ticks\":\"\"},\"baxis\":{\"gridcolor\":\"white\",\"linecolor\":\"white\",\"ticks\":\"\"},\"caxis\":{\"gridcolor\":\"white\",\"linecolor\":\"white\",\"ticks\":\"\"}},\"coloraxis\":{\"colorbar\":{\"outlinewidth\":0,\"ticks\":\"\"}},\"colorscale\":{\"sequential\":[[0.0,\"#0d0887\"],[0.1111111111111111,\"#46039f\"],[0.2222222222222222,\"#7201a8\"],[0.3333333333333333,\"#9c179e\"],[0.4444444444444444,\"#bd3786\"],[0.5555555555555556,\"#d8576b\"],[0.6666666666666666,\"#ed7953\"],[0.7777777777777778,\"#fb9f3a\"],[0.8888888888888888,\"#fdca26\"],[1.0,\"#f0f921\"]],\"sequentialminus\":[[0.0,\"#0d0887\"],[0.1111111111111111,\"#46039f\"],[0.2222222222222222,\"#7201a8\"],[0.3333333333333333,\"#9c179e\"],[0.4444444444444444,\"#bd3786\"],[0.5555555555555556,\"#d8576b\"],[0.6666666666666666,\"#ed7953\"],[0.7777777777777778,\"#fb9f3a\"],[0.8888888888888888,\"#fdca26\"],[1.0,\"#f0f921\"]],\"diverging\":[[0,\"#8e0152\"],[0.1,\"#c51b7d\"],[0.2,\"#de77ae\"],[0.3,\"#f1b6da\"],[0.4,\"#fde0ef\"],[0.5,\"#f7f7f7\"],[0.6,\"#e6f5d0\"],[0.7,\"#b8e186\"],[0.8,\"#7fbc41\"],[0.9,\"#4d9221\"],[1,\"#276419\"]]},\"xaxis\":{\"gridcolor\":\"white\",\"linecolor\":\"white\",\"ticks\":\"\",\"title\":{\"standoff\":15},\"zerolinecolor\":\"white\",\"automargin\":true,\"zerolinewidth\":2},\"yaxis\":{\"gridcolor\":\"white\",\"linecolor\":\"white\",\"ticks\":\"\",\"title\":{\"standoff\":15},\"zerolinecolor\":\"white\",\"automargin\":true,\"zerolinewidth\":2},\"scene\":{\"xaxis\":{\"backgroundcolor\":\"#E5ECF6\",\"gridcolor\":\"white\",\"linecolor\":\"white\",\"showbackground\":true,\"ticks\":\"\",\"zerolinecolor\":\"white\",\"gridwidth\":2},\"yaxis\":{\"backgroundcolor\":\"#E5ECF6\",\"gridcolor\":\"white\",\"linecolor\":\"white\",\"showbackground\":true,\"ticks\":\"\",\"zerolinecolor\":\"white\",\"gridwidth\":2},\"zaxis\":{\"backgroundcolor\":\"#E5ECF6\",\"gridcolor\":\"white\",\"linecolor\":\"white\",\"showbackground\":true,\"ticks\":\"\",\"zerolinecolor\":\"white\",\"gridwidth\":2}},\"shapedefaults\":{\"line\":{\"color\":\"#2a3f5f\"}},\"annotationdefaults\":{\"arrowcolor\":\"#2a3f5f\",\"arrowhead\":0,\"arrowwidth\":1},\"geo\":{\"bgcolor\":\"white\",\"landcolor\":\"#E5ECF6\",\"subunitcolor\":\"white\",\"showland\":true,\"showlakes\":true,\"lakecolor\":\"white\"},\"title\":{\"x\":0.05},\"mapbox\":{\"style\":\"light\"}}},\"scene\":{\"aspectmode\":\"data\"}},                        {\"responsive\": true}                    ).then(function(){\n",
       "                            \n",
       "var gd = document.getElementById('7052742b-3291-4297-b1fc-7d77316ef0f9');\n",
       "var x = new MutationObserver(function (mutations, observer) {{\n",
       "        var display = window.getComputedStyle(gd).display;\n",
       "        if (!display || display === 'none') {{\n",
       "            console.log([gd, 'removed!']);\n",
       "            Plotly.purge(gd);\n",
       "            observer.disconnect();\n",
       "        }}\n",
       "}});\n",
       "\n",
       "// Listen for the removal of the full notebook cells\n",
       "var notebookContainer = gd.closest('#notebook-container');\n",
       "if (notebookContainer) {{\n",
       "    x.observe(notebookContainer, {childList: true});\n",
       "}}\n",
       "\n",
       "// Listen for the clearing of the current output cell\n",
       "var outputEl = gd.closest('.output');\n",
       "if (outputEl) {{\n",
       "    x.observe(outputEl, {childList: true});\n",
       "}}\n",
       "\n",
       "                        })                };                });            </script>        </div>"
      ]
     },
     "metadata": {},
     "output_type": "display_data"
    }
   ],
   "source": [
    "phi = Model.phi_known('G_Yukawa','react',Post.mesh.mol_verts,'molecule')\n",
    "Post.plot_interface_3D_known(Post,phi,Post.mesh.mol_verts,Post.mesh.mol_faces);"
   ]
  },
  {
   "cell_type": "code",
   "execution_count": null,
   "metadata": {},
   "outputs": [],
   "source": []
  }
 ],
 "metadata": {
  "kernelspec": {
   "display_name": "pbj",
   "language": "python",
   "name": "python3"
  },
  "language_info": {
   "codemirror_mode": {
    "name": "ipython",
    "version": 3
   },
   "file_extension": ".py",
   "mimetype": "text/x-python",
   "name": "python",
   "nbconvert_exporter": "python",
   "pygments_lexer": "ipython3",
   "version": "3.8.18"
  },
  "orig_nbformat": 4
 },
 "nbformat": 4,
 "nbformat_minor": 2
}
