{
 "cells": [
  {
   "cell_type": "code",
   "execution_count": 1,
   "id": "92ea838a",
   "metadata": {},
   "outputs": [],
   "source": [
    "import pbj\n",
    "import numpy\n",
    "import numpy as np"
   ]
  },
  {
   "cell_type": "markdown",
   "id": "f15cdf9b",
   "metadata": {},
   "source": [
    "### Create .vert and .face"
   ]
  },
  {
   "cell_type": "code",
   "execution_count": 2,
   "id": "ad9738ba",
   "metadata": {},
   "outputs": [
    {
     "name": "stdout",
     "output_type": "stream",
     "text": [
      "MSMS 2.6.1 started on tulio\n",
      "Copyright M.F. Sanner (1994)\n",
      "Compilation flags -O2 -DVERBOSE -DTIMING\n",
      "INPUT  methanol/methanol.xyzr 3 spheres 0 collision only, radii  0.200 to  1.888\n",
      "PARAM  Probe_radius  1.400 density  8.000 hdensity  3.000\n",
      "REDUCED SURFACE ...\n",
      "    RS component  #faces  #edges #free_edges  #vertices   genus\n",
      "         0           0        0          1          2      0.5\n",
      "    Time Reduced Surface real: 0.00 user: 0.00 sys: 0.00\n",
      "ANALYTICAL SOLVENT EXCLUDED SURFACE...\n",
      "    Component   0\n",
      "        Time Surface real: 0.00 user: 0.00 sys: 0.00\n",
      "    SES comp.  #fac.  #edg. #s_edg. #vert. #s_vert. R_h C_h genus\n",
      "         0        3      3      0       2        0   0   0    0\n",
      "ANALYTICAL SURFACE AREA :\n",
      "    Comp. probe_radius,   reent,    toric,   contact    SES       SAS\n",
      "      0       1.400       0.000     6.139    46.868    53.007   151.129\n",
      "TRIANGULATION...\n",
      "    Component 0\n",
      "    component#, vertices,  edges,  faces, genus, density\n",
      "        0            373    1113     742    0     7.037\n",
      "        Time Triangulation real: 0.00 user: 0.00 sys: 0.00\n",
      "NUMERICAL VOLUMES AND AREA\n",
      "    Comp. probe_radius SES_volume SES_area)\n",
      "       0      1.40       34.437     52.541\n",
      "    Total ses_volume:    34.437\n",
      "MSMS terminated normally\n",
      "Total Time real: 0.03 user: 0.00 sys: 0.00\n"
     ]
    },
    {
     "name": "stderr",
     "output_type": "stream",
     "text": [
      "    Couldn't find first face trying -all option\n",
      "WARNING: atoms 2 is completely inside atom 1\n"
     ]
    },
    {
     "data": {
      "text/plain": [
       "CompletedProcess(args=['msms', '-if', 'methanol/methanol.xyzr', '-of', 'methanol/methanol', '-d', '8', '-p', '1.4', '-no_header'], returncode=0)"
      ]
     },
     "execution_count": 2,
     "metadata": {},
     "output_type": "execute_result"
    }
   ],
   "source": [
    "molecule = 'methanol'\n",
    "\n",
    "import subprocess\n",
    "msms_command = [\"msms\", \"-if\", f\"{molecule}/{molecule}.xyzr\", \"-of\", f\"{molecule}/{molecule}\", \"-d\", \"8\", \"-p\", \"1.4\", \"-no_header\"]\n",
    "subprocess.run(msms_command)"
   ]
  },
  {
   "cell_type": "markdown",
   "id": "a30fdf54",
   "metadata": {},
   "source": [
    "### Import .pqr"
   ]
  },
  {
   "cell_type": "code",
   "execution_count": 3,
   "id": "1555dc3d",
   "metadata": {},
   "outputs": [
    {
     "name": "stdout",
     "output_type": "stream",
     "text": [
      "/home/martinachondo/.local/lib/python3.9/site-packages/pbj/mesh/ExternalSoftware/MSMS/msms -if /home/martinachondo/Simulations/mesh_files/methanol.xyzr -of /home/martinachondo/Simulations/mesh_files/methanol -p 1.4 -d 6 -no_header\n",
      "MSMS 2.6.1 started on tulio\n",
      "Copyright M.F. Sanner (1994)\n",
      "Compilation flags -O2 -DVERBOSE -DTIMING\n",
      "Atom 4 ignored, radius = 0.010000\n",
      "INPUT  /home/martinachondo/Simulations/mesh_files/methanol.xyzr 3 spheres 0 collision only, radii  0.200 to  1.888\n",
      "PARAM  Probe_radius  1.400 density  6.000 hdensity  3.000\n",
      "REDUCED SURFACE ...\n",
      "    RS component  #faces  #edges #free_edges  #vertices   genus\n",
      "         0           0        0          1          2      0.5\n",
      "    Time Reduced Surface real: 0.00 user: 0.00 sys: 0.00\n",
      "ANALYTICAL SOLVENT EXCLUDED SURFACE...\n",
      "    Component   0\n",
      "        Time Surface real: 0.00 user: 0.00 sys: 0.00\n",
      "    SES comp.  #fac.  #edg. #s_edg. #vert. #s_vert. R_h C_h genus\n",
      "         0        3      3      0       2        0   0   0    0\n",
      "ANALYTICAL SURFACE AREA :\n",
      "    Comp. probe_radius,   reent,    toric,   contact    SES       SAS\n",
      "      0       1.400       0.000     6.139    46.868    53.007   151.129\n",
      "TRIANGULATION...\n",
      "    Component 0\n",
      "    component#, vertices,  edges,  faces, genus, density\n",
      "        0            286     852     568    0     5.395\n",
      "        Time Triangulation real: 0.00 user: 0.00 sys: 0.00\n",
      "NUMERICAL VOLUMES AND AREA\n",
      "    Comp. probe_radius SES_volume SES_area)\n",
      "       0      1.40       34.241     52.377\n",
      "    Total ses_volume:    34.241\n",
      "MSMS terminated normally\n",
      "Total Time real: 0.00 user: 0.00 sys: 0.00\n"
     ]
    },
    {
     "name": "stderr",
     "output_type": "stream",
     "text": [
      "    Couldn't find first face trying -all option\n",
      "WARNING: atoms 2 is completely inside atom 1\n"
     ]
    }
   ],
   "source": [
    "molecule = 'methanol'\n",
    "mol_object = pbj.electrostatics.Solute(f\"{molecule}/{molecule}.pqr\", mesh_density=6, mesh_generator='msms', save_mesh_build_files=True)\n",
    "simulation = pbj.Simulation()\n",
    "simulation.add_solute(mol_object)\n"
   ]
  },
  {
   "cell_type": "code",
   "execution_count": 4,
   "id": "5f6df08a",
   "metadata": {},
   "outputs": [],
   "source": [
    "simulation.solutes[0].ep_in = 1\n",
    "simulation.solutes[0].ep_ex = 80\n",
    "simulation.solutes[0].kappa = 0.125"
   ]
  },
  {
   "cell_type": "markdown",
   "id": "00c9b2b3",
   "metadata": {},
   "source": [
    "### Create evaluation Points"
   ]
  },
  {
   "cell_type": "code",
   "execution_count": 5,
   "id": "a0a7a827",
   "metadata": {},
   "outputs": [],
   "source": [
    "# Plane\n",
    "verts = simulation.solutes[0].dirichl_space.grid.vertices\n",
    "xmax = numpy.max(verts[0,:],axis=0)\n",
    "xmin = numpy.min(verts[0,:],axis=0)\n",
    "ymax = numpy.max(verts[1,:],axis=0)\n",
    "ymin = numpy.min(verts[1,:],axis=0)\n",
    "zmax = numpy.max(verts[2,:],axis=0)\n",
    "zmin = numpy.min(verts[2,:],axis=0)\n",
    "\n",
    "x = numpy.linspace(xmin, xmax, num=101)\n",
    "y = numpy.linspace(ymin, ymax, num=101)\n",
    "z = (zmax+zmin)/2\n",
    "\n",
    "X,Y,Z = numpy.meshgrid(x,y,z)\n",
    "eval_points = numpy.column_stack((X.ravel(),Y.ravel(),Z.ravel()))"
   ]
  },
  {
   "cell_type": "code",
   "execution_count": 6,
   "id": "b4194760",
   "metadata": {},
   "outputs": [
    {
     "name": "stdout",
     "output_type": "stream",
     "text": [
      "[[-1.31894056  1.01348432 -1.09160654]\n",
      " [-0.85575315 -0.82367509  1.1648607 ]\n",
      " [-1.17576517 -0.34981178  0.36198982]\n",
      " ...\n",
      " [ 0.37938466  7.99923691  1.81845196]\n",
      " [-2.46566531 -5.05534481 -2.46177143]\n",
      " [ 5.43499507  6.74027271 -3.6973795 ]]\n"
     ]
    }
   ],
   "source": [
    "# Random \n",
    "\n",
    "rI = 1.5\n",
    "R = 10\n",
    "\n",
    "num_points1 = 3000\n",
    "x1 = np.random.uniform(-rI, rI, num_points1)\n",
    "y1 = np.random.uniform(-rI, rI, num_points1)\n",
    "z1 = np.random.uniform(-rI, rI, num_points1)\n",
    "\n",
    "num_points2 = 3000\n",
    "x2 = np.random.uniform(-R, R, num_points2)\n",
    "y2 = np.random.uniform(-R, R, num_points2)\n",
    "z2 = np.random.uniform(-R, R, num_points2)\n",
    "\n",
    "\n",
    "x = np.concatenate((x1, x2))\n",
    "y = np.concatenate((y1, y2))\n",
    "z = np.concatenate((z1, z2))\n",
    "\n",
    "eval_points = numpy.column_stack((x.ravel(),y.ravel(),z.ravel()))\n",
    "\n",
    "print(eval_points)"
   ]
  },
  {
   "cell_type": "markdown",
   "id": "87b5acb6",
   "metadata": {},
   "source": [
    "### Calculate phi at interface, solute and solvent"
   ]
  },
  {
   "cell_type": "code",
   "execution_count": 7,
   "id": "34f7a7d3",
   "metadata": {},
   "outputs": [],
   "source": [
    "phi_solute, points_solute = simulation.calculate_coulomb_potential_solute(eval_points, units='e_eps0_angs')"
   ]
  },
  {
   "cell_type": "code",
   "execution_count": 8,
   "id": "fe10c87f",
   "metadata": {
    "scrolled": true
   },
   "outputs": [
    {
     "name": "stderr",
     "output_type": "stream",
     "text": [
      "66 warnings generated.\n",
      "/home/martinachondo/miniconda3/envs/pbj/lib/python3.9/site-packages/pyopencl/__init__.py:270: CompilerWarning: Non-empty compiler output encountered. Set the environment variable PYOPENCL_COMPILER_OUTPUT=1 to see more.\n",
      "  warn(\"Non-empty compiler output encountered. Set the \"\n",
      "66 warnings generated.\n",
      "66 warnings generated.\n",
      "66 warnings generated.\n",
      "66 warnings generated.\n",
      "66 warnings generated.\n",
      "66 warnings generated.\n",
      "66 warnings generated.\n",
      "66 warnings generated.\n",
      "66 warnings generated.\n",
      "66 warnings generated.\n",
      "66 warnings generated.\n",
      "66 warnings generated.\n",
      "66 warnings generated.\n",
      "66 warnings generated.\n",
      "66 warnings generated.\n"
     ]
    }
   ],
   "source": [
    "phir_solute, points_solute = simulation.calculate_reaction_potential_solute(eval_points, units='e_eps0_angs')"
   ]
  },
  {
   "cell_type": "code",
   "execution_count": 9,
   "id": "d9aeb7ff",
   "metadata": {},
   "outputs": [],
   "source": [
    "phi_sol_T = phi_solute + phir_solute"
   ]
  },
  {
   "cell_type": "code",
   "execution_count": 10,
   "id": "a6839d43",
   "metadata": {},
   "outputs": [
    {
     "name": "stderr",
     "output_type": "stream",
     "text": [
      "66 warnings generated.\n",
      "66 warnings generated.\n",
      "66 warnings generated.\n",
      "66 warnings generated.\n"
     ]
    }
   ],
   "source": [
    "phi_solv, points_solvent = simulation.calculate_potential_solvent(eval_points,units='e_eps0_angs')"
   ]
  },
  {
   "cell_type": "code",
   "execution_count": 11,
   "id": "ab58b22d",
   "metadata": {},
   "outputs": [],
   "source": [
    "phi = phi_sol_T + phi_solv"
   ]
  },
  {
   "cell_type": "markdown",
   "id": "e91343c2",
   "metadata": {},
   "source": [
    "### Calculate phi_ens"
   ]
  },
  {
   "cell_type": "code",
   "execution_count": null,
   "id": "59949e80",
   "metadata": {},
   "outputs": [],
   "source": [
    "simulation.calculate_potential_ens(mesh_dx=2.)\n",
    "phi_ens = simulation.solutes[0].results['phi_ens']"
   ]
  },
  {
   "cell_type": "markdown",
   "id": "e5788226",
   "metadata": {},
   "source": [
    "### Calculate solvation energy"
   ]
  },
  {
   "cell_type": "code",
   "execution_count": null,
   "id": "825e33a6",
   "metadata": {},
   "outputs": [],
   "source": [
    "simulation.calculate_solvation_energy()\n",
    "G_solv = simulation.solutes[0].results['solvation_energy']\n",
    "G_solv"
   ]
  },
  {
   "cell_type": "markdown",
   "id": "d507f466",
   "metadata": {},
   "source": [
    "### Export results"
   ]
  },
  {
   "cell_type": "code",
   "execution_count": null,
   "id": "ad8af4f9",
   "metadata": {},
   "outputs": [],
   "source": [
    "import os \n",
    "\n",
    "cwd = os.getcwd()\n",
    "\n",
    "with open(os.path.join(cwd,molecule,'data_experimental.dat'), 'w') as file:\n",
    "    for i in range(len(phi_ens)):\n",
    "        file.write(f'{i+1}   {phi_ens[i]}\\n')       "
   ]
  },
  {
   "cell_type": "code",
   "execution_count": null,
   "id": "6c07ce1c",
   "metadata": {},
   "outputs": [],
   "source": [
    "phi_1 = phi_sol_T[points_solute==0]\n",
    "X_1 = eval_points[points_solute==0]\n",
    "phi_2 = phi_solv[points_solvent]\n",
    "X_2 = eval_points[points_solvent]\n",
    "\n",
    "with open(os.path.join(cwd,molecule,'data_known.dat'), 'w') as file:\n",
    "    for i in range(len(phi_1)):\n",
    "        file.write(f'{1} {X_1[i,0]} {X_1[i,1]} {X_1[i,2]} {phi_1[i]}\\n')\n",
    "    for i in range(len(phi_2)):\n",
    "        file.write(f'{2} {X_2[i,0]} {X_2[i,1]} {X_2[i,2]} {phi_2[i]}\\n')"
   ]
  },
  {
   "cell_type": "markdown",
   "id": "90b99bb8",
   "metadata": {},
   "source": [
    "### Plot results"
   ]
  },
  {
   "cell_type": "code",
   "execution_count": 16,
   "id": "80113fb1",
   "metadata": {},
   "outputs": [
    {
     "data": {
      "image/png": "[encoded data removed]",
      "text/plain": [
       "<Figure size 1000x800 with 2 Axes>"
      ]
     },
     "metadata": {},
     "output_type": "display_data"
    }
   ],
   "source": [
    "phi_2D = numpy.reshape(phi,(len(x),len(y)))\n",
    "\n",
    "from matplotlib import pyplot as plt\n",
    "fig=plt.figure(figsize=(10,8))\n",
    "plt.imshow(phi_2D, extent=[x[0],x[-1],y[0],y[-1]], cmap='bwr_r')#,vmin=-50,vmax=50)\n",
    "plt.colorbar()\n",
    "plt.show()"
   ]
  },
  {
   "cell_type": "code",
   "execution_count": 17,
   "id": "cb4829f1",
   "metadata": {},
   "outputs": [
    {
     "data": {
      "text/plain": [
       "dict_keys(['phi', 'd_phi', 'phi_ens', 'phir_charges', 'solvation_energy'])"
      ]
     },
     "execution_count": 17,
     "metadata": {},
     "output_type": "execute_result"
    }
   ],
   "source": [
    "simulation.solutes[0].results.keys()"
   ]
  },
  {
   "cell_type": "code",
   "execution_count": null,
   "id": "b3d6d02b",
   "metadata": {},
   "outputs": [],
   "source": []
  },
  {
   "cell_type": "code",
   "execution_count": 29,
   "id": "8dbbc79c",
   "metadata": {},
   "outputs": [
    {
     "data": {
      "text/plain": [
       "0.0007339597329053323"
      ]
     },
     "execution_count": 29,
     "metadata": {},
     "output_type": "execute_result"
    }
   ],
   "source": [
    "np.max(simulation.solutes[0].results['phi'].coefficients)"
   ]
  },
  {
   "cell_type": "code",
   "execution_count": null,
   "id": "33426f1b",
   "metadata": {},
   "outputs": [],
   "source": []
  },
  {
   "cell_type": "code",
   "execution_count": null,
   "id": "15492d5b",
   "metadata": {},
   "outputs": [],
   "source": []
  }
 ],
 "metadata": {
  "kernelspec": {
   "display_name": "Python 3 (ipykernel)",
   "language": "python",
   "name": "python3"
  },
  "language_info": {
   "codemirror_mode": {
    "name": "ipython",
    "version": 3
   },
   "file_extension": ".py",
   "mimetype": "text/x-python",
   "name": "python",
   "nbconvert_exporter": "python",
   "pygments_lexer": "ipython3",
   "version": "3.9.12"
  }
 },
 "nbformat": 4,
 "nbformat_minor": 5
}
