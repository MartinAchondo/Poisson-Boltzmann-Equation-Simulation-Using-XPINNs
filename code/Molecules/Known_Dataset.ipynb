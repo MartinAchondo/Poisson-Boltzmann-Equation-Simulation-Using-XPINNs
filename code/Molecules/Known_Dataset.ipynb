{
 "cells": [
  {
   "cell_type": "code",
   "execution_count": 1,
   "metadata": {},
   "outputs": [],
   "source": [
    "import numpy as np\n",
    "import os\n",
    "import sys\n",
    "\n",
    "sys.path.append(os.path.dirname(os.getcwd()))\n",
    "os.environ['TF_CPP_MIN_LOG_LEVEL'] = '3'\n",
    "\n",
    "from Mesh.Charges_utils import get_charges_list\n",
    "from Model.Solutions_utils import Solution_utils\n",
    "\n",
    "from Mesh.Mesh import Domain_Mesh\n",
    "from Post.Postcode import Postprocessing as Post\n",
    "from Simulation import get_simulation_name\n",
    "\n",
    "simulation_name,results_path,main_path,logger = get_simulation_name(os.path.join(os.path.dirname(os.getcwd()), 'dataset.py'))\n",
    "\n",
    "file_path = os.getcwd()"
   ]
  },
  {
   "cell_type": "code",
   "execution_count": 2,
   "metadata": {},
   "outputs": [],
   "source": [
    "\n",
    "molecule = 'born_ion'\n",
    "\n",
    "\n",
    "Rs = {'born_ion': 1,\n",
    "      'methanol': 2.54233,\n",
    "      'arg': 5.9695745,\n",
    "      'sphere': 1.2}\n",
    "\n",
    "Model = Solution_utils()\n",
    "\n",
    "q_list = get_charges_list(os.path.join(os.getcwd(),molecule,f'{molecule}.pqr'))\n",
    "Model.epsilon_1 = 1\n",
    "Model.epsilon_2 = 80\n",
    "Model.kappa = 0.125\n",
    "Model.pi = np.pi\n",
    "Model.q_list = q_list\n",
    "\n",
    "n = len(Model.q_list)\n",
    "Model.qs = np.zeros(n)\n",
    "Model.x_qs = np.zeros((n,3))\n",
    "for i,q in enumerate(Model.q_list):\n",
    "    Model.qs[i] = q.q\n",
    "    Model.x_qs[i,:] = q.x_q\n",
    "Model.total_charge = np.sum(Model.qs)\n",
    "\n",
    "dR = 0\n",
    "R_mol = Rs[molecule]\n",
    "Rmin = dR + R_mol\n",
    "Rmax = Rmin + 3\n"
   ]
  },
  {
   "cell_type": "code",
   "execution_count": 3,
   "metadata": {},
   "outputs": [
    {
     "data": {
      "text/plain": [
       "[Charges(q=1.0, x_q=array([0., 0., 0.]), r_q=1.0, atom_name='H', res_name='MET', res_num='1', ion_r_explode=3.5)]"
      ]
     },
     "execution_count": 3,
     "metadata": {},
     "output_type": "execute_result"
    }
   ],
   "source": [
    "q_list"
   ]
  },
  {
   "cell_type": "markdown",
   "metadata": {},
   "source": [
    "### Create data_known file"
   ]
  },
  {
   "cell_type": "code",
   "execution_count": 17,
   "metadata": {},
   "outputs": [],
   "source": [
    "\n",
    "def calculate_print_phi(domain,method, num_points):\n",
    "\n",
    "    R = R_mol if domain == 'molecule' else Rmax if domain == 'solvent' else None\n",
    "    x = np.random.uniform(-R, R, num_points)\n",
    "    y = np.random.uniform(-R, R, num_points)\n",
    "    z = np.random.uniform(-R, R, num_points)\n",
    "    r = np.sqrt(x**2+y**2+z**2)\n",
    "    X = np.stack([x,y,z], axis=1)\n",
    "\n",
    "    phi_values = Model.phi_known(method,'phi',X,domain,R_mol)\n",
    "\n",
    "    if domain == 'molecule':\n",
    "        with open(os.path.join(file_path,molecule,'data_known.dat'), 'a') as file:\n",
    "            for i in range(num_points):\n",
    "                condition = 1 if r[i] <= R_mol else 2\n",
    "                if r[i]<R_mol:\n",
    "                    file.write(f\"{condition} {x[i]} {y[i]} {z[i]} {phi_values[i]}\\n\")\n",
    "\n",
    "    elif domain == 'solvent':\n",
    "        with open(os.path.join(file_path,molecule,'data_known.dat'), 'a') as file:\n",
    "            for i in range(num_points):\n",
    "                condition = 1 if r[i] <= R_mol else 2\n",
    "                if r[i]>Rmin:\n",
    "                    file.write(f\"{condition} {x[i]} {y[i]} {z[i]} {phi_values[i]}\\n\")"
   ]
  },
  {
   "cell_type": "code",
   "execution_count": 18,
   "metadata": {},
   "outputs": [
    {
     "name": "stdout",
     "output_type": "stream",
     "text": [
      "File created\n"
     ]
    }
   ],
   "source": [
    "with open(os.path.join(file_path,molecule,'data_known.dat'), 'w') as file:\n",
    "    pass\n",
    "calculate_print_phi('solvent','G_Yukawa',300)\n",
    "calculate_print_phi('molecule','Harmonic_spheres',300)\n",
    "\n",
    "print('File created')"
   ]
  },
  {
   "cell_type": "markdown",
   "metadata": {},
   "source": [
    "### Calculate Solvation energy"
   ]
  },
  {
   "cell_type": "code",
   "execution_count": null,
   "metadata": {},
   "outputs": [],
   "source": [
    "phi_q = Model.Harmonic_spheres(Model.x_qs,'molecule',R_mol)\n",
    "print(Model.solvation_energy_phi_qs(phi_q))\n",
    "print(phi_q)"
   ]
  },
  {
   "cell_type": "markdown",
   "metadata": {},
   "source": [
    "### Plot phi"
   ]
  },
  {
   "cell_type": "code",
   "execution_count": 4,
   "metadata": {},
   "outputs": [],
   "source": [
    "domain_properties = {\n",
    "    'molecule': molecule,\n",
    "    }\n",
    "    \n",
    "mesh_properties = {\n",
    "        'vol_mx_interior': 0.05,\n",
    "        'vol_max_exterior': 0.5,\n",
    "        'density_mol': 2,\n",
    "        'density_border': 3,\n",
    "        'dx_experimental': 0.8,\n",
    "        'N_pq': 100,\n",
    "        'G_sigma': 0.04,\n",
    "        'mesh_generator': 'msms',\n",
    "        'dR_exterior': 5\n",
    "        }\n",
    "\n",
    "\n",
    "\n",
    "Mol_mesh = Domain_Mesh(domain_properties['molecule'], \n",
    "                mesh_properties=mesh_properties, \n",
    "                save_points=True,\n",
    "                path=main_path,\n",
    "                simulation=simulation_name\n",
    "                )\n",
    "\n",
    "Post.mesh = Mol_mesh\n",
    "Model.mesh = Mol_mesh\n",
    "Model.DTYPE = 'float64'"
   ]
  },
  {
   "cell_type": "code",
   "execution_count": 5,
   "metadata": {},
   "outputs": [
    {
     "name": "stdout",
     "output_type": "stream",
     "text": [
      "Mesh initialization ready\n"
     ]
    }
   ],
   "source": [
    "N=8000\n",
    "x0=np.array([0,0,0])\n",
    "theta=0\n",
    "phi=np.pi/2\n",
    "\n",
    "r = np.linspace(-Mol_mesh.R_exterior,Mol_mesh.R_exterior,N)\n",
    "x = x0[0] + r * np.sin(phi) * np.cos(theta) + Mol_mesh.centroid[0]\n",
    "y = x0[1] + r * np.sin(phi) * np.sin(theta) + Mol_mesh.centroid[1]\n",
    "z = x0[2] + r * np.cos(phi) + Mol_mesh.centroid[2]\n",
    "points = np.stack((x.ravel(), y.ravel(), z.ravel()), axis=1)\n",
    "X_in,X_out,_ = Post.get_interior_exterior(Post,points)\n",
    "\n",
    "X = [X_in,X_out,x0]"
   ]
  },
  {
   "cell_type": "code",
   "execution_count": 11,
   "metadata": {},
   "outputs": [
    {
     "data": {
      "text/plain": [
       "(-0.001, 0.3)"
      ]
     },
     "execution_count": 11,
     "metadata": {},
     "output_type": "execute_result"
    },
    {
     "data": {
      "image/png": "[encoded data removed]",
      "text/plain": [
       "<Figure size 640x480 with 1 Axes>"
      ]
     },
     "metadata": {},
     "output_type": "display_data"
    }
   ],
   "source": [
    "field = 'phi'\n",
    "\n",
    "u_in_Yuk = Model.phi_known('G_Yukawa',field,X_in,'molecule',Mol_mesh.R_max_dist)\n",
    "u_out_Yuk = Model.phi_known('G_Yukawa',field,X_out,'molecule',Mol_mesh.R_max_dist)\n",
    "\n",
    "u_in_Born = Model.phi_known('analytic_Born_Ion',field,X_in,'molecule',Mol_mesh.R_max_dist)\n",
    "u_out_Born = Model.phi_known('analytic_Born_Ion',field,X_out,'molecule',Mol_mesh.R_max_dist)\n",
    "\n",
    "fig,ax = Post.plot_phis_line([(u_in_Yuk,u_out_Yuk),(u_in_Born,u_out_Born)],X,['Yukawa','Born_Ion'])\n",
    "ax.set_ylim([-0.001,0.3])"
   ]
  },
  {
   "cell_type": "code",
   "execution_count": null,
   "metadata": {},
   "outputs": [],
   "source": []
  },
  {
   "cell_type": "code",
   "execution_count": null,
   "metadata": {},
   "outputs": [],
   "source": []
  }
 ],
 "metadata": {
  "kernelspec": {
   "display_name": "pbj",
   "language": "python",
   "name": "python3"
  },
  "language_info": {
   "codemirror_mode": {
    "name": "ipython",
    "version": 3
   },
   "file_extension": ".py",
   "mimetype": "text/x-python",
   "name": "python",
   "nbconvert_exporter": "python",
   "pygments_lexer": "ipython3",
   "version": "3.8.18"
  },
  "orig_nbformat": 4
 },
 "nbformat": 4,
 "nbformat_minor": 2
}
