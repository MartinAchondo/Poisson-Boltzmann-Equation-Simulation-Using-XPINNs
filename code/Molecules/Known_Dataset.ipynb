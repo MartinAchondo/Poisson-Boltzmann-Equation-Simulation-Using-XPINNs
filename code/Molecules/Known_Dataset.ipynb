{
 "cells": [
  {
   "cell_type": "code",
   "execution_count": 27,
   "metadata": {},
   "outputs": [],
   "source": [
    "import numpy as np\n",
    "import os\n",
    "import sys\n",
    "\n",
    "sys.path.append(os.path.dirname(os.getcwd()))\n",
    "os.environ['TF_CPP_MIN_LOG_LEVEL'] = '3'\n",
    "\n",
    "from Mesh.Charges_utils import get_charges_list\n",
    "from Model.Solutions_utils import Solution_utils\n",
    "\n",
    "from Mesh.Mesh import Domain_Mesh\n",
    "from Post.Postcode import Postprocessing as Post\n",
    "from Simulation import get_simulation_name\n",
    "\n",
    "simulation_name,results_path,main_path,logger = get_simulation_name(os.path.join(os.path.dirname(os.getcwd()), 'dataset.py'))\n",
    "\n",
    "file_path = os.getcwd()"
   ]
  },
  {
   "cell_type": "code",
   "execution_count": 30,
   "metadata": {},
   "outputs": [],
   "source": [
    "\n",
    "molecule = 'methanol_E'\n",
    "\n",
    "\n",
    "Rs = {'born_ion': 1,\n",
    "      'methanol': 2.54233,\n",
    "      'methanol_E': 2.54233,\n",
    "      'arg': 5.9695745,\n",
    "      'sphere': 1.2,\n",
    "      'sphere_+1-1': 1.2,\n",
    "      'sphere_+1+1': 1.2,\n",
    "      'sphere_+2-1': 1.2,\n",
    "      'sphere_+1_D': 1.2,\n",
    "      'sphere_0.2': 1.2}\n",
    "\n",
    "Model = Solution_utils()\n",
    "\n",
    "Model.pqr_path = os.path.join(os.getcwd(),molecule,f'{molecule}.pqr')\n",
    "q_list = get_charges_list(Model.pqr_path)\n",
    "\n",
    "Model.domain_properties = {\n",
    "        'molecule': molecule,\n",
    "        'epsilon_1':  1,\n",
    "        'epsilon_2': 80,\n",
    "        'kappa': 0.125,\n",
    "        'T' : 300 \n",
    "        }\n",
    "\n",
    "Model.epsilon_1 = Model.domain_properties['epsilon_1']\n",
    "Model.epsilon_2 = Model.domain_properties['epsilon_2']\n",
    "Model.kappa = Model.domain_properties['kappa']\n",
    "Model.pi = np.pi\n",
    "Model.q_list = q_list\n",
    "\n",
    "n = len(Model.q_list)\n",
    "Model.qs = np.zeros(n)\n",
    "Model.x_qs = np.zeros((n,3))\n",
    "for i,q in enumerate(Model.q_list):\n",
    "    Model.qs[i] = q.q\n",
    "    Model.x_qs[i,:] = q.x_q\n",
    "Model.total_charge = np.sum(Model.qs)\n",
    "\n",
    "dR = 0.1\n",
    "R_mol = Rs[molecule]\n",
    "Rmin = dR + R_mol\n",
    "Rmax = Rmin + 3\n",
    "\n",
    "Model.mesh_density = 3\n",
    "Model.mesh_generator = 'msms'\n",
    "Model.DTYPE = 'float64'"
   ]
  },
  {
   "cell_type": "code",
   "execution_count": 31,
   "metadata": {},
   "outputs": [
    {
     "data": {
      "text/plain": [
       "[Charges(q=1.0, x_q=array([0.019 , 0.    , 0.6556]), r_q=1.8875, atom_name='CH3', res_name='MEOH', res_num='1', ion_r_explode=3.5),\n",
       " Charges(q=-2.59, x_q=array([-0.1197,  0.    , -0.7372]), r_q=1.535, atom_name='O', res_name='MEOH', res_num='1', ion_r_explode=3.5),\n",
       " Charges(q=1.5926, x_q=array([ 0.737,  0.   , -1.139]), r_q=0.2, atom_name='H', res_name='MEOH', res_num='1', ion_r_explode=3.5)]"
      ]
     },
     "execution_count": 31,
     "metadata": {},
     "output_type": "execute_result"
    }
   ],
   "source": [
    "q_list"
   ]
  },
  {
   "cell_type": "markdown",
   "metadata": {},
   "source": [
    "### Calculate Solvation energy"
   ]
  },
  {
   "cell_type": "code",
   "execution_count": 32,
   "metadata": {},
   "outputs": [
    {
     "name": "stdout",
     "output_type": "stream",
     "text": [
      "-46.480951306374806\n",
      "[-0.00274579  0.00353542 -0.00651473]\n"
     ]
    },
    {
     "data": {
      "text/plain": [
       "-46.480951306374806"
      ]
     },
     "execution_count": 32,
     "metadata": {},
     "output_type": "execute_result"
    }
   ],
   "source": [
    "phi_q = Model.Harmonic_spheres(Model.x_qs,'molecule',R_mol)\n",
    "print(Model.solvation_energy_phi_qs(phi_q))\n",
    "print(phi_q)\n",
    "Model.solvation_energy_phi_qs(phi_q)"
   ]
  },
  {
   "cell_type": "markdown",
   "metadata": {},
   "source": [
    "### Create data_known file"
   ]
  },
  {
   "cell_type": "code",
   "execution_count": 33,
   "metadata": {},
   "outputs": [],
   "source": [
    "\n",
    "def calculate_print_phi(domain,method, num_points, file):\n",
    "\n",
    "    R = R_mol if domain == 'molecule' else Rmax if domain == 'solvent' else None\n",
    "    x = np.random.uniform(-R, R, num_points)\n",
    "    y = np.random.uniform(-R, R, num_points)\n",
    "    z = np.random.uniform(-R, R, num_points)\n",
    "    r = np.sqrt(x**2+y**2+z**2)\n",
    "    X = np.stack([x,y,z], axis=1)\n",
    "\n",
    "    phi_values = Model.phi_known(method,'phi',X,domain,R_mol)\n",
    "\n",
    "    if domain == 'molecule':\n",
    "        for i in range(num_points):\n",
    "            condition = 1 if r[i] <= R_mol else 2\n",
    "            if r[i]<R_mol:\n",
    "                file.write(f\"{condition} {x[i]} {y[i]} {z[i]} {phi_values[i]}\\n\")\n",
    "\n",
    "    elif domain == 'solvent':\n",
    "        for i in range(num_points):\n",
    "            condition = 1 if r[i] <= R_mol else 2\n",
    "            if r[i]>Rmin:\n",
    "                file.write(f\"{condition} {x[i]} {y[i]} {z[i]} {phi_values[i]}\\n\")"
   ]
  },
  {
   "cell_type": "code",
   "execution_count": 35,
   "metadata": {},
   "outputs": [
    {
     "name": "stdout",
     "output_type": "stream",
     "text": [
      "File created\n"
     ]
    }
   ],
   "source": [
    "with open(os.path.join(file_path,molecule,'data_known.dat'), 'w') as file:\n",
    "    calculate_print_phi('solvent','pbj',300, file)\n",
    "    # calculate_print_phi('molecule','Harmonic_spheres',300, file)\n",
    "\n",
    "print('File created')"
   ]
  },
  {
   "cell_type": "code",
   "execution_count": null,
   "metadata": {},
   "outputs": [],
   "source": []
  },
  {
   "cell_type": "code",
   "execution_count": null,
   "metadata": {},
   "outputs": [],
   "source": []
  }
 ],
 "metadata": {
  "kernelspec": {
   "display_name": "pbj",
   "language": "python",
   "name": "python3"
  },
  "language_info": {
   "codemirror_mode": {
    "name": "ipython",
    "version": 3
   },
   "file_extension": ".py",
   "mimetype": "text/x-python",
   "name": "python",
   "nbconvert_exporter": "python",
   "pygments_lexer": "ipython3",
   "version": "3.8.18"
  },
  "orig_nbformat": 4
 },
 "nbformat": 4,
 "nbformat_minor": 2
}
