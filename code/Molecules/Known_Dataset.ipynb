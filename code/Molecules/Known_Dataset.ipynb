{
 "cells": [
  {
   "cell_type": "code",
   "execution_count": 2,
   "metadata": {},
   "outputs": [],
   "source": [
    "import numpy as np\n",
    "import os\n",
    "import sys\n",
    "\n",
    "sys.path.append(os.path.dirname(os.getcwd()))\n",
    "os.environ['TF_CPP_MIN_LOG_LEVEL'] = '3'\n",
    "\n",
    "from Mesh.Charges_utils import get_charges_list\n",
    "from Model.Solutions_utils import Solution_utils\n",
    "from Simulation import get_simulation_name\n",
    "\n",
    "simulation_name,results_path,main_path,logger = get_simulation_name(os.path.join(os.path.dirname(os.getcwd()), 'dataset.py'))\n",
    "\n",
    "file_path = os.getcwd()"
   ]
  },
  {
   "cell_type": "code",
   "execution_count": 3,
   "metadata": {},
   "outputs": [],
   "source": [
    "\n",
    "molecule = 'arg'\n",
    "\n",
    "\n",
    "Rs = {'born_ion': 1,\n",
    "      'methanol': 2.54233,\n",
    "      'methanol_E': 2.54233,\n",
    "      'arg': 5.9695745,\n",
    "      'sphere': 1.2,\n",
    "      'sphere_+1-1': 1.2,\n",
    "      'sphere_+1+1': 1.2,\n",
    "      'sphere_+2-1': 1.2,\n",
    "      'sphere_+1_D': 1.2,\n",
    "      'sphere_0.2': 1.2}\n",
    "\n",
    "Model = Solution_utils()\n",
    "\n",
    "Model.pqr_path = os.path.join(os.getcwd(),molecule,f'{molecule}.pqr')\n",
    "q_list = get_charges_list(Model.pqr_path)\n",
    "\n",
    "Model.domain_properties = {\n",
    "        'molecule': molecule,\n",
    "        'epsilon_1':  2,\n",
    "        'epsilon_2': 80,\n",
    "        'kappa': 0.125,\n",
    "        'T' : 300 \n",
    "        }\n",
    "\n",
    "Model.epsilon_1 = Model.domain_properties['epsilon_1']\n",
    "Model.epsilon_2 = Model.domain_properties['epsilon_2']\n",
    "Model.kappa = Model.domain_properties['kappa']\n",
    "Model.pi = np.pi\n",
    "Model.q_list = q_list\n",
    "\n",
    "n = len(Model.q_list)\n",
    "Model.qs = np.zeros(n)\n",
    "Model.x_qs = np.zeros((n,3))\n",
    "for i,q in enumerate(Model.q_list):\n",
    "    Model.qs[i] = q.q\n",
    "    Model.x_qs[i,:] = q.x_q\n",
    "Model.total_charge = np.sum(Model.qs)\n",
    "\n",
    "dR = 0.1\n",
    "R_mol = Rs[molecule]\n",
    "Rmin = dR + R_mol\n",
    "Rmax = Rmin + 3\n",
    "\n",
    "Model.mesh_density = 3\n",
    "Model.mesh_generator = 'msms'\n",
    "Model.DTYPE = 'float64'"
   ]
  },
  {
   "cell_type": "code",
   "execution_count": 4,
   "metadata": {},
   "outputs": [
    {
     "data": {
      "text/plain": [
       "[Charges(q=0.7214, x_q=array([ 0.392,  0.877, -2.219]), r_q=1.908, atom_name='C', res_name='ARG', res_num='2', ion_r_explode=3.5),\n",
       " Charges(q=-0.6013, x_q=array([ 1.262,  0.206, -2.769]), r_q=1.6612, atom_name='O', res_name='ARG', res_num='2', ion_r_explode=3.5),\n",
       " Charges(q=0.2083, x_q=array([ 0.586,  1.668, -3.938]), r_q=0.6, atom_name='H', res_name='ARG', res_num='2', ion_r_explode=3.5),\n",
       " Charges(q=0.2083, x_q=array([ 0.459,  3.157, -3.268]), r_q=0.6, atom_name='H2', res_name='ARG', res_num='2', ion_r_explode=3.5),\n",
       " Charges(q=0.2083, x_q=array([ 1.672,  2.154, -2.813]), r_q=0.6, atom_name='H3', res_name='ARG', res_num='2', ion_r_explode=3.5),\n",
       " Charges(q=0.1305, x_q=array([-0.126, -1.073, -0.834]), r_q=1.824, atom_name='N', res_name='ARG', res_num='2', ion_r_explode=3.5),\n",
       " Charges(q=0.2083, x_q=array([ 0.149, -1.142,  0.125]), r_q=0.6, atom_name='H', res_name='ARG', res_num='2', ion_r_explode=3.5),\n",
       " Charges(q=-0.0223, x_q=array([-0.486,  0.311, -1.129]), r_q=1.908, atom_name='CA', res_name='ARG', res_num='2', ion_r_explode=3.5),\n",
       " Charges(q=0.1242, x_q=array([-1.529,  0.322, -1.499]), r_q=1.1, atom_name='HA', res_name='ARG', res_num='2', ion_r_explode=3.5),\n",
       " Charges(q=0.0118, x_q=array([-0.376,  1.146,  0.179]), r_q=1.908, atom_name='CB', res_name='ARG', res_num='2', ion_r_explode=3.5),\n",
       " Charges(q=0.0226, x_q=array([0.619, 0.906, 0.623]), r_q=1.487, atom_name='HB3', res_name='ARG', res_num='2', ion_r_explode=3.5),\n",
       " Charges(q=0.0226, x_q=array([-0.376,  2.224, -0.086]), r_q=1.487, atom_name='HB2', res_name='ARG', res_num='2', ion_r_explode=3.5),\n",
       " Charges(q=0.0236, x_q=array([-1.468,  0.86 ,  1.249]), r_q=1.908, atom_name='CG', res_name='ARG', res_num='2', ion_r_explode=3.5),\n",
       " Charges(q=0.0309, x_q=array([-2.453,  1.181,  0.843]), r_q=1.487, atom_name='HG3', res_name='ARG', res_num='2', ion_r_explode=3.5),\n",
       " Charges(q=0.0309, x_q=array([-1.583, -0.237,  1.367]), r_q=1.487, atom_name='HG2', res_name='ARG', res_num='2', ion_r_explode=3.5),\n",
       " Charges(q=0.0935, x_q=array([-1.138,  1.517,  2.599]), r_q=1.908, atom_name='CD', res_name='ARG', res_num='2', ion_r_explode=3.5),\n",
       " Charges(q=0.0527, x_q=array([-1.198,  2.625,  2.497]), r_q=1.387, atom_name='HD3', res_name='ARG', res_num='2', ion_r_explode=3.5),\n",
       " Charges(q=0.0527, x_q=array([-1.895,  1.207,  3.353]), r_q=1.387, atom_name='HD2', res_name='ARG', res_num='2', ion_r_explode=3.5),\n",
       " Charges(q=-0.565, x_q=array([0.235, 1.119, 3.029]), r_q=1.824, atom_name='NE', res_name='ARG', res_num='2', ion_r_explode=3.5),\n",
       " Charges(q=0.3592, x_q=array([0.984, 1.814, 3.112]), r_q=0.6, atom_name='HE', res_name='ARG', res_num='2', ion_r_explode=3.5),\n",
       " Charges(q=0.8281, x_q=array([ 0.615, -0.116,  3.339]), r_q=1.908, atom_name='CZ', res_name='ARG', res_num='2', ion_r_explode=3.5),\n",
       " Charges(q=-0.8693, x_q=array([-0.18 , -1.149,  3.297]), r_q=1.824, atom_name='NH1', res_name='ARG', res_num='2', ion_r_explode=3.5),\n",
       " Charges(q=0.4494, x_q=array([-1.134, -0.929,  3.001]), r_q=0.6, atom_name='HH11', res_name='ARG', res_num='2', ion_r_explode=3.5),\n",
       " Charges(q=0.4494, x_q=array([ 0.188, -2.067,  3.552]), r_q=0.6, atom_name='HH12', res_name='ARG', res_num='2', ion_r_explode=3.5),\n",
       " Charges(q=-0.8693, x_q=array([ 1.844, -0.309,  3.703]), r_q=1.824, atom_name='NH2', res_name='ARG', res_num='2', ion_r_explode=3.5),\n",
       " Charges(q=0.4494, x_q=array([2.453, 0.511, 3.728]), r_q=0.6, atom_name='HH21', res_name='ARG', res_num='2', ion_r_explode=3.5),\n",
       " Charges(q=0.4494, x_q=array([ 2.116, -1.265,  3.938]), r_q=0.6, atom_name='HH22', res_name='ARG', res_num='2', ion_r_explode=3.5)]"
      ]
     },
     "execution_count": 4,
     "metadata": {},
     "output_type": "execute_result"
    }
   ],
   "source": [
    "q_list"
   ]
  },
  {
   "cell_type": "markdown",
   "metadata": {},
   "source": [
    "### Calculate Solvation energy"
   ]
  },
  {
   "cell_type": "code",
   "execution_count": 5,
   "metadata": {},
   "outputs": [
    {
     "name": "stdout",
     "output_type": "stream",
     "text": [
      "-73.13704757700724\n",
      "[-0.0149601  -0.01451289 -0.0165293  -0.01756816 -0.01609127 -0.01400082\n",
      " -0.01420401 -0.01449526 -0.01436105 -0.01478346 -0.01487474 -0.01501364\n",
      " -0.01465445 -0.01440891 -0.01448955 -0.01504634 -0.01500428 -0.01502074\n",
      " -0.01554073 -0.01578378 -0.01580813 -0.01551957 -0.01506542 -0.01584317\n",
      " -0.01652246 -0.01676533 -0.01704408]\n"
     ]
    },
    {
     "data": {
      "text/plain": [
       "-73.13704757700724"
      ]
     },
     "execution_count": 5,
     "metadata": {},
     "output_type": "execute_result"
    }
   ],
   "source": [
    "phi_q = Model.Harmonic_spheres(Model.x_qs,'molecule',R_mol)\n",
    "print(Model.solvation_energy_phi_qs(phi_q))\n",
    "print(phi_q)\n",
    "Model.solvation_energy_phi_qs(phi_q)"
   ]
  },
  {
   "cell_type": "markdown",
   "metadata": {},
   "source": [
    "### Create data_known file"
   ]
  },
  {
   "cell_type": "code",
   "execution_count": 6,
   "metadata": {},
   "outputs": [],
   "source": [
    "\n",
    "def calculate_print_phi(domain,method, num_points, file):\n",
    "\n",
    "    R = R_mol if domain == 'molecule' else Rmax if domain == 'solvent' else None\n",
    "    x = np.random.uniform(-R, R, num_points)\n",
    "    y = np.random.uniform(-R, R, num_points)\n",
    "    z = np.random.uniform(-R, R, num_points)\n",
    "    r = np.sqrt(x**2+y**2+z**2)\n",
    "    X = np.stack([x,y,z], axis=1)\n",
    "\n",
    "    phi_values = Model.phi_known(method,'phi',X,domain,R_mol)\n",
    "\n",
    "    if domain == 'molecule':\n",
    "        for i in range(num_points):\n",
    "            condition = 1 if r[i] <= R_mol else 2\n",
    "            if r[i]<R_mol:\n",
    "                file.write(f\"{condition} {x[i]} {y[i]} {z[i]} {phi_values[i]}\\n\")\n",
    "\n",
    "    elif domain == 'solvent':\n",
    "        for i in range(num_points):\n",
    "            condition = 1 if r[i] <= R_mol else 2\n",
    "            if r[i]>Rmin:\n",
    "                file.write(f\"{condition} {x[i]} {y[i]} {z[i]} {phi_values[i]}\\n\")"
   ]
  },
  {
   "cell_type": "code",
   "execution_count": 7,
   "metadata": {},
   "outputs": [
    {
     "name": "stdout",
     "output_type": "stream",
     "text": [
      "/home/martinachondo/PINN/code/Model/pbj/mesh/ExternalSoftware/MSMS/msms -if /home/martinachondo/PINN/code/Molecules/mesh_temp/arg.xyzr -of /home/martinachondo/PINN/code/Molecules/mesh_temp/arg -p 1.4 -d 5 -no_header\n",
      "MSMS 2.6.1 started on tulio\n",
      "Copyright M.F. Sanner (1994)\n",
      "Compilation flags -O2 -DVERBOSE -DTIMING\n",
      "INPUT  /home/martinachondo/PINN/code/Molecules/mesh_temp/arg.xyzr 27 spheres 0 collision only, radii  0.600 to  1.908\n",
      "PARAM  Probe_radius  1.400 density  5.000 hdensity  3.000\n",
      "REDUCED SURFACE ...\n",
      "    RS component 0 identified 13 14 12\n",
      "    0 free edge(s) found in component 0\n",
      "    RS component  #faces  #edges #free_edges  #vertices   genus\n",
      "         0          42       63          0         20      1.5\n",
      "    Time Reduced Surface real: 0.00 user: 0.00 sys: 0.00\n",
      "ANALYTICAL SOLVENT EXCLUDED SURFACE...\n",
      "    Component   0\n",
      "        Time Surface real: 0.00 user: 0.00 sys: 0.00\n",
      "        Time Singularities real: 0.00 user: 0.00 sys: 0.00\n",
      "    SES comp.  #fac.  #edg. #s_edg. #vert. #s_vert. R_h C_h genus\n",
      "         0      128    252      0     126        0   0   0    0\n",
      "ANALYTICAL SURFACE AREA :\n",
      "    Comp. probe_radius,   reent,    toric,   contact    SES       SAS\n",
      "      0       1.400      17.975    74.593   105.479   198.047   383.835\n",
      "TRIANGULATION...\n",
      "    Component 0\n",
      "    component#, vertices,  edges,  faces, genus, density\n",
      "        0            823    2463    1642    0     4.156\n",
      "        Time Triangulation real: 0.00 user: 0.00 sys: 0.00\n",
      "NUMERICAL VOLUMES AND AREA\n",
      "    Comp. probe_radius SES_volume SES_area)\n",
      "       0      1.40      195.547    195.221\n",
      "    Total ses_volume:   195.547\n",
      "MSMS terminated normally\n",
      "Total Time real: 0.02 user: 0.00 sys: 0.00\n"
     ]
    },
    {
     "name": "stderr",
     "output_type": "stream",
     "text": [
      "WARNING: atoms 23 is completely inside atom 21\n",
      "WARNING: atoms 22 is completely inside atom 21\n",
      "WARNING: atoms 6 is completely inside atom 5\n",
      "WARNING: atoms 19 is completely inside atom 18\n",
      "WARNING: atoms 26 is completely inside atom 24\n",
      "WARNING: atoms 25 is completely inside atom 24\n"
     ]
    },
    {
     "name": "stdout",
     "output_type": "stream",
     "text": [
      "File created\n"
     ]
    }
   ],
   "source": [
    "with open(os.path.join(file_path,molecule,'data_known.dat'), 'w') as file:\n",
    "    calculate_print_phi('solvent','pbj',300, file)\n",
    "    # calculate_print_phi('molecule','Harmonic_spheres',300, file)\n",
    "\n",
    "print('File created')"
   ]
  },
  {
   "cell_type": "code",
   "execution_count": null,
   "metadata": {},
   "outputs": [],
   "source": []
  },
  {
   "cell_type": "code",
   "execution_count": null,
   "metadata": {},
   "outputs": [],
   "source": []
  }
 ],
 "metadata": {
  "kernelspec": {
   "display_name": "pbj",
   "language": "python",
   "name": "python3"
  },
  "language_info": {
   "codemirror_mode": {
    "name": "ipython",
    "version": 3
   },
   "file_extension": ".py",
   "mimetype": "text/x-python",
   "name": "python",
   "nbconvert_exporter": "python",
   "pygments_lexer": "ipython3",
   "version": "3.8.18"
  },
  "orig_nbformat": 4
 },
 "nbformat": 4,
 "nbformat_minor": 2
}
